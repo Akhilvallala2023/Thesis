{
  "nbformat": 4,
  "nbformat_minor": 0,
  "metadata": {
    "colab": {
      "provenance": []
    },
    "kernelspec": {
      "name": "python3",
      "display_name": "Python 3"
    },
    "language_info": {
      "name": "python"
    }
  },
  "cells": [
    {
      "cell_type": "code",
      "source": [
        "!pip install pylatexenc"
      ],
      "metadata": {
        "colab": {
          "base_uri": "https://localhost:8080/"
        },
        "id": "PgjR7OBuvMtb",
        "outputId": "501e38e7-23b0-4ff8-d92a-854c003313f0"
      },
      "execution_count": 2,
      "outputs": [
        {
          "output_type": "stream",
          "name": "stdout",
          "text": [
            "Collecting pylatexenc\n",
            "  Downloading pylatexenc-2.10.tar.gz (162 kB)\n",
            "\u001b[?25l     \u001b[90m━━━━━━━━━━━━━━━━━━━━━━━━━━━━━━━━━━━━━━━━\u001b[0m \u001b[32m0.0/162.6 kB\u001b[0m \u001b[31m?\u001b[0m eta \u001b[36m-:--:--\u001b[0m\r\u001b[2K     \u001b[90m━━━━━━━━━━━━━━━━━━━━━━━━━━━━━━━━━━━━━━━━\u001b[0m \u001b[32m162.6/162.6 kB\u001b[0m \u001b[31m4.9 MB/s\u001b[0m eta \u001b[36m0:00:00\u001b[0m\n",
            "\u001b[?25h  Preparing metadata (setup.py) ... \u001b[?25l\u001b[?25hdone\n",
            "Building wheels for collected packages: pylatexenc\n",
            "  Building wheel for pylatexenc (setup.py) ... \u001b[?25l\u001b[?25hdone\n",
            "  Created wheel for pylatexenc: filename=pylatexenc-2.10-py3-none-any.whl size=136816 sha256=179e7546693f095ae8e3638ad7fa3db4b3f3e00fb0e8dca5aaeefaac3a4b1e27\n",
            "  Stored in directory: /root/.cache/pip/wheels/b1/7a/33/9fdd892f784ed4afda62b685ae3703adf4c91aa0f524c28f03\n",
            "Successfully built pylatexenc\n",
            "Installing collected packages: pylatexenc\n",
            "Successfully installed pylatexenc-2.10\n",
            "Collecting ace_tools\n",
            "  Downloading ace_tools-0.0-py3-none-any.whl.metadata (300 bytes)\n",
            "Downloading ace_tools-0.0-py3-none-any.whl (1.1 kB)\n",
            "Installing collected packages: ace_tools\n",
            "Successfully installed ace_tools-0.0\n"
          ]
        }
      ]
    },
    {
      "cell_type": "code",
      "source": [
        "import pandas as pd\n",
        "import re\n",
        "from pylatexenc.latex2text import LatexNodes2Text\n",
        "\n",
        "# Load the dataset\n",
        "file_path = \"/content/SF_train.csv\"\n",
        "df = pd.read_csv(file_path, encoding=\"ISO-8859-1\")\n",
        "\n",
        "# Function to convert LaTeX to human-readable text and remove newlines\n",
        "def convert_latex_to_text(latex_text):\n",
        "    text = LatexNodes2Text().latex_to_text(latex_text)\n",
        "    text = text.replace(\"\\n\", \" \")  # Replace newlines with spaces\n",
        "        # Remove ALL capitalized words (words with only uppercase letters)\n",
        "    text = re.sub(r'\\b[A-Z]{3,}\\b', '', text)  # Matches words with 3+ uppercase letters\n",
        "\n",
        "    # Remove all Beta variations dynamically (small β and capital Β)\n",
        "    text = re.sub(r'[\\u03B2\\u0392]', '', text)  # Unicode for β (small beta) and Β (capital Beta)\n",
        "\n",
        "    # Remove any standalone \"§\" symbols left\n",
        "    text = re.sub(r'§+', '', text)\n",
        "\n",
        "    # Remove extra spaces\n",
        "    text = re.sub(r'\\s+', ' ', text).strip()\n",
        "    return text\n",
        "\n",
        "# Apply conversion to Questions and Solutions\n",
        "df[\"Readable_Questions\"] = df[\"Questions\"].apply(convert_latex_to_text)\n",
        "df[\"Readable_Solutions\"] = df[\"Solutions\"].apply(convert_latex_to_text)\n",
        "\n",
        "# Display the updated dataset\n",
        "print(df.head())\n",
        "\n",
        "# Save the cleaned dataset\n",
        "df.to_csv(\"/content/SF_train_cleaned.csv\", index=False)\n",
        "print(\"Cleaned dataset saved as SF_train_cleaned.csv\")\n"
      ],
      "metadata": {
        "colab": {
          "base_uri": "https://localhost:8080/"
        },
        "id": "nCjnKlkKu6SE",
        "outputId": "41e51aa2-52dc-4937-bae8-12c1c0d1ddd5"
      },
      "execution_count": 7,
      "outputs": [
        {
          "output_type": "stream",
          "name": "stdout",
          "text": [
            "   Question_number                                          Questions  \\\n",
            "0              1.1  \\documentclass{article}\\n\\usepackage{amsmath}\\...   \n",
            "1              1.2  \\documentclass{article}\\n\\usepackage{amsmath}\\...   \n",
            "2              1.3  \\documentclass{article}\\n\\usepackage{amsmath}\\...   \n",
            "3              1.4  \\documentclass{article}\\n\\usepackage{amsmath}\\...   \n",
            "4              1.5  \\documentclass{article}\\n\\usepackage{amsmath}\\...   \n",
            "\n",
            "              Sub-category                Category  \\\n",
            "0  Motion in One Dimension  Kinematics and statics   \n",
            "1  Motion in One Dimension  Kinematics and statics   \n",
            "2  Motion in One Dimension  Kinematics and statics   \n",
            "3  Motion in One Dimension  Kinematics and statics   \n",
            "4  Motion in One Dimension  Kinematics and statics   \n",
            "\n",
            "                                           Solutions  \\\n",
            "0  \\documentclass{article}\\n\\usepackage{amsmath}\\...   \n",
            "1  \\documentclass{article}\\n\\usepackage{amsmath}\\...   \n",
            "2  \\documentclass{article}\\n\\usepackage{amsmath}\\...   \n",
            "3  \\documentclass{article}\\n\\usepackage{amsmath}\\...   \n",
            "4  \\documentclass{article}\\n\\usepackage{amsmath}\\...   \n",
            "\n",
            "                                  Readable_Questions  \\\n",
            "0  A car starts from rest at a constant accelerat...   \n",
            "1  From an elevated point A, a stone is projected...   \n",
            "2  Consider two stones in motion: 1. The first st...   \n",
            "3  A particle moves according to the law x = A si...   \n",
            "4  A man of height 1.8 m walks away from a lamp a...   \n",
            "\n",
            "                                  Readable_Solutions  \n",
            "0  : OF . (a) Equations of Motion The equation of...  \n",
            "1  When the stone reaches a height h above A, we ...  \n",
            "2  Let the stones meet at a height s from the ear...  \n",
            "3  The displacement of a particle undergoing simp...  \n",
            "4  < g r a p h i c s > Diagram showing the lamp, ...  \n",
            "Cleaned dataset saved as SF_train_cleaned.csv\n"
          ]
        }
      ]
    },
    {
      "cell_type": "code",
      "source": [],
      "metadata": {
        "id": "EnUOLFrOwMhb"
      },
      "execution_count": null,
      "outputs": []
    }
  ]
}