{
 "cells": [
  {
   "cell_type": "code",
   "execution_count": 3,
   "id": "9afbadc2-a93f-430c-97a2-01e4d9d3c1cd",
   "metadata": {},
   "outputs": [
    {
     "name": "stdout",
     "output_type": "stream",
     "text": [
      "Total Questions in Dataset: 951\n"
     ]
    },
    {
     "name": "stderr",
     "output_type": "stream",
     "text": [
      "Generating Synthetic Data:   0%|                                                | 0/951 [00:00<?, ?it/s]"
     ]
    },
    {
     "name": "stdout",
     "output_type": "stream",
     "text": [
      "🔹 Generating easy question 1/3 for: A car starts from rest at a constant acceleration ...\n",
      "🔹 Generating easy question 2/3 for: A car starts from rest at a constant acceleration ...\n",
      "⚠️ Validation failed (Unclear). Regenerating answer once...\n",
      "🔹 Generating easy question 3/3 for: A car starts from rest at a constant acceleration ...\n",
      "🔹 Generating medium question 1/3 for: A car starts from rest at a constant acceleration ...\n",
      "🔹 Generating medium question 2/3 for: A car starts from rest at a constant acceleration ...\n",
      "🔹 Generating medium question 3/3 for: A car starts from rest at a constant acceleration ...\n",
      "🔹 Generating hard question 1/3 for: A car starts from rest at a constant acceleration ...\n",
      "🔹 Generating hard question 2/3 for: A car starts from rest at a constant acceleration ...\n",
      "⚠️ Validation failed (Unclear). Regenerating answer once...\n",
      "🔹 Generating hard question 3/3 for: A car starts from rest at a constant acceleration ...\n"
     ]
    },
    {
     "name": "stderr",
     "output_type": "stream",
     "text": [
      "Generating Synthetic Data:   0%|                                    | 1/951 [03:05<48:51:26, 185.14s/it]"
     ]
    },
    {
     "name": "stdout",
     "output_type": "stream",
     "text": [
      "🔹 Generating easy question 1/3 for: From an elevated point A, a stone is projected ver...\n",
      "⚠️ Validation failed (Incorrect). Regenerating answer once...\n",
      "🔹 Generating easy question 2/3 for: From an elevated point A, a stone is projected ver...\n",
      "🔹 Generating easy question 3/3 for: From an elevated point A, a stone is projected ver...\n",
      "🔹 Generating medium question 1/3 for: From an elevated point A, a stone is projected ver...\n",
      "⚠️ Validation failed (Incorrect). Regenerating answer once...\n",
      "🔹 Generating medium question 2/3 for: From an elevated point A, a stone is projected ver...\n",
      "⚠️ Validation failed (Incorrect). Regenerating answer once...\n",
      "🔹 Generating medium question 3/3 for: From an elevated point A, a stone is projected ver...\n",
      "⚠️ Validation failed (Unclear). Regenerating answer once...\n",
      "🔹 Generating hard question 1/3 for: From an elevated point A, a stone is projected ver...\n",
      "🔹 Generating hard question 2/3 for: From an elevated point A, a stone is projected ver...\n",
      "⚠️ Validation failed (Incorrect). Regenerating answer once...\n",
      "🔹 Generating hard question 3/3 for: From an elevated point A, a stone is projected ver...\n",
      "⚠️ Error: 400 - {\"error\":{\"message\":\"TC_PROVIDER_ERROR: Request timed out. - timeout value=10.0, time taken=31.48 seconds\",\"type\":\"invalid_request_error\",\"code\":null,\"param\":null}}. Retrying in 60 seconds...\n"
     ]
    },
    {
     "name": "stderr",
     "output_type": "stream",
     "text": [
      "Generating Synthetic Data:   0%|                                    | 2/951 [08:01<66:05:41, 250.73s/it]"
     ]
    },
    {
     "name": "stdout",
     "output_type": "stream",
     "text": [
      "🔹 Generating easy question 1/3 for: Consider two stones in motion: 1. The first stone ...\n",
      "🔹 Generating easy question 2/3 for: Consider two stones in motion: 1. The first stone ...\n",
      "⚠️ Validation failed (Unclear). Regenerating answer once...\n",
      "🔹 Generating easy question 3/3 for: Consider two stones in motion: 1. The first stone ...\n",
      "⚠️ Validation failed (Incorrect). Regenerating answer once...\n",
      "🔹 Generating medium question 1/3 for: Consider two stones in motion: 1. The first stone ...\n",
      "⚠️ Validation failed (Unclear). Regenerating answer once...\n",
      "🔹 Generating medium question 2/3 for: Consider two stones in motion: 1. The first stone ...\n",
      "⚠️ Validation failed (Unclear). Regenerating answer once...\n",
      "🔹 Generating medium question 3/3 for: Consider two stones in motion: 1. The first stone ...\n",
      "⚠️ Validation failed (Unclear). Regenerating answer once...\n",
      "🔹 Generating hard question 1/3 for: Consider two stones in motion: 1. The first stone ...\n",
      "🔹 Generating hard question 2/3 for: Consider two stones in motion: 1. The first stone ...\n",
      "⚠️ Validation failed (Unclear). Regenerating answer once...\n",
      "🔹 Generating hard question 3/3 for: Consider two stones in motion: 1. The first stone ...\n",
      "⚠️ Validation failed (Unclear). Regenerating answer once...\n"
     ]
    },
    {
     "name": "stderr",
     "output_type": "stream",
     "text": [
      "Generating Synthetic Data:   0%|                                    | 3/951 [11:24<60:18:16, 229.00s/it]"
     ]
    },
    {
     "name": "stdout",
     "output_type": "stream",
     "text": [
      "🔹 Generating easy question 1/3 for: A particle moves according to the law x = A sin(Ï...\n",
      "🔹 Generating easy question 2/3 for: A particle moves according to the law x = A sin(Ï...\n",
      "🔹 Generating easy question 3/3 for: A particle moves according to the law x = A sin(Ï...\n",
      "🔹 Generating medium question 1/3 for: A particle moves according to the law x = A sin(Ï...\n",
      "🔹 Generating medium question 2/3 for: A particle moves according to the law x = A sin(Ï...\n",
      "🔹 Generating medium question 3/3 for: A particle moves according to the law x = A sin(Ï...\n",
      "⚠️ Validation failed (Unclear). Regenerating answer once...\n",
      "🔹 Generating hard question 1/3 for: A particle moves according to the law x = A sin(Ï...\n",
      "🔹 Generating hard question 2/3 for: A particle moves according to the law x = A sin(Ï...\n",
      "🔹 Generating hard question 3/3 for: A particle moves according to the law x = A sin(Ï...\n"
     ]
    },
    {
     "name": "stderr",
     "output_type": "stream",
     "text": [
      "Generating Synthetic Data:   0%|▏                                   | 4/951 [13:01<46:29:41, 176.75s/it]"
     ]
    },
    {
     "name": "stdout",
     "output_type": "stream",
     "text": [
      "🔹 Generating easy question 1/3 for: A man of height 1.8 m walks away from a lamp at a ...\n",
      "⚠️ Validation failed (Incorrect). Regenerating answer once...\n",
      "🔹 Generating easy question 2/3 for: A man of height 1.8 m walks away from a lamp at a ...\n",
      "🔹 Generating easy question 3/3 for: A man of height 1.8 m walks away from a lamp at a ...\n",
      "🔹 Generating medium question 1/3 for: A man of height 1.8 m walks away from a lamp at a ...\n",
      "🔹 Generating medium question 2/3 for: A man of height 1.8 m walks away from a lamp at a ...\n",
      "🔹 Generating medium question 3/3 for: A man of height 1.8 m walks away from a lamp at a ...\n",
      "🔹 Generating hard question 1/3 for: A man of height 1.8 m walks away from a lamp at a ...\n",
      "🔹 Generating hard question 2/3 for: A man of height 1.8 m walks away from a lamp at a ...\n",
      "⚠️ Validation failed (Unclear). Regenerating answer once...\n",
      "🔹 Generating hard question 3/3 for: A man of height 1.8 m walks away from a lamp at a ...\n",
      "⚠️ Validation failed (Incorrect). Regenerating answer once...\n"
     ]
    },
    {
     "name": "stderr",
     "output_type": "stream",
     "text": [
      "Generating Synthetic Data:   1%|▏                                   | 5/951 [15:38<44:36:09, 169.73s/it]"
     ]
    },
    {
     "name": "stdout",
     "output_type": "stream",
     "text": [
      "🔹 Generating easy question 1/3 for: The relation 3t = â(3x) + 6 describes the displa...\n",
      "🔹 Generating easy question 2/3 for: The relation 3t = â(3x) + 6 describes the displa...\n",
      "🔹 Generating easy question 3/3 for: The relation 3t = â(3x) + 6 describes the displa...\n",
      "🔹 Generating medium question 1/3 for: The relation 3t = â(3x) + 6 describes the displa...\n",
      "🔹 Generating medium question 2/3 for: The relation 3t = â(3x) + 6 describes the displa...\n",
      "🔹 Generating medium question 3/3 for: The relation 3t = â(3x) + 6 describes the displa...\n",
      "🔹 Generating hard question 1/3 for: The relation 3t = â(3x) + 6 describes the displa...\n",
      "⚠️ Validation failed (Unclear). Regenerating answer once...\n",
      "🔹 Generating hard question 2/3 for: The relation 3t = â(3x) + 6 describes the displa...\n",
      "🔹 Generating hard question 3/3 for: The relation 3t = â(3x) + 6 describes the displa...\n"
     ]
    },
    {
     "name": "stderr",
     "output_type": "stream",
     "text": [
      "Generating Synthetic Data:   1%|▏                                   | 6/951 [17:31<39:25:18, 150.18s/it]"
     ]
    },
    {
     "name": "stdout",
     "output_type": "stream",
     "text": [
      "🔹 Generating easy question 1/3 for: A particle projected upwards passes the same heigh...\n",
      "🔹 Generating easy question 2/3 for: A particle projected upwards passes the same heigh...\n",
      "⚠️ Validation failed (Incorrect). Regenerating answer once...\n",
      "🔹 Generating easy question 3/3 for: A particle projected upwards passes the same heigh...\n",
      "🔹 Generating medium question 1/3 for: A particle projected upwards passes the same heigh...\n",
      "🔹 Generating medium question 2/3 for: A particle projected upwards passes the same heigh...\n",
      "🔹 Generating medium question 3/3 for: A particle projected upwards passes the same heigh...\n",
      "🔹 Generating hard question 1/3 for: A particle projected upwards passes the same heigh...\n",
      "🔹 Generating hard question 2/3 for: A particle projected upwards passes the same heigh...\n",
      "🔹 Generating hard question 3/3 for: A particle projected upwards passes the same heigh...\n",
      "⚠️ Validation failed (Unclear). Regenerating answer once...\n"
     ]
    },
    {
     "name": "stderr",
     "output_type": "stream",
     "text": [
      "Generating Synthetic Data:   1%|▎                                   | 7/951 [19:01<34:12:50, 130.48s/it]"
     ]
    },
    {
     "name": "stdout",
     "output_type": "stream",
     "text": [
      "🔹 Generating easy question 1/3 for: Cars A and B are travelling in adjacent lanes alon...\n",
      "🔹 Generating easy question 2/3 for: Cars A and B are travelling in adjacent lanes alon...\n",
      "🔹 Generating easy question 3/3 for: Cars A and B are travelling in adjacent lanes alon...\n",
      "🔹 Generating medium question 1/3 for: Cars A and B are travelling in adjacent lanes alon...\n",
      "🔹 Generating medium question 2/3 for: Cars A and B are travelling in adjacent lanes alon...\n",
      "🔹 Generating medium question 3/3 for: Cars A and B are travelling in adjacent lanes alon...\n",
      "⚠️ Validation failed (Incorrect). Regenerating answer once...\n",
      "🔹 Generating hard question 1/3 for: Cars A and B are travelling in adjacent lanes alon...\n",
      "🔹 Generating hard question 2/3 for: Cars A and B are travelling in adjacent lanes alon...\n",
      "⚠️ Validation failed (Unclear). Regenerating answer once...\n",
      "🔹 Generating hard question 3/3 for: Cars A and B are travelling in adjacent lanes alon...\n",
      "⚠️ Validation failed (Unclear). Regenerating answer once...\n"
     ]
    },
    {
     "name": "stderr",
     "output_type": "stream",
     "text": [
      "Generating Synthetic Data:   1%|▎                                   | 8/951 [20:57<33:03:00, 126.17s/it]"
     ]
    },
    {
     "name": "stdout",
     "output_type": "stream",
     "text": [
      "🔹 Generating easy question 1/3 for: Ab stands at a point A in a field at a distance of...\n",
      "🔹 Generating easy question 2/3 for: Ab stands at a point A in a field at a distance of...\n",
      "🔹 Generating easy question 3/3 for: Ab stands at a point A in a field at a distance of...\n",
      "🔹 Generating medium question 1/3 for: Ab stands at a point A in a field at a distance of...\n",
      "🔹 Generating medium question 2/3 for: Ab stands at a point A in a field at a distance of...\n",
      "⚠️ Validation failed (Unclear). Regenerating answer once...\n",
      "🔹 Generating medium question 3/3 for: Ab stands at a point A in a field at a distance of...\n",
      "⚠️ Validation failed (Unclear). Regenerating answer once...\n",
      "🔹 Generating hard question 1/3 for: Ab stands at a point A in a field at a distance of...\n",
      "⚠️ Validation failed (Unclear). Regenerating answer once...\n",
      "🔹 Generating hard question 2/3 for: Ab stands at a point A in a field at a distance of...\n",
      "🔹 Generating hard question 3/3 for: Ab stands at a point A in a field at a distance of...\n",
      "⚠️ Validation failed (Incorrect). Regenerating answer once...\n"
     ]
    },
    {
     "name": "stderr",
     "output_type": "stream",
     "text": [
      "Generating Synthetic Data:   1%|▎                                   | 9/951 [24:06<38:08:54, 145.79s/it]"
     ]
    },
    {
     "name": "stdout",
     "output_type": "stream",
     "text": [
      "🔹 Generating easy question 1/3 for: Water drips from the nozzle of a shower onto the f...\n",
      "🔹 Generating easy question 2/3 for: Water drips from the nozzle of a shower onto the f...\n",
      "🔹 Generating easy question 3/3 for: Water drips from the nozzle of a shower onto the f...\n",
      "🔹 Generating medium question 1/3 for: Water drips from the nozzle of a shower onto the f...\n",
      "🔹 Generating medium question 2/3 for: Water drips from the nozzle of a shower onto the f...\n",
      "🔹 Generating medium question 3/3 for: Water drips from the nozzle of a shower onto the f...\n",
      "🔹 Generating hard question 1/3 for: Water drips from the nozzle of a shower onto the f...\n",
      "🔹 Generating hard question 2/3 for: Water drips from the nozzle of a shower onto the f...\n",
      "🔹 Generating hard question 3/3 for: Water drips from the nozzle of a shower onto the f...\n",
      "⚠️ Validation failed (Incorrect). Regenerating answer once...\n"
     ]
    },
    {
     "name": "stderr",
     "output_type": "stream",
     "text": [
      "Generating Synthetic Data:   1%|▎                                  | 10/951 [26:05<35:53:39, 137.32s/it]"
     ]
    },
    {
     "name": "stdout",
     "output_type": "stream",
     "text": [
      "🔹 Generating easy question 1/3 for: The velocityÃ¢ÂÂtime graph for the vertical comp...\n",
      "🔹 Generating easy question 2/3 for: The velocityÃ¢ÂÂtime graph for the vertical comp...\n",
      "🔹 Generating easy question 3/3 for: The velocityÃ¢ÂÂtime graph for the vertical comp...\n",
      "🔹 Generating medium question 1/3 for: The velocityÃ¢ÂÂtime graph for the vertical comp...\n",
      "🔹 Generating medium question 2/3 for: The velocityÃ¢ÂÂtime graph for the vertical comp...\n",
      "🔹 Generating medium question 3/3 for: The velocityÃ¢ÂÂtime graph for the vertical comp...\n",
      "🔹 Generating hard question 1/3 for: The velocityÃ¢ÂÂtime graph for the vertical comp...\n",
      "⚠️ Validation failed (Unclear). Regenerating answer once...\n",
      "🔹 Generating hard question 2/3 for: The velocityÃ¢ÂÂtime graph for the vertical comp...\n",
      "🔹 Generating hard question 3/3 for: The velocityÃ¢ÂÂtime graph for the vertical comp...\n",
      "⚠️ Validation failed (Unclear). Regenerating answer once...\n"
     ]
    },
    {
     "name": "stderr",
     "output_type": "stream",
     "text": [
      "Generating Synthetic Data:   1%|▍                                  | 11/951 [28:04<34:22:49, 131.67s/it]"
     ]
    },
    {
     "name": "stdout",
     "output_type": "stream",
     "text": [
      "🔹 Generating easy question 1/3 for: A ball is dropped into a lake from a diving board ...\n",
      "🔹 Generating easy question 2/3 for: A ball is dropped into a lake from a diving board ...\n",
      "🔹 Generating easy question 3/3 for: A ball is dropped into a lake from a diving board ...\n",
      "🔹 Generating medium question 1/3 for: A ball is dropped into a lake from a diving board ...\n",
      "🔹 Generating medium question 2/3 for: A ball is dropped into a lake from a diving board ...\n",
      "🔹 Generating medium question 3/3 for: A ball is dropped into a lake from a diving board ...\n",
      "🔹 Generating hard question 1/3 for: A ball is dropped into a lake from a diving board ...\n",
      "⚠️ Validation failed (Unclear). Regenerating answer once...\n",
      "🔹 Generating hard question 2/3 for: A ball is dropped into a lake from a diving board ...\n",
      "⚠️ Validation failed (Unclear). Regenerating answer once...\n",
      "🔹 Generating hard question 3/3 for: A ball is dropped into a lake from a diving board ...\n",
      "⚠️ Validation failed (Unclear). Regenerating answer once...\n"
     ]
    },
    {
     "name": "stderr",
     "output_type": "stream",
     "text": [
      "Generating Synthetic Data:   1%|▍                                  | 12/951 [29:57<32:51:38, 125.98s/it]"
     ]
    },
    {
     "name": "stdout",
     "output_type": "stream",
     "text": [
      "🔹 Generating easy question 1/3 for: A stone is dropped into the water from a tower 44....\n",
      "🔹 Generating easy question 2/3 for: A stone is dropped into the water from a tower 44....\n",
      "🔹 Generating easy question 3/3 for: A stone is dropped into the water from a tower 44....\n",
      "🔹 Generating medium question 1/3 for: A stone is dropped into the water from a tower 44....\n",
      "🔹 Generating medium question 2/3 for: A stone is dropped into the water from a tower 44....\n",
      "🔹 Generating medium question 3/3 for: A stone is dropped into the water from a tower 44....\n",
      "⚠️ Validation failed (Unclear). Regenerating answer once...\n",
      "🔹 Generating hard question 1/3 for: A stone is dropped into the water from a tower 44....\n",
      "🔹 Generating hard question 2/3 for: A stone is dropped into the water from a tower 44....\n",
      "🔹 Generating hard question 3/3 for: A stone is dropped into the water from a tower 44....\n"
     ]
    },
    {
     "name": "stderr",
     "output_type": "stream",
     "text": [
      "Generating Synthetic Data:   1%|▍                                  | 13/951 [31:20<29:27:39, 113.07s/it]"
     ]
    },
    {
     "name": "stdout",
     "output_type": "stream",
     "text": [
      "🔹 Generating easy question 1/3 for: An observer sees a cricket ball move up and down p...\n",
      "🔹 Generating easy question 2/3 for: An observer sees a cricket ball move up and down p...\n",
      "🔹 Generating easy question 3/3 for: An observer sees a cricket ball move up and down p...\n",
      "🔹 Generating medium question 1/3 for: An observer sees a cricket ball move up and down p...\n",
      "🔹 Generating medium question 2/3 for: An observer sees a cricket ball move up and down p...\n",
      "🔹 Generating medium question 3/3 for: An observer sees a cricket ball move up and down p...\n",
      "🔹 Generating hard question 1/3 for: An observer sees a cricket ball move up and down p...\n",
      "🔹 Generating hard question 2/3 for: An observer sees a cricket ball move up and down p...\n",
      "🔹 Generating hard question 3/3 for: An observer sees a cricket ball move up and down p...\n",
      "⚠️ Validation failed (Incorrect). Regenerating answer once...\n"
     ]
    },
    {
     "name": "stderr",
     "output_type": "stream",
     "text": [
      "Generating Synthetic Data:   1%|▌                                  | 14/951 [33:27<30:30:38, 117.22s/it]"
     ]
    },
    {
     "name": "stdout",
     "output_type": "stream",
     "text": [
      "🔹 Generating easy question 1/3 for: In the last second of a free fall, a body covered ...\n",
      "🔹 Generating easy question 2/3 for: In the last second of a free fall, a body covered ...\n",
      "🔹 Generating easy question 3/3 for: In the last second of a free fall, a body covered ...\n",
      "⚠️ Validation failed (Unclear). Regenerating answer once...\n",
      "🔹 Generating medium question 1/3 for: In the last second of a free fall, a body covered ...\n",
      "🔹 Generating medium question 2/3 for: In the last second of a free fall, a body covered ...\n",
      "⚠️ Validation failed (Incorrect). Regenerating answer once...\n",
      "🔹 Generating medium question 3/3 for: In the last second of a free fall, a body covered ...\n",
      "⚠️ Validation failed (Unclear). Regenerating answer once...\n",
      "🔹 Generating hard question 1/3 for: In the last second of a free fall, a body covered ...\n",
      "⚠️ Validation failed (Unclear). Regenerating answer once...\n",
      "🔹 Generating hard question 2/3 for: In the last second of a free fall, a body covered ...\n",
      "⚠️ Validation failed (Unclear). Regenerating answer once...\n",
      "🔹 Generating hard question 3/3 for: In the last second of a free fall, a body covered ...\n"
     ]
    },
    {
     "name": "stderr",
     "output_type": "stream",
     "text": [
      "Generating Synthetic Data:   2%|▌                                  | 15/951 [35:42<31:53:32, 122.66s/it]"
     ]
    },
    {
     "name": "stdout",
     "output_type": "stream",
     "text": [
      "🔹 Generating easy question 1/3 for: A man traveling west at 4 km/h finds that the wind...\n",
      "🔹 Generating easy question 2/3 for: A man traveling west at 4 km/h finds that the wind...\n",
      "⚠️ Validation failed (Unclear). Regenerating answer once...\n",
      "🔹 Generating easy question 3/3 for: A man traveling west at 4 km/h finds that the wind...\n",
      "🔹 Generating medium question 1/3 for: A man traveling west at 4 km/h finds that the wind...\n",
      "🔹 Generating medium question 2/3 for: A man traveling west at 4 km/h finds that the wind...\n",
      "⚠️ Validation failed (Unclear). Regenerating answer once...\n",
      "🔹 Generating medium question 3/3 for: A man traveling west at 4 km/h finds that the wind...\n",
      "⚠️ Validation failed (Incorrect). Regenerating answer once...\n",
      "🔹 Generating hard question 1/3 for: A man traveling west at 4 km/h finds that the wind...\n",
      "⚠️ Validation failed (Incorrect). Regenerating answer once...\n",
      "⚠️ Error: 400 - {\"error\":{\"message\":\"TC_PROVIDER_ERROR: Request timed out. - timeout value=10.0, time taken=31.29 seconds\",\"type\":\"invalid_request_error\",\"code\":null,\"param\":null}}. Retrying in 60 seconds...\n",
      "⚠️ Error: 400 - {\"error\":{\"message\":\"TC_PROVIDER_ERROR: Request timed out. - timeout value=10.0, time taken=31.42 seconds\",\"type\":\"invalid_request_error\",\"code\":null,\"param\":null}}. Retrying in 180 seconds...\n",
      "🔹 Generating hard question 2/3 for: A man traveling west at 4 km/h finds that the wind...\n",
      "🔹 Generating hard question 3/3 for: A man traveling west at 4 km/h finds that the wind...\n",
      "⚠️ Validation failed (Unclear). Regenerating answer once...\n"
     ]
    },
    {
     "name": "stderr",
     "output_type": "stream",
     "text": [
      "Generating Synthetic Data:   2%|▌                                  | 16/951 [45:12<66:49:24, 257.29s/it]"
     ]
    },
    {
     "name": "stdout",
     "output_type": "stream",
     "text": [
      "🔹 Generating easy question 1/3 for: An elevator of height h ascends with constant acce...\n",
      "🔹 Generating easy question 2/3 for: An elevator of height h ascends with constant acce...\n",
      "🔹 Generating easy question 3/3 for: An elevator of height h ascends with constant acce...\n",
      "🔹 Generating medium question 1/3 for: An elevator of height h ascends with constant acce...\n",
      "🔹 Generating medium question 2/3 for: An elevator of height h ascends with constant acce...\n",
      "🔹 Generating medium question 3/3 for: An elevator of height h ascends with constant acce...\n",
      "🔹 Generating hard question 1/3 for: An elevator of height h ascends with constant acce...\n",
      "🔹 Generating hard question 2/3 for: An elevator of height h ascends with constant acce...\n",
      "🔹 Generating hard question 3/3 for: An elevator of height h ascends with constant acce...\n",
      "⚠️ Validation failed (Unclear). Regenerating answer once...\n"
     ]
    },
    {
     "name": "stderr",
     "output_type": "stream",
     "text": [
      "Generating Synthetic Data:   2%|▋                                  | 17/951 [46:30<52:47:01, 203.45s/it]"
     ]
    },
    {
     "name": "stdout",
     "output_type": "stream",
     "text": [
      "🔹 Generating easy question 1/3 for: A car and a truck are both traveling with a consta...\n",
      "🔹 Generating easy question 2/3 for: A car and a truck are both traveling with a consta...\n",
      "⚠️ Validation failed (Unclear). Regenerating answer once...\n",
      "🔹 Generating easy question 3/3 for: A car and a truck are both traveling with a consta...\n",
      "⚠️ Validation failed (Unclear). Regenerating answer once...\n",
      "🔹 Generating medium question 1/3 for: A car and a truck are both traveling with a consta...\n",
      "🔹 Generating medium question 2/3 for: A car and a truck are both traveling with a consta...\n",
      "⚠️ Validation failed (Unclear). Regenerating answer once...\n",
      "🔹 Generating medium question 3/3 for: A car and a truck are both traveling with a consta...\n",
      "⚠️ Validation failed (Incorrect). Regenerating answer once...\n",
      "🔹 Generating hard question 1/3 for: A car and a truck are both traveling with a consta...\n",
      "⚠️ Validation failed (Incorrect). Regenerating answer once...\n",
      "🔹 Generating hard question 2/3 for: A car and a truck are both traveling with a consta...\n",
      "⚠️ Validation failed (Unclear). Regenerating answer once...\n",
      "🔹 Generating hard question 3/3 for: A car and a truck are both traveling with a consta...\n"
     ]
    },
    {
     "name": "stderr",
     "output_type": "stream",
     "text": [
      "Generating Synthetic Data:   2%|▋                                  | 18/951 [49:15<49:41:50, 191.76s/it]"
     ]
    },
    {
     "name": "stdout",
     "output_type": "stream",
     "text": [
      "🔹 Generating easy question 1/3 for: a4paper, margin=1in Ship A is 10 km due west of sh...\n",
      "⚠️ Validation failed (Unclear). Regenerating answer once...\n",
      "🔹 Generating easy question 2/3 for: a4paper, margin=1in Ship A is 10 km due west of sh...\n",
      "⚠️ Validation failed (Unclear). Regenerating answer once...\n",
      "🔹 Generating easy question 3/3 for: a4paper, margin=1in Ship A is 10 km due west of sh...\n",
      "🔹 Generating medium question 1/3 for: a4paper, margin=1in Ship A is 10 km due west of sh...\n",
      "⚠️ Validation failed (Unclear). Regenerating answer once...\n",
      "🔹 Generating medium question 2/3 for: a4paper, margin=1in Ship A is 10 km due west of sh...\n",
      "⚠️ Validation failed (Incorrect). Regenerating answer once...\n",
      "🔹 Generating medium question 3/3 for: a4paper, margin=1in Ship A is 10 km due west of sh...\n",
      "⚠️ Validation failed (Unclear). Regenerating answer once...\n",
      "🔹 Generating hard question 1/3 for: a4paper, margin=1in Ship A is 10 km due west of sh...\n",
      "⚠️ Validation failed (Unclear). Regenerating answer once...\n",
      "🔹 Generating hard question 2/3 for: a4paper, margin=1in Ship A is 10 km due west of sh...\n",
      "⚠️ Validation failed (Unclear). Regenerating answer once...\n",
      "🔹 Generating hard question 3/3 for: a4paper, margin=1in Ship A is 10 km due west of sh...\n",
      "⚠️ Validation failed (Unclear). Regenerating answer once...\n"
     ]
    },
    {
     "name": "stderr",
     "output_type": "stream",
     "text": [
      "Generating Synthetic Data:   2%|▋                                  | 19/951 [52:05<47:56:55, 185.21s/it]"
     ]
    },
    {
     "name": "stdout",
     "output_type": "stream",
     "text": [
      "🔹 Generating easy question 1/3 for: A balloon is ascending at the rate of 9.8 m/s at a...\n",
      "🔹 Generating easy question 2/3 for: A balloon is ascending at the rate of 9.8 m/s at a...\n",
      "🔹 Generating easy question 3/3 for: A balloon is ascending at the rate of 9.8 m/s at a...\n",
      "🔹 Generating medium question 1/3 for: A balloon is ascending at the rate of 9.8 m/s at a...\n",
      "🔹 Generating medium question 2/3 for: A balloon is ascending at the rate of 9.8 m/s at a...\n",
      "🔹 Generating medium question 3/3 for: A balloon is ascending at the rate of 9.8 m/s at a...\n",
      "🔹 Generating hard question 1/3 for: A balloon is ascending at the rate of 9.8 m/s at a...\n",
      "🔹 Generating hard question 2/3 for: A balloon is ascending at the rate of 9.8 m/s at a...\n",
      "🔹 Generating hard question 3/3 for: A balloon is ascending at the rate of 9.8 m/s at a...\n"
     ]
    },
    {
     "name": "stderr",
     "output_type": "stream",
     "text": [
      "Generating Synthetic Data:   2%|▋                                  | 20/951 [53:21<39:27:58, 152.61s/it]"
     ]
    },
    {
     "name": "stdout",
     "output_type": "stream",
     "text": [
      "🔹 Generating easy question 1/3 for: An object of mass m is thrown vertically upwards. ...\n",
      "🔹 Generating easy question 2/3 for: An object of mass m is thrown vertically upwards. ...\n",
      "⚠️ Validation failed (Incorrect). Regenerating answer once...\n",
      "🔹 Generating easy question 3/3 for: An object of mass m is thrown vertically upwards. ...\n",
      "🔹 Generating medium question 1/3 for: An object of mass m is thrown vertically upwards. ...\n",
      "🔹 Generating medium question 2/3 for: An object of mass m is thrown vertically upwards. ...\n",
      "⚠️ Validation failed (Incorrect). Regenerating answer once...\n",
      "🔹 Generating medium question 3/3 for: An object of mass m is thrown vertically upwards. ...\n",
      "🔹 Generating hard question 1/3 for: An object of mass m is thrown vertically upwards. ...\n",
      "⚠️ Validation failed (Unclear). Regenerating answer once...\n",
      "🔹 Generating hard question 2/3 for: An object of mass m is thrown vertically upwards. ...\n",
      "🔹 Generating hard question 3/3 for: An object of mass m is thrown vertically upwards. ...\n",
      "⚠️ Validation failed (Incorrect). Regenerating answer once...\n"
     ]
    },
    {
     "name": "stderr",
     "output_type": "stream",
     "text": [
      "Generating Synthetic Data:   2%|▊                                  | 21/951 [55:50<39:05:52, 151.35s/it]"
     ]
    },
    {
     "name": "stdout",
     "output_type": "stream",
     "text": [
      "🔹 Generating easy question 1/3 for: OF A Consider a body of mass m falling under the i...\n",
      "🔹 Generating easy question 2/3 for: OF A Consider a body of mass m falling under the i...\n",
      "🔹 Generating easy question 3/3 for: OF A Consider a body of mass m falling under the i...\n",
      "⚠️ Validation failed (Unclear). Regenerating answer once...\n",
      "🔹 Generating medium question 1/3 for: OF A Consider a body of mass m falling under the i...\n",
      "🔹 Generating medium question 2/3 for: OF A Consider a body of mass m falling under the i...\n",
      "🔹 Generating medium question 3/3 for: OF A Consider a body of mass m falling under the i...\n",
      "🔹 Generating hard question 1/3 for: OF A Consider a body of mass m falling under the i...\n",
      "🔹 Generating hard question 2/3 for: OF A Consider a body of mass m falling under the i...\n",
      "⚠️ Validation failed (Unclear). Regenerating answer once...\n",
      "🔹 Generating hard question 3/3 for: OF A Consider a body of mass m falling under the i...\n"
     ]
    },
    {
     "name": "stderr",
     "output_type": "stream",
     "text": [
      "Generating Synthetic Data:   2%|▊                                  | 22/951 [57:45<36:14:20, 140.43s/it]"
     ]
    },
    {
     "name": "stdout",
     "output_type": "stream",
     "text": [
      "🔹 Generating easy question 1/3 for: A body is projected upward with initial velocity u...\n",
      "🔹 Generating easy question 2/3 for: A body is projected upward with initial velocity u...\n",
      "🔹 Generating easy question 3/3 for: A body is projected upward with initial velocity u...\n",
      "🔹 Generating medium question 1/3 for: A body is projected upward with initial velocity u...\n",
      "⚠️ Validation failed (Incorrect). Regenerating answer once...\n",
      "🔹 Generating medium question 2/3 for: A body is projected upward with initial velocity u...\n",
      "⚠️ Validation failed (Incorrect). Regenerating answer once...\n",
      "🔹 Generating medium question 3/3 for: A body is projected upward with initial velocity u...\n",
      "⚠️ Validation failed (Unclear). Regenerating answer once...\n",
      "🔹 Generating hard question 1/3 for: A body is projected upward with initial velocity u...\n",
      "🔹 Generating hard question 2/3 for: A body is projected upward with initial velocity u...\n",
      "🔹 Generating hard question 3/3 for: A body is projected upward with initial velocity u...\n",
      "⚠️ Validation failed (Unclear). Regenerating answer once...\n"
     ]
    },
    {
     "name": "stderr",
     "output_type": "stream",
     "text": [
      "Generating Synthetic Data:   2%|▊                                | 23/951 [1:00:18<37:11:35, 144.28s/it]"
     ]
    },
    {
     "name": "stdout",
     "output_type": "stream",
     "text": [
      "🔹 Generating easy question 1/3 for: Under the assumption that the air resistance is pr...\n",
      "⚠️ Validation failed (Unclear). Regenerating answer once...\n",
      "🔹 Generating easy question 2/3 for: Under the assumption that the air resistance is pr...\n",
      "⚠️ Validation failed (Unclear). Regenerating answer once...\n",
      "🔹 Generating easy question 3/3 for: Under the assumption that the air resistance is pr...\n",
      "🔹 Generating medium question 1/3 for: Under the assumption that the air resistance is pr...\n",
      "⚠️ Validation failed (Unclear). Regenerating answer once...\n",
      "🔹 Generating medium question 2/3 for: Under the assumption that the air resistance is pr...\n",
      "⚠️ Error: 400 - {\"error\":{\"message\":\"TC_PROVIDER_ERROR: Request timed out. - timeout value=10.0, time taken=31.29 seconds\",\"type\":\"invalid_request_error\",\"code\":null,\"param\":null}}. Retrying in 60 seconds...\n",
      "⚠️ Validation failed (Unclear). Regenerating answer once...\n",
      "🔹 Generating medium question 3/3 for: Under the assumption that the air resistance is pr...\n",
      "🔹 Generating hard question 1/3 for: Under the assumption that the air resistance is pr...\n",
      "🔹 Generating hard question 2/3 for: Under the assumption that the air resistance is pr...\n",
      "⚠️ Validation failed (Unclear). Regenerating answer once...\n",
      "🔹 Generating hard question 3/3 for: Under the assumption that the air resistance is pr...\n",
      "⚠️ Validation failed (Unclear). Regenerating answer once...\n"
     ]
    },
    {
     "name": "stderr",
     "output_type": "stream",
     "text": [
      "Generating Synthetic Data:   3%|▊                                | 24/951 [1:04:59<47:45:15, 185.45s/it]"
     ]
    },
    {
     "name": "stdout",
     "output_type": "stream",
     "text": [
      "🔹 Generating easy question 1/3 for: A particle moving in the xy-plane has velocity com...\n",
      "🔹 Generating easy question 2/3 for: A particle moving in the xy-plane has velocity com...\n",
      "🔹 Generating easy question 3/3 for: A particle moving in the xy-plane has velocity com...\n",
      "🔹 Generating medium question 1/3 for: A particle moving in the xy-plane has velocity com...\n",
      "⚠️ Validation failed (Unclear). Regenerating answer once...\n",
      "🔹 Generating medium question 2/3 for: A particle moving in the xy-plane has velocity com...\n",
      "⚠️ Error: 400 - {\"error\":{\"message\":\"TC_PROVIDER_ERROR: Request timed out. - timeout value=10.0, time taken=31.33 seconds\",\"type\":\"invalid_request_error\",\"code\":null,\"param\":null}}. Retrying in 60 seconds...\n",
      "🔹 Generating medium question 3/3 for: A particle moving in the xy-plane has velocity com...\n",
      "🔹 Generating hard question 1/3 for: A particle moving in the xy-plane has velocity com...\n",
      "🔹 Generating hard question 2/3 for: A particle moving in the xy-plane has velocity com...\n",
      "⚠️ Validation failed (Unclear). Regenerating answer once...\n",
      "🔹 Generating hard question 3/3 for: A particle moving in the xy-plane has velocity com...\n",
      "⚠️ Validation failed (Unclear). Regenerating answer once...\n"
     ]
    },
    {
     "name": "stderr",
     "output_type": "stream",
     "text": [
      "Generating Synthetic Data:   3%|▊                                | 25/951 [1:08:38<50:14:08, 195.30s/it]"
     ]
    },
    {
     "name": "stdout",
     "output_type": "stream",
     "text": [
      "🔹 Generating easy question 1/3 for: Two objects are projected horizontally in opposite...\n",
      "🔹 Generating easy question 2/3 for: Two objects are projected horizontally in opposite...\n",
      "⚠️ Validation failed (Unclear). Regenerating answer once...\n",
      "🔹 Generating easy question 3/3 for: Two objects are projected horizontally in opposite...\n",
      "🔹 Generating medium question 1/3 for: Two objects are projected horizontally in opposite...\n",
      "⚠️ Validation failed (Unclear). Regenerating answer once...\n",
      "🔹 Generating medium question 2/3 for: Two objects are projected horizontally in opposite...\n",
      "⚠️ Validation failed (Unclear). Regenerating answer once...\n",
      "🔹 Generating medium question 3/3 for: Two objects are projected horizontally in opposite...\n",
      "⚠️ Validation failed (Unclear). Regenerating answer once...\n",
      "🔹 Generating hard question 1/3 for: Two objects are projected horizontally in opposite...\n",
      "🔹 Generating hard question 2/3 for: Two objects are projected horizontally in opposite...\n",
      "⚠️ Validation failed (Unclear). Regenerating answer once...\n",
      "🔹 Generating hard question 3/3 for: Two objects are projected horizontally in opposite...\n",
      "⚠️ Validation failed (Unclear). Regenerating answer once...\n"
     ]
    },
    {
     "name": "stderr",
     "output_type": "stream",
     "text": [
      "Generating Synthetic Data:   3%|▉                                | 26/951 [1:11:43<49:23:31, 192.23s/it]"
     ]
    },
    {
     "name": "stdout",
     "output_type": "stream",
     "text": [
      "🔹 Generating easy question 1/3 for: From the ground, an object is projected upward wit...\n",
      "⚠️ Error: 400 - {\"error\":{\"message\":\"TC_PROVIDER_ERROR: Request timed out. - timeout value=10.0, time taken=31.37 seconds\",\"type\":\"invalid_request_error\",\"code\":null,\"param\":null}}. Retrying in 60 seconds...\n",
      "🔹 Generating easy question 2/3 for: From the ground, an object is projected upward wit...\n",
      "⚠️ Validation failed (Incorrect). Regenerating answer once...\n",
      "🔹 Generating easy question 3/3 for: From the ground, an object is projected upward wit...\n",
      "🔹 Generating medium question 1/3 for: From the ground, an object is projected upward wit...\n",
      "⚠️ Validation failed (Incorrect). Regenerating answer once...\n",
      "🔹 Generating medium question 2/3 for: From the ground, an object is projected upward wit...\n",
      "🔹 Generating medium question 3/3 for: From the ground, an object is projected upward wit...\n",
      "🔹 Generating hard question 1/3 for: From the ground, an object is projected upward wit...\n",
      "⚠️ Validation failed (Unclear). Regenerating answer once...\n",
      "🔹 Generating hard question 2/3 for: From the ground, an object is projected upward wit...\n",
      "⚠️ Error: 400 - {\"error\":{\"message\":\"TC_PROVIDER_ERROR: Request timed out. - timeout value=10.0, time taken=31.41 seconds\",\"type\":\"invalid_request_error\",\"code\":null,\"param\":null}}. Retrying in 60 seconds...\n",
      "⚠️ Error: 400 - {\"error\":{\"message\":\"TC_PROVIDER_ERROR: Request timed out. - timeout value=10.0, time taken=31.43 seconds\",\"type\":\"invalid_request_error\",\"code\":null,\"param\":null}}. Retrying in 180 seconds...\n",
      "⚠️ Error: 400 - {\"error\":{\"message\":\"TC_PROVIDER_ERROR: Request timed out. - timeout value=10.0, time taken=31.28 seconds\",\"type\":\"invalid_request_error\",\"code\":null,\"param\":null}}. Retrying in 420 seconds...\n",
      "⚠️ Error: 400 - {\"error\":{\"message\":\"TC_PROVIDER_ERROR: Request timed out. - timeout value=10.0, time taken=31.54 seconds\",\"type\":\"invalid_request_error\",\"code\":null,\"param\":null}}. Retrying in 900 seconds...\n",
      "⚠️ Validation failed (Incorrect). Regenerating answer once...\n",
      "🔹 Generating hard question 3/3 for: From the ground, an object is projected upward wit...\n"
     ]
    },
    {
     "name": "stderr",
     "output_type": "stream",
     "text": [
      "Generating Synthetic Data:   3%|▉                               | 27/951 [1:44:43<187:02:52, 728.76s/it]"
     ]
    },
    {
     "name": "stdout",
     "output_type": "stream",
     "text": [
      "🔹 Generating easy question 1/3 for: As a projectile is fired at an angle Î¸ with the h...\n",
      "🔹 Generating easy question 2/3 for: As a projectile is fired at an angle Î¸ with the h...\n",
      "🔹 Generating easy question 3/3 for: As a projectile is fired at an angle Î¸ with the h...\n",
      "🔹 Generating medium question 1/3 for: As a projectile is fired at an angle Î¸ with the h...\n",
      "⚠️ Validation failed (Incorrect). Regenerating answer once...\n",
      "🔹 Generating medium question 2/3 for: As a projectile is fired at an angle Î¸ with the h...\n",
      "⚠️ Validation failed (Unclear). Regenerating answer once...\n",
      "🔹 Generating medium question 3/3 for: As a projectile is fired at an angle Î¸ with the h...\n",
      "⚠️ Validation failed (Unclear). Regenerating answer once...\n",
      "🔹 Generating hard question 1/3 for: As a projectile is fired at an angle Î¸ with the h...\n",
      "⚠️ Validation failed (Unclear). Regenerating answer once...\n",
      "🔹 Generating hard question 2/3 for: As a projectile is fired at an angle Î¸ with the h...\n",
      "⚠️ Validation failed (Unclear). Regenerating answer once...\n",
      "🔹 Generating hard question 3/3 for: As a projectile is fired at an angle Î¸ with the h...\n",
      "⚠️ Validation failed (Unclear). Regenerating answer once...\n"
     ]
    },
    {
     "name": "stderr",
     "output_type": "stream",
     "text": [
      "Generating Synthetic Data:   3%|▉                               | 28/951 [1:47:16<142:31:50, 555.92s/it]"
     ]
    },
    {
     "name": "stdout",
     "output_type": "stream",
     "text": [
      "🔹 Generating easy question 1/3 for: A stone is thrown from ground level over horizonta...\n",
      "⚠️ Validation failed (Unclear). Regenerating answer once...\n",
      "🔹 Generating easy question 2/3 for: A stone is thrown from ground level over horizonta...\n",
      "🔹 Generating easy question 3/3 for: A stone is thrown from ground level over horizonta...\n",
      "🔹 Generating medium question 1/3 for: A stone is thrown from ground level over horizonta...\n",
      "⚠️ Validation failed (Unclear). Regenerating answer once...\n",
      "🔹 Generating medium question 2/3 for: A stone is thrown from ground level over horizonta...\n",
      "⚠️ Validation failed (Unclear). Regenerating answer once...\n",
      "🔹 Generating medium question 3/3 for: A stone is thrown from ground level over horizonta...\n",
      "⚠️ Validation failed (Unclear). Regenerating answer once...\n",
      "🔹 Generating hard question 1/3 for: A stone is thrown from ground level over horizonta...\n",
      "⚠️ Validation failed (Unclear). Regenerating answer once...\n",
      "🔹 Generating hard question 2/3 for: A stone is thrown from ground level over horizonta...\n",
      "⚠️ Validation failed (Unclear). Regenerating answer once...\n",
      "🔹 Generating hard question 3/3 for: A stone is thrown from ground level over horizonta...\n",
      "⚠️ Validation failed (Unclear). Regenerating answer once...\n"
     ]
    },
    {
     "name": "stderr",
     "output_type": "stream",
     "text": [
      "Generating Synthetic Data:   3%|▉                               | 29/951 [1:49:46<111:09:05, 434.00s/it]"
     ]
    },
    {
     "name": "stdout",
     "output_type": "stream",
     "text": [
      "🔹 Generating easy question 1/3 for: A boy wishes to throw a ball through a house via t...\n",
      "⚠️ Validation failed (Unclear). Regenerating answer once...\n",
      "🔹 Generating easy question 2/3 for: A boy wishes to throw a ball through a house via t...\n",
      "⚠️ Validation failed (Unclear). Regenerating answer once...\n",
      "🔹 Generating easy question 3/3 for: A boy wishes to throw a ball through a house via t...\n",
      "⚠️ Validation failed (Unclear). Regenerating answer once...\n",
      "🔹 Generating medium question 1/3 for: A boy wishes to throw a ball through a house via t...\n",
      "⚠️ Validation failed (Unclear). Regenerating answer once...\n",
      "🔹 Generating medium question 2/3 for: A boy wishes to throw a ball through a house via t...\n",
      "⚠️ Validation failed (Unclear). Regenerating answer once...\n",
      "⚠️ Error: 400 - {\"error\":{\"message\":\"TC_PROVIDER_ERROR: Request timed out. - timeout value=10.0, time taken=31.46 seconds\",\"type\":\"invalid_request_error\",\"code\":null,\"param\":null}}. Retrying in 60 seconds...\n",
      "🔹 Generating medium question 3/3 for: A boy wishes to throw a ball through a house via t...\n",
      "⚠️ Validation failed (Unclear). Regenerating answer once...\n",
      "🔹 Generating hard question 1/3 for: A boy wishes to throw a ball through a house via t...\n",
      "⚠️ Validation failed (Unclear). Regenerating answer once...\n",
      "🔹 Generating hard question 2/3 for: A boy wishes to throw a ball through a house via t...\n",
      "⚠️ Validation failed (Unclear). Regenerating answer once...\n",
      "🔹 Generating hard question 3/3 for: A boy wishes to throw a ball through a house via t...\n",
      "⚠️ Validation failed (Unclear). Regenerating answer once...\n"
     ]
    },
    {
     "name": "stderr",
     "output_type": "stream",
     "text": [
      "Generating Synthetic Data:   3%|█                               | 30/951 [1:54:42<100:30:41, 392.88s/it]"
     ]
    },
    {
     "name": "stdout",
     "output_type": "stream",
     "text": [
      "🔹 Generating easy question 1/3 for: If Î± is the angle of projection, R the range, h t...\n",
      "🔹 Generating easy question 2/3 for: If Î± is the angle of projection, R the range, h t...\n",
      "⚠️ Validation failed (Unclear). Regenerating answer once...\n",
      "🔹 Generating easy question 3/3 for: If Î± is the angle of projection, R the range, h t...\n",
      "🔹 Generating medium question 1/3 for: If Î± is the angle of projection, R the range, h t...\n",
      "🔹 Generating medium question 2/3 for: If Î± is the angle of projection, R the range, h t...\n",
      "🔹 Generating medium question 3/3 for: If Î± is the angle of projection, R the range, h t...\n",
      "🔹 Generating hard question 1/3 for: If Î± is the angle of projection, R the range, h t...\n",
      "⚠️ Validation failed (Unclear). Regenerating answer once...\n",
      "🔹 Generating hard question 2/3 for: If Î± is the angle of projection, R the range, h t...\n",
      "⚠️ Validation failed (Incorrect). Regenerating answer once...\n",
      "🔹 Generating hard question 3/3 for: If Î± is the angle of projection, R the range, h t...\n",
      "⚠️ Validation failed (Unclear). Regenerating answer once...\n"
     ]
    },
    {
     "name": "stderr",
     "output_type": "stream",
     "text": [
      "Generating Synthetic Data:   3%|█                                | 31/951 [1:56:48<79:54:02, 312.66s/it]"
     ]
    },
    {
     "name": "stdout",
     "output_type": "stream",
     "text": [
      "🔹 Generating easy question 1/3 for: A projectile is fired at an angle of 60^â to the...\n",
      "⚠️ Validation failed (Unclear). Regenerating answer once...\n",
      "🔹 Generating easy question 2/3 for: A projectile is fired at an angle of 60^â to the...\n",
      "🔹 Generating easy question 3/3 for: A projectile is fired at an angle of 60^â to the...\n",
      "⚠️ Validation failed (Unclear). Regenerating answer once...\n",
      "🔹 Generating medium question 1/3 for: A projectile is fired at an angle of 60^â to the...\n",
      "🔹 Generating medium question 2/3 for: A projectile is fired at an angle of 60^â to the...\n",
      "⚠️ Validation failed (Unclear). Regenerating answer once...\n",
      "🔹 Generating medium question 3/3 for: A projectile is fired at an angle of 60^â to the...\n",
      "🔹 Generating hard question 1/3 for: A projectile is fired at an angle of 60^â to the...\n",
      "⚠️ Validation failed (Unclear). Regenerating answer once...\n",
      "🔹 Generating hard question 2/3 for: A projectile is fired at an angle of 60^â to the...\n",
      "⚠️ Validation failed (Unclear). Regenerating answer once...\n",
      "🔹 Generating hard question 3/3 for: A projectile is fired at an angle of 60^â to the...\n",
      "⚠️ Validation failed (Unclear). Regenerating answer once...\n"
     ]
    },
    {
     "name": "stderr",
     "output_type": "stream",
     "text": [
      "Generating Synthetic Data:   3%|█                                | 32/951 [1:59:38<68:54:03, 269.91s/it]"
     ]
    },
    {
     "name": "stdout",
     "output_type": "stream",
     "text": [
      "🔹 Generating easy question 1/3 for: An object is projected horizontally with velocity ...\n",
      "🔹 Generating easy question 2/3 for: An object is projected horizontally with velocity ...\n",
      "🔹 Generating easy question 3/3 for: An object is projected horizontally with velocity ...\n",
      "🔹 Generating medium question 1/3 for: An object is projected horizontally with velocity ...\n",
      "⚠️ Validation failed (Incorrect). Regenerating answer once...\n",
      "🔹 Generating medium question 2/3 for: An object is projected horizontally with velocity ...\n",
      "⚠️ Validation failed (Unclear). Regenerating answer once...\n",
      "🔹 Generating medium question 3/3 for: An object is projected horizontally with velocity ...\n",
      "⚠️ Validation failed (Incorrect). Regenerating answer once...\n",
      "🔹 Generating hard question 1/3 for: An object is projected horizontally with velocity ...\n",
      "⚠️ Validation failed (Unclear). Regenerating answer once...\n",
      "🔹 Generating hard question 2/3 for: An object is projected horizontally with velocity ...\n",
      "🔹 Generating hard question 3/3 for: An object is projected horizontally with velocity ...\n",
      "⚠️ Validation failed (Unclear). Regenerating answer once...\n"
     ]
    },
    {
     "name": "stderr",
     "output_type": "stream",
     "text": [
      "Generating Synthetic Data:   3%|█▏                               | 33/951 [2:02:07<59:33:55, 233.59s/it]"
     ]
    },
    {
     "name": "stdout",
     "output_type": "stream",
     "text": [
      "🔹 Generating easy question 1/3 for: Points A and B are on opposite banks of a river of...\n",
      "🔹 Generating easy question 2/3 for: Points A and B are on opposite banks of a river of...\n",
      "🔹 Generating easy question 3/3 for: Points A and B are on opposite banks of a river of...\n",
      "🔹 Generating medium question 1/3 for: Points A and B are on opposite banks of a river of...\n",
      "🔹 Generating medium question 2/3 for: Points A and B are on opposite banks of a river of...\n",
      "🔹 Generating medium question 3/3 for: Points A and B are on opposite banks of a river of...\n",
      "🔹 Generating hard question 1/3 for: Points A and B are on opposite banks of a river of...\n",
      "🔹 Generating hard question 2/3 for: Points A and B are on opposite banks of a river of...\n",
      "⚠️ Validation failed (Unclear). Regenerating answer once...\n",
      "🔹 Generating hard question 3/3 for: Points A and B are on opposite banks of a river of...\n",
      "⚠️ Validation failed (Unclear). Regenerating answer once...\n"
     ]
    },
    {
     "name": "stderr",
     "output_type": "stream",
     "text": [
      "Generating Synthetic Data:   4%|█▏                               | 34/951 [2:05:29<57:05:46, 224.15s/it]"
     ]
    },
    {
     "name": "stdout",
     "output_type": "stream",
     "text": [
      "🔹 Generating easy question 1/3 for: A ball is thrown from a height h above the ground....\n",
      "🔹 Generating easy question 2/3 for: A ball is thrown from a height h above the ground....\n",
      "🔹 Generating easy question 3/3 for: A ball is thrown from a height h above the ground....\n",
      "🔹 Generating medium question 1/3 for: A ball is thrown from a height h above the ground....\n",
      "🔹 Generating medium question 2/3 for: A ball is thrown from a height h above the ground....\n",
      "⚠️ Validation failed (Unclear). Regenerating answer once...\n",
      "🔹 Generating medium question 3/3 for: A ball is thrown from a height h above the ground....\n",
      "🔹 Generating hard question 1/3 for: A ball is thrown from a height h above the ground....\n",
      "⚠️ Error: 400 - {\"error\":{\"message\":\"TC_PROVIDER_ERROR: Request timed out. - timeout value=10.0, time taken=31.47 seconds\",\"type\":\"invalid_request_error\",\"code\":null,\"param\":null}}. Retrying in 60 seconds...\n",
      "⚠️ Validation failed (Unclear). Regenerating answer once...\n",
      "🔹 Generating hard question 2/3 for: A ball is thrown from a height h above the ground....\n",
      "🔹 Generating hard question 3/3 for: A ball is thrown from a height h above the ground....\n"
     ]
    },
    {
     "name": "stderr",
     "output_type": "stream",
     "text": [
      "Generating Synthetic Data:   4%|█▏                               | 35/951 [2:09:35<58:40:35, 230.61s/it]"
     ]
    },
    {
     "name": "stdout",
     "output_type": "stream",
     "text": [
      "🔹 Generating easy question 1/3 for: Three vector forces ð",
      "_1, ð",
      "_2, and ð",
      "_3 act...\n",
      "⚠️ Error: 400 - {\"error\":{\"message\":\"TC_PROVIDER_ERROR: Request timed out. - timeout value=10.0, time taken=31.35 seconds\",\"type\":\"invalid_request_error\",\"code\":null,\"param\":null}}. Retrying in 60 seconds...\n",
      "⚠️ Validation failed (Incorrect). Regenerating answer once...\n",
      "🔹 Generating easy question 2/3 for: Three vector forces ð",
      "_1, ð",
      "_2, and ð",
      "_3 act...\n",
      "⚠️ Error: 400 - {\"error\":{\"message\":\"TC_PROVIDER_ERROR: Request timed out. - timeout value=10.0, time taken=31.39 seconds\",\"type\":\"invalid_request_error\",\"code\":null,\"param\":null}}. Retrying in 60 seconds...\n",
      "⚠️ Validation failed (Unclear). Regenerating answer once...\n",
      "🔹 Generating easy question 3/3 for: Three vector forces ð",
      "_1, ð",
      "_2, and ð",
      "_3 act...\n",
      "⚠️ Validation failed (Unclear). Regenerating answer once...\n",
      "🔹 Generating medium question 1/3 for: Three vector forces ð",
      "_1, ð",
      "_2, and ð",
      "_3 act...\n",
      "⚠️ Validation failed (Unclear). Regenerating answer once...\n",
      "🔹 Generating medium question 2/3 for: Three vector forces ð",
      "_1, ð",
      "_2, and ð",
      "_3 act...\n",
      "🔹 Generating medium question 3/3 for: Three vector forces ð",
      "_1, ð",
      "_2, and ð",
      "_3 act...\n",
      "⚠️ Validation failed (Incorrect). Regenerating answer once...\n",
      "🔹 Generating hard question 1/3 for: Three vector forces ð",
      "_1, ð",
      "_2, and ð",
      "_3 act...\n",
      "⚠️ Validation failed (Unclear). Regenerating answer once...\n",
      "🔹 Generating hard question 2/3 for: Three vector forces ð",
      "_1, ð",
      "_2, and ð",
      "_3 act...\n",
      "⚠️ Validation failed (Unclear). Regenerating answer once...\n",
      "🔹 Generating hard question 3/3 for: Three vector forces ð",
      "_1, ð",
      "_2, and ð",
      "_3 act...\n",
      "⚠️ Validation failed (Incorrect). Regenerating answer once...\n"
     ]
    },
    {
     "name": "stderr",
     "output_type": "stream",
     "text": [
      "Generating Synthetic Data:   4%|█▏                               | 36/951 [2:16:42<73:34:34, 289.48s/it]"
     ]
    },
    {
     "name": "stdout",
     "output_type": "stream",
     "text": [
      "🔹 Generating easy question 1/3 for: (a) A thin cylindrical wheel of radius r = 40 cm i...\n",
      "⚠️ Validation failed (Incorrect). Regenerating answer once...\n",
      "🔹 Generating easy question 2/3 for: (a) A thin cylindrical wheel of radius r = 40 cm i...\n",
      "🔹 Generating easy question 3/3 for: (a) A thin cylindrical wheel of radius r = 40 cm i...\n",
      "🔹 Generating medium question 1/3 for: (a) A thin cylindrical wheel of radius r = 40 cm i...\n",
      "🔹 Generating medium question 2/3 for: (a) A thin cylindrical wheel of radius r = 40 cm i...\n",
      "⚠️ Validation failed (Unclear). Regenerating answer once...\n",
      "🔹 Generating medium question 3/3 for: (a) A thin cylindrical wheel of radius r = 40 cm i...\n",
      "🔹 Generating hard question 1/3 for: (a) A thin cylindrical wheel of radius r = 40 cm i...\n",
      "⚠️ Validation failed (Unclear). Regenerating answer once...\n",
      "🔹 Generating hard question 2/3 for: (a) A thin cylindrical wheel of radius r = 40 cm i...\n",
      "🔹 Generating hard question 3/3 for: (a) A thin cylindrical wheel of radius r = 40 cm i...\n"
     ]
    },
    {
     "name": "stderr",
     "output_type": "stream",
     "text": [
      "Generating Synthetic Data:   4%|█▎                               | 37/951 [2:18:53<61:28:44, 242.15s/it]"
     ]
    },
    {
     "name": "stdout",
     "output_type": "stream",
     "text": [
      "🔹 Generating easy question 1/3 for: A container of mass 200 kg rests on the back of an...\n",
      "⚠️ Validation failed (Unclear). Regenerating answer once...\n",
      "🔹 Generating easy question 2/3 for: A container of mass 200 kg rests on the back of an...\n",
      "🔹 Generating easy question 3/3 for: A container of mass 200 kg rests on the back of an...\n",
      "🔹 Generating medium question 1/3 for: A container of mass 200 kg rests on the back of an...\n",
      "🔹 Generating medium question 2/3 for: A container of mass 200 kg rests on the back of an...\n",
      "🔹 Generating medium question 3/3 for: A container of mass 200 kg rests on the back of an...\n",
      "⚠️ Validation failed (Unclear). Regenerating answer once...\n",
      "🔹 Generating hard question 1/3 for: A container of mass 200 kg rests on the back of an...\n",
      "⚠️ Validation failed (Unclear). Regenerating answer once...\n",
      "🔹 Generating hard question 2/3 for: A container of mass 200 kg rests on the back of an...\n",
      "⚠️ Validation failed (Incorrect). Regenerating answer once...\n",
      "🔹 Generating hard question 3/3 for: A container of mass 200 kg rests on the back of an...\n"
     ]
    },
    {
     "name": "stderr",
     "output_type": "stream",
     "text": [
      "Generating Synthetic Data:   4%|█▎                               | 38/951 [2:21:21<54:11:50, 213.70s/it]"
     ]
    },
    {
     "name": "stdout",
     "output_type": "stream",
     "text": [
      "🔹 Generating easy question 1/3 for: A wheel of radius r and weight W is to be raised o...\n",
      "🔹 Generating easy question 2/3 for: A wheel of radius r and weight W is to be raised o...\n",
      "🔹 Generating easy question 3/3 for: A wheel of radius r and weight W is to be raised o...\n",
      "🔹 Generating medium question 1/3 for: A wheel of radius r and weight W is to be raised o...\n",
      "🔹 Generating medium question 2/3 for: A wheel of radius r and weight W is to be raised o...\n",
      "🔹 Generating medium question 3/3 for: A wheel of radius r and weight W is to be raised o...\n",
      "🔹 Generating hard question 1/3 for: A wheel of radius r and weight W is to be raised o...\n",
      "⚠️ Validation failed (Unclear). Regenerating answer once...\n",
      "🔹 Generating hard question 2/3 for: A wheel of radius r and weight W is to be raised o...\n",
      "🔹 Generating hard question 3/3 for: A wheel of radius r and weight W is to be raised o...\n"
     ]
    },
    {
     "name": "stderr",
     "output_type": "stream",
     "text": [
      "Generating Synthetic Data:   4%|█▎                               | 39/951 [2:24:02<50:08:00, 197.90s/it]"
     ]
    },
    {
     "name": "stdout",
     "output_type": "stream",
     "text": [
      "🔹 Generating easy question 1/3 for: A thin uniform wire is bent into a semicircle of r...\n",
      "🔹 Generating easy question 2/3 for: A thin uniform wire is bent into a semicircle of r...\n",
      "⚠️ Validation failed (Unclear). Regenerating answer once...\n",
      "🔹 Generating easy question 3/3 for: A thin uniform wire is bent into a semicircle of r...\n",
      "⚠️ Validation failed (Unclear). Regenerating answer once...\n",
      "🔹 Generating medium question 1/3 for: A thin uniform wire is bent into a semicircle of r...\n",
      "🔹 Generating medium question 2/3 for: A thin uniform wire is bent into a semicircle of r...\n",
      "⚠️ Validation failed (Unclear). Regenerating answer once...\n",
      "🔹 Generating medium question 3/3 for: A thin uniform wire is bent into a semicircle of r...\n",
      "🔹 Generating hard question 1/3 for: A thin uniform wire is bent into a semicircle of r...\n",
      "🔹 Generating hard question 2/3 for: A thin uniform wire is bent into a semicircle of r...\n",
      "⚠️ Validation failed (Unclear). Regenerating answer once...\n",
      "🔹 Generating hard question 3/3 for: A thin uniform wire is bent into a semicircle of r...\n"
     ]
    },
    {
     "name": "stderr",
     "output_type": "stream",
     "text": [
      "Generating Synthetic Data:   4%|█▍                               | 40/951 [2:27:02<48:44:43, 192.63s/it]"
     ]
    },
    {
     "name": "stdout",
     "output_type": "stream",
     "text": [
      "🔹 Generating easy question 1/3 for: Find the center of mass of a semicircular disc of ...\n",
      "⚠️ Validation failed (Unclear). Regenerating answer once...\n",
      "🔹 Generating easy question 2/3 for: Find the center of mass of a semicircular disc of ...\n",
      "⚠️ Validation failed (Unclear). Regenerating answer once...\n",
      "🔹 Generating easy question 3/3 for: Find the center of mass of a semicircular disc of ...\n",
      "⚠️ Validation failed (Incorrect). Regenerating answer once...\n",
      "🔹 Generating medium question 1/3 for: Find the center of mass of a semicircular disc of ...\n",
      "⚠️ Validation failed (Unclear). Regenerating answer once...\n",
      "🔹 Generating medium question 2/3 for: Find the center of mass of a semicircular disc of ...\n",
      "🔹 Generating medium question 3/3 for: Find the center of mass of a semicircular disc of ...\n",
      "⚠️ Validation failed (Incorrect). Regenerating answer once...\n",
      "🔹 Generating hard question 1/3 for: Find the center of mass of a semicircular disc of ...\n",
      "⚠️ Validation failed (Unclear). Regenerating answer once...\n",
      "🔹 Generating hard question 2/3 for: Find the center of mass of a semicircular disc of ...\n",
      "🔹 Generating hard question 3/3 for: Find the center of mass of a semicircular disc of ...\n",
      "⚠️ Validation failed (Unclear). Regenerating answer once...\n"
     ]
    },
    {
     "name": "stderr",
     "output_type": "stream",
     "text": [
      "Generating Synthetic Data:   4%|█▍                               | 41/951 [2:30:05<47:58:14, 189.77s/it]"
     ]
    },
    {
     "name": "stdout",
     "output_type": "stream",
     "text": [
      "🔹 Generating easy question 1/3 for: Locate the center of mass of a uniform solid hemis...\n",
      "⚠️ Validation failed (Incorrect). Regenerating answer once...\n",
      "🔹 Generating easy question 2/3 for: Locate the center of mass of a uniform solid hemis...\n",
      "🔹 Generating easy question 3/3 for: Locate the center of mass of a uniform solid hemis...\n",
      "⚠️ Validation failed (Incorrect). Regenerating answer once...\n",
      "🔹 Generating medium question 1/3 for: Locate the center of mass of a uniform solid hemis...\n",
      "🔹 Generating medium question 2/3 for: Locate the center of mass of a uniform solid hemis...\n",
      "⚠️ Error: 400 - {\"error\":{\"message\":\"TC_PROVIDER_ERROR: Request timed out. - timeout value=10.0, time taken=31.53 seconds\",\"type\":\"invalid_request_error\",\"code\":null,\"param\":null}}. Retrying in 60 seconds...\n",
      "🔹 Generating medium question 3/3 for: Locate the center of mass of a uniform solid hemis...\n",
      "🔹 Generating hard question 1/3 for: Locate the center of mass of a uniform solid hemis...\n",
      "⚠️ Validation failed (Incorrect). Regenerating answer once...\n",
      "🔹 Generating hard question 2/3 for: Locate the center of mass of a uniform solid hemis...\n",
      "⚠️ Validation failed (Incorrect). Regenerating answer once...\n",
      "🔹 Generating hard question 3/3 for: Locate the center of mass of a uniform solid hemis...\n"
     ]
    },
    {
     "name": "stderr",
     "output_type": "stream",
     "text": [
      "Generating Synthetic Data:   4%|█▍                               | 42/951 [2:35:18<57:13:35, 226.64s/it]"
     ]
    },
    {
     "name": "stdout",
     "output_type": "stream",
     "text": [
      "🔹 Generating easy question 1/3 for: At a circular disc of uniform density is of radius...\n",
      "⚠️ Validation failed (Unclear). Regenerating answer once...\n",
      "🔹 Generating easy question 2/3 for: At a circular disc of uniform density is of radius...\n",
      "⚠️ Validation failed (Incorrect). Regenerating answer once...\n",
      "🔹 Generating easy question 3/3 for: At a circular disc of uniform density is of radius...\n",
      "🔹 Generating medium question 1/3 for: At a circular disc of uniform density is of radius...\n",
      "🔹 Generating medium question 2/3 for: At a circular disc of uniform density is of radius...\n",
      "⚠️ Validation failed (Unclear). Regenerating answer once...\n",
      "🔹 Generating medium question 3/3 for: At a circular disc of uniform density is of radius...\n",
      "⚠️ Validation failed (Incorrect). Regenerating answer once...\n",
      "🔹 Generating hard question 1/3 for: At a circular disc of uniform density is of radius...\n",
      "🔹 Generating hard question 2/3 for: At a circular disc of uniform density is of radius...\n",
      "⚠️ Validation failed (Incorrect). Regenerating answer once...\n",
      "🔹 Generating hard question 3/3 for: At a circular disc of uniform density is of radius...\n",
      "⚠️ Validation failed (Unclear). Regenerating answer once...\n"
     ]
    },
    {
     "name": "stderr",
     "output_type": "stream",
     "text": [
      "Generating Synthetic Data:   5%|█▍                               | 43/951 [2:38:14<53:22:29, 211.62s/it]"
     ]
    },
    {
     "name": "stdout",
     "output_type": "stream",
     "text": [
      "🔹 Generating easy question 1/3 for: The mass of the Earth is 81% the mass of the Moon....\n",
      "🔹 Generating easy question 2/3 for: The mass of the Earth is 81% the mass of the Moon....\n",
      "🔹 Generating easy question 3/3 for: The mass of the Earth is 81% the mass of the Moon....\n",
      "🔹 Generating medium question 1/3 for: The mass of the Earth is 81% the mass of the Moon....\n",
      "🔹 Generating medium question 2/3 for: The mass of the Earth is 81% the mass of the Moon....\n",
      "🔹 Generating medium question 3/3 for: The mass of the Earth is 81% the mass of the Moon....\n",
      "🔹 Generating hard question 1/3 for: The mass of the Earth is 81% the mass of the Moon....\n",
      "🔹 Generating hard question 2/3 for: The mass of the Earth is 81% the mass of the Moon....\n",
      "⚠️ Validation failed (Incorrect). Regenerating answer once...\n",
      "🔹 Generating hard question 3/3 for: The mass of the Earth is 81% the mass of the Moon....\n",
      "⚠️ Validation failed (Unclear). Regenerating answer once...\n"
     ]
    },
    {
     "name": "stderr",
     "output_type": "stream",
     "text": [
      "Generating Synthetic Data:   5%|█▌                               | 44/951 [2:40:04<45:36:31, 181.03s/it]"
     ]
    },
    {
     "name": "stdout",
     "output_type": "stream",
     "text": [
      "🔹 Generating easy question 1/3 for: The distance between the centre of carbon and oxyg...\n",
      "🔹 Generating easy question 2/3 for: The distance between the centre of carbon and oxyg...\n",
      "🔹 Generating easy question 3/3 for: The distance between the centre of carbon and oxyg...\n",
      "🔹 Generating medium question 1/3 for: The distance between the centre of carbon and oxyg...\n",
      "🔹 Generating medium question 2/3 for: The distance between the centre of carbon and oxyg...\n",
      "🔹 Generating medium question 3/3 for: The distance between the centre of carbon and oxyg...\n",
      "🔹 Generating hard question 1/3 for: The distance between the centre of carbon and oxyg...\n",
      "🔹 Generating hard question 2/3 for: The distance between the centre of carbon and oxyg...\n",
      "🔹 Generating hard question 3/3 for: The distance between the centre of carbon and oxyg...\n"
     ]
    },
    {
     "name": "stderr",
     "output_type": "stream",
     "text": [
      "Generating Synthetic Data:   5%|█▌                               | 45/951 [2:41:16<37:21:58, 148.47s/it]"
     ]
    },
    {
     "name": "stdout",
     "output_type": "stream",
     "text": [
      "🔹 Generating easy question 1/3 for: a4paper, margin=1in The ammonia molecule NH_3 is i...\n",
      "⚠️ Validation failed (Unclear). Regenerating answer once...\n",
      "🔹 Generating easy question 2/3 for: a4paper, margin=1in The ammonia molecule NH_3 is i...\n",
      "🔹 Generating easy question 3/3 for: a4paper, margin=1in The ammonia molecule NH_3 is i...\n",
      "🔹 Generating medium question 1/3 for: a4paper, margin=1in The ammonia molecule NH_3 is i...\n",
      "⚠️ Validation failed (Unclear). Regenerating answer once...\n",
      "🔹 Generating medium question 2/3 for: a4paper, margin=1in The ammonia molecule NH_3 is i...\n",
      "🔹 Generating medium question 3/3 for: a4paper, margin=1in The ammonia molecule NH_3 is i...\n",
      "🔹 Generating hard question 1/3 for: a4paper, margin=1in The ammonia molecule NH_3 is i...\n",
      "🔹 Generating hard question 2/3 for: a4paper, margin=1in The ammonia molecule NH_3 is i...\n",
      "⚠️ Validation failed (Unclear). Regenerating answer once...\n",
      "🔹 Generating hard question 3/3 for: a4paper, margin=1in The ammonia molecule NH_3 is i...\n",
      "⚠️ Validation failed (Unclear). Regenerating answer once...\n"
     ]
    },
    {
     "name": "stderr",
     "output_type": "stream",
     "text": [
      "Generating Synthetic Data:   5%|█▌                               | 46/951 [2:43:32<36:22:57, 144.73s/it]"
     ]
    },
    {
     "name": "stdout",
     "output_type": "stream",
     "text": [
      "🔹 Generating easy question 1/3 for: A boat of mass 100 kg and length 3 m is at rest in...\n",
      "🔹 Generating easy question 2/3 for: A boat of mass 100 kg and length 3 m is at rest in...\n",
      "🔹 Generating easy question 3/3 for: A boat of mass 100 kg and length 3 m is at rest in...\n",
      "🔹 Generating medium question 1/3 for: A boat of mass 100 kg and length 3 m is at rest in...\n",
      "🔹 Generating medium question 2/3 for: A boat of mass 100 kg and length 3 m is at rest in...\n",
      "🔹 Generating medium question 3/3 for: A boat of mass 100 kg and length 3 m is at rest in...\n",
      "🔹 Generating hard question 1/3 for: A boat of mass 100 kg and length 3 m is at rest in...\n",
      "🔹 Generating hard question 2/3 for: A boat of mass 100 kg and length 3 m is at rest in...\n",
      "⚠️ Validation failed (Unclear). Regenerating answer once...\n",
      "🔹 Generating hard question 3/3 for: A boat of mass 100 kg and length 3 m is at rest in...\n",
      "⚠️ Validation failed (Unclear). Regenerating answer once...\n"
     ]
    },
    {
     "name": "stderr",
     "output_type": "stream",
     "text": [
      "Generating Synthetic Data:   5%|█▋                               | 47/951 [2:45:43<35:16:16, 140.46s/it]"
     ]
    },
    {
     "name": "stdout",
     "output_type": "stream",
     "text": [
      "🔹 Generating easy question 1/3 for: At one end of the rod of length L, a body whose ma...\n",
      "🔹 Generating easy question 2/3 for: At one end of the rod of length L, a body whose ma...\n",
      "🔹 Generating easy question 3/3 for: At one end of the rod of length L, a body whose ma...\n",
      "🔹 Generating medium question 1/3 for: At one end of the rod of length L, a body whose ma...\n",
      "🔹 Generating medium question 2/3 for: At one end of the rod of length L, a body whose ma...\n",
      "🔹 Generating medium question 3/3 for: At one end of the rod of length L, a body whose ma...\n",
      "🔹 Generating hard question 1/3 for: At one end of the rod of length L, a body whose ma...\n",
      "🔹 Generating hard question 2/3 for: At one end of the rod of length L, a body whose ma...\n",
      "🔹 Generating hard question 3/3 for: At one end of the rod of length L, a body whose ma...\n"
     ]
    },
    {
     "name": "stderr",
     "output_type": "stream",
     "text": [
      "Generating Synthetic Data:   5%|█▋                               | 48/951 [2:47:03<30:43:12, 122.47s/it]"
     ]
    },
    {
     "name": "stdout",
     "output_type": "stream",
     "text": [
      "🔹 Generating easy question 1/3 for: Find the center of mass of a solid cone of height ...\n",
      "🔹 Generating easy question 2/3 for: Find the center of mass of a solid cone of height ...\n",
      "🔹 Generating easy question 3/3 for: Find the center of mass of a solid cone of height ...\n",
      "🔹 Generating medium question 1/3 for: Find the center of mass of a solid cone of height ...\n",
      "🔹 Generating medium question 2/3 for: Find the center of mass of a solid cone of height ...\n",
      "🔹 Generating medium question 3/3 for: Find the center of mass of a solid cone of height ...\n",
      "🔹 Generating hard question 1/3 for: Find the center of mass of a solid cone of height ...\n",
      "🔹 Generating hard question 2/3 for: Find the center of mass of a solid cone of height ...\n",
      "⚠️ Validation failed (Unclear). Regenerating answer once...\n",
      "🔹 Generating hard question 3/3 for: Find the center of mass of a solid cone of height ...\n",
      "⚠️ Validation failed (Incorrect). Regenerating answer once...\n"
     ]
    },
    {
     "name": "stderr",
     "output_type": "stream",
     "text": [
      "Generating Synthetic Data:   5%|█▋                               | 49/951 [2:48:44<29:02:21, 115.90s/it]"
     ]
    },
    {
     "name": "stdout",
     "output_type": "stream",
     "text": [
      "🔹 Generating easy question 1/3 for: Find the centre of mass of a wire in the form of a...\n",
      "🔹 Generating easy question 2/3 for: Find the centre of mass of a wire in the form of a...\n",
      "🔹 Generating easy question 3/3 for: Find the centre of mass of a wire in the form of a...\n",
      "🔹 Generating medium question 1/3 for: Find the centre of mass of a wire in the form of a...\n",
      "⚠️ Validation failed (Unclear). Regenerating answer once...\n",
      "🔹 Generating medium question 2/3 for: Find the centre of mass of a wire in the form of a...\n",
      "🔹 Generating medium question 3/3 for: Find the centre of mass of a wire in the form of a...\n",
      "🔹 Generating hard question 1/3 for: Find the centre of mass of a wire in the form of a...\n",
      "🔹 Generating hard question 2/3 for: Find the centre of mass of a wire in the form of a...\n",
      "⚠️ Validation failed (Incorrect). Regenerating answer once...\n",
      "🔹 Generating hard question 3/3 for: Find the centre of mass of a wire in the form of a...\n"
     ]
    },
    {
     "name": "stderr",
     "output_type": "stream",
     "text": [
      "Generating Synthetic Data:   5%|█▋                               | 50/951 [2:50:29<28:09:15, 112.49s/it]"
     ]
    },
    {
     "name": "stdout",
     "output_type": "stream",
     "text": [
      "🔹 Generating easy question 1/3 for: Five identical pigeons are flying together northwa...\n",
      "🔹 Generating easy question 2/3 for: Five identical pigeons are flying together northwa...\n",
      "🔹 Generating easy question 3/3 for: Five identical pigeons are flying together northwa...\n",
      "🔹 Generating medium question 1/3 for: Five identical pigeons are flying together northwa...\n",
      "🔹 Generating medium question 2/3 for: Five identical pigeons are flying together northwa...\n",
      "🔹 Generating medium question 3/3 for: Five identical pigeons are flying together northwa...\n",
      "🔹 Generating hard question 1/3 for: Five identical pigeons are flying together northwa...\n",
      "🔹 Generating hard question 2/3 for: Five identical pigeons are flying together northwa...\n",
      "🔹 Generating hard question 3/3 for: Five identical pigeons are flying together northwa...\n"
     ]
    },
    {
     "name": "stderr",
     "output_type": "stream",
     "text": [
      "Generating Synthetic Data:   5%|█▊                               | 51/951 [2:51:59<26:30:15, 106.02s/it]"
     ]
    },
    {
     "name": "stdout",
     "output_type": "stream",
     "text": [
      "🔹 Generating easy question 1/3 for: The linear density of a rod of length L is directl...\n",
      "🔹 Generating easy question 2/3 for: The linear density of a rod of length L is directl...\n",
      "🔹 Generating easy question 3/3 for: The linear density of a rod of length L is directl...\n",
      "🔹 Generating medium question 1/3 for: The linear density of a rod of length L is directl...\n",
      "🔹 Generating medium question 2/3 for: The linear density of a rod of length L is directl...\n",
      "🔹 Generating medium question 3/3 for: The linear density of a rod of length L is directl...\n",
      "⚠️ Validation failed (Unclear). Regenerating answer once...\n",
      "🔹 Generating hard question 1/3 for: The linear density of a rod of length L is directl...\n",
      "🔹 Generating hard question 2/3 for: The linear density of a rod of length L is directl...\n",
      "🔹 Generating hard question 3/3 for: The linear density of a rod of length L is directl...\n"
     ]
    },
    {
     "name": "stderr",
     "output_type": "stream",
     "text": [
      "Generating Synthetic Data:   5%|█▊                               | 52/951 [2:53:34<25:36:15, 102.53s/it]"
     ]
    },
    {
     "name": "stdout",
     "output_type": "stream",
     "text": [
      "🔹 Generating easy question 1/3 for: Particles of masses m, 2m, 3m, â¦, nm are colline...\n",
      "🔹 Generating easy question 2/3 for: Particles of masses m, 2m, 3m, â¦, nm are colline...\n",
      "⚠️ Validation failed (Unclear). Regenerating answer once...\n",
      "🔹 Generating easy question 3/3 for: Particles of masses m, 2m, 3m, â¦, nm are colline...\n",
      "🔹 Generating medium question 1/3 for: Particles of masses m, 2m, 3m, â¦, nm are colline...\n",
      "🔹 Generating medium question 2/3 for: Particles of masses m, 2m, 3m, â¦, nm are colline...\n",
      "🔹 Generating medium question 3/3 for: Particles of masses m, 2m, 3m, â¦, nm are colline...\n",
      "🔹 Generating hard question 1/3 for: Particles of masses m, 2m, 3m, â¦, nm are colline...\n",
      "🔹 Generating hard question 2/3 for: Particles of masses m, 2m, 3m, â¦, nm are colline...\n",
      "⚠️ Validation failed (Unclear). Regenerating answer once...\n",
      "🔹 Generating hard question 3/3 for: Particles of masses m, 2m, 3m, â¦, nm are colline...\n"
     ]
    },
    {
     "name": "stderr",
     "output_type": "stream",
     "text": [
      "Generating Synthetic Data:   6%|█▉                                | 53/951 [2:55:07<24:50:58, 99.62s/it]"
     ]
    },
    {
     "name": "stdout",
     "output_type": "stream",
     "text": [
      "🔹 Generating easy question 1/3 for: A semicircular disc of radius R has a density Ï w...\n",
      "🔹 Generating easy question 2/3 for: A semicircular disc of radius R has a density Ï w...\n",
      "🔹 Generating easy question 3/3 for: A semicircular disc of radius R has a density Ï w...\n",
      "🔹 Generating medium question 1/3 for: A semicircular disc of radius R has a density Ï w...\n",
      "⚠️ Validation failed (Incorrect). Regenerating answer once...\n",
      "🔹 Generating medium question 2/3 for: A semicircular disc of radius R has a density Ï w...\n",
      "🔹 Generating medium question 3/3 for: A semicircular disc of radius R has a density Ï w...\n",
      "⚠️ Validation failed (Incorrect). Regenerating answer once...\n",
      "🔹 Generating hard question 1/3 for: A semicircular disc of radius R has a density Ï w...\n",
      "⚠️ Validation failed (Unclear). Regenerating answer once...\n",
      "🔹 Generating hard question 2/3 for: A semicircular disc of radius R has a density Ï w...\n",
      "⚠️ Validation failed (Unclear). Regenerating answer once...\n",
      "🔹 Generating hard question 3/3 for: A semicircular disc of radius R has a density Ï w...\n",
      "⚠️ Validation failed (Incorrect). Regenerating answer once...\n"
     ]
    },
    {
     "name": "stderr",
     "output_type": "stream",
     "text": [
      "Generating Synthetic Data:   6%|█▊                               | 54/951 [2:57:11<26:40:38, 107.07s/it]"
     ]
    },
    {
     "name": "stdout",
     "output_type": "stream",
     "text": [
      "🔹 Generating easy question 1/3 for: a4paper, margin=1in Locate the centre of mass of a...\n",
      "🔹 Generating easy question 2/3 for: a4paper, margin=1in Locate the centre of mass of a...\n",
      "🔹 Generating easy question 3/3 for: a4paper, margin=1in Locate the centre of mass of a...\n",
      "🔹 Generating medium question 1/3 for: a4paper, margin=1in Locate the centre of mass of a...\n",
      "🔹 Generating medium question 2/3 for: a4paper, margin=1in Locate the centre of mass of a...\n",
      "🔹 Generating medium question 3/3 for: a4paper, margin=1in Locate the centre of mass of a...\n",
      "🔹 Generating hard question 1/3 for: a4paper, margin=1in Locate the centre of mass of a...\n",
      "🔹 Generating hard question 2/3 for: a4paper, margin=1in Locate the centre of mass of a...\n",
      "⚠️ Validation failed (Unclear). Regenerating answer once...\n",
      "🔹 Generating hard question 3/3 for: a4paper, margin=1in Locate the centre of mass of a...\n"
     ]
    },
    {
     "name": "stderr",
     "output_type": "stream",
     "text": [
      "Generating Synthetic Data:   6%|█▉                               | 55/951 [2:58:54<26:18:26, 105.70s/it]"
     ]
    },
    {
     "name": "stdout",
     "output_type": "stream",
     "text": [
      "🔹 Generating easy question 1/3 for: Three uniform square laminas are placed as in Fig....\n",
      "⚠️ Validation failed (Unclear). Regenerating answer once...\n",
      "🔹 Generating easy question 2/3 for: Three uniform square laminas are placed as in Fig....\n",
      "🔹 Generating easy question 3/3 for: Three uniform square laminas are placed as in Fig....\n",
      "🔹 Generating medium question 1/3 for: Three uniform square laminas are placed as in Fig....\n",
      "🔹 Generating medium question 2/3 for: Three uniform square laminas are placed as in Fig....\n",
      "🔹 Generating medium question 3/3 for: Three uniform square laminas are placed as in Fig....\n",
      "🔹 Generating hard question 1/3 for: Three uniform square laminas are placed as in Fig....\n",
      "🔹 Generating hard question 2/3 for: Three uniform square laminas are placed as in Fig....\n",
      "🔹 Generating hard question 3/3 for: Three uniform square laminas are placed as in Fig....\n"
     ]
    },
    {
     "name": "stderr",
     "output_type": "stream",
     "text": [
      "Generating Synthetic Data:   6%|█▉                               | 56/951 [3:00:31<25:38:39, 103.15s/it]"
     ]
    },
    {
     "name": "stdout",
     "output_type": "stream",
     "text": [
      "🔹 Generating easy question 1/3 for: Consider a particle of mass m moving in one dimens...\n",
      "⚠️ Validation failed (Incorrect). Regenerating answer once...\n",
      "🔹 Generating easy question 2/3 for: Consider a particle of mass m moving in one dimens...\n",
      "🔹 Generating easy question 3/3 for: Consider a particle of mass m moving in one dimens...\n",
      "🔹 Generating medium question 1/3 for: Consider a particle of mass m moving in one dimens...\n",
      "⚠️ Validation failed (Unclear). Regenerating answer once...\n",
      "🔹 Generating medium question 2/3 for: Consider a particle of mass m moving in one dimens...\n",
      "🔹 Generating medium question 3/3 for: Consider a particle of mass m moving in one dimens...\n",
      "🔹 Generating hard question 1/3 for: Consider a particle of mass m moving in one dimens...\n",
      "⚠️ Validation failed (Unclear). Regenerating answer once...\n",
      "🔹 Generating hard question 2/3 for: Consider a particle of mass m moving in one dimens...\n",
      "⚠️ Validation failed (Incorrect). Regenerating answer once...\n",
      "🔹 Generating hard question 3/3 for: Consider a particle of mass m moving in one dimens...\n",
      "⚠️ Validation failed (Unclear). Regenerating answer once...\n"
     ]
    },
    {
     "name": "stderr",
     "output_type": "stream",
     "text": [
      "Generating Synthetic Data:   6%|█▉                               | 57/951 [3:02:42<27:43:18, 111.63s/it]"
     ]
    },
    {
     "name": "stdout",
     "output_type": "stream",
     "text": [
      "🔹 Generating easy question 1/3 for: Consider a particle of mass m moving in one dimens...\n",
      "🔹 Generating easy question 2/3 for: Consider a particle of mass m moving in one dimens...\n",
      "🔹 Generating easy question 3/3 for: Consider a particle of mass m moving in one dimens...\n",
      "🔹 Generating medium question 1/3 for: Consider a particle of mass m moving in one dimens...\n",
      "🔹 Generating medium question 2/3 for: Consider a particle of mass m moving in one dimens...\n",
      "🔹 Generating medium question 3/3 for: Consider a particle of mass m moving in one dimens...\n",
      "🔹 Generating hard question 1/3 for: Consider a particle of mass m moving in one dimens...\n",
      "⚠️ Validation failed (Incorrect). Regenerating answer once...\n",
      "🔹 Generating hard question 2/3 for: Consider a particle of mass m moving in one dimens...\n",
      "⚠️ Validation failed (Unclear). Regenerating answer once...\n",
      "🔹 Generating hard question 3/3 for: Consider a particle of mass m moving in one dimens...\n",
      "⚠️ Validation failed (Unclear). Regenerating answer once...\n"
     ]
    },
    {
     "name": "stderr",
     "output_type": "stream",
     "text": [
      "Generating Synthetic Data:   6%|██                               | 58/951 [3:04:54<29:12:19, 117.74s/it]"
     ]
    },
    {
     "name": "stdout",
     "output_type": "stream",
     "text": [
      "🔹 Generating easy question 1/3 for: Consider a cube resting on a rough horizontal plan...\n",
      "🔹 Generating easy question 2/3 for: Consider a cube resting on a rough horizontal plan...\n",
      "🔹 Generating easy question 3/3 for: Consider a cube resting on a rough horizontal plan...\n",
      "🔹 Generating medium question 1/3 for: Consider a cube resting on a rough horizontal plan...\n",
      "🔹 Generating medium question 2/3 for: Consider a cube resting on a rough horizontal plan...\n",
      "🔹 Generating medium question 3/3 for: Consider a cube resting on a rough horizontal plan...\n",
      "⚠️ Error: 400 - {\"error\":{\"message\":\"TC_PROVIDER_ERROR: Request timed out. - timeout value=10.0, time taken=31.28 seconds\",\"type\":\"invalid_request_error\",\"code\":null,\"param\":null}}. Retrying in 60 seconds...\n",
      "🔹 Generating hard question 1/3 for: Consider a cube resting on a rough horizontal plan...\n",
      "🔹 Generating hard question 2/3 for: Consider a cube resting on a rough horizontal plan...\n",
      "⚠️ Error: 400 - {\"error\":{\"message\":\"TC_PROVIDER_ERROR: Request timed out. - timeout value=10.0, time taken=31.52 seconds\",\"type\":\"invalid_request_error\",\"code\":null,\"param\":null}}. Retrying in 60 seconds...\n",
      "🔹 Generating hard question 3/3 for: Consider a cube resting on a rough horizontal plan...\n"
     ]
    },
    {
     "name": "stderr",
     "output_type": "stream",
     "text": [
      "Generating Synthetic Data:   6%|██                               | 59/951 [3:09:49<42:20:16, 170.87s/it]"
     ]
    },
    {
     "name": "stdout",
     "output_type": "stream",
     "text": [
      "🔹 Generating easy question 1/3 for: A ladder leaning against a smooth wall makes an an...\n",
      "🔹 Generating easy question 2/3 for: A ladder leaning against a smooth wall makes an an...\n",
      "🔹 Generating easy question 3/3 for: A ladder leaning against a smooth wall makes an an...\n",
      "⚠️ Validation failed (Unclear). Regenerating answer once...\n",
      "🔹 Generating medium question 1/3 for: A ladder leaning against a smooth wall makes an an...\n",
      "🔹 Generating medium question 2/3 for: A ladder leaning against a smooth wall makes an an...\n",
      "🔹 Generating medium question 3/3 for: A ladder leaning against a smooth wall makes an an...\n",
      "🔹 Generating hard question 1/3 for: A ladder leaning against a smooth wall makes an an...\n",
      "⚠️ Validation failed (Unclear). Regenerating answer once...\n",
      "🔹 Generating hard question 2/3 for: A ladder leaning against a smooth wall makes an an...\n",
      "⚠️ Validation failed (Unclear). Regenerating answer once...\n",
      "🔹 Generating hard question 3/3 for: A ladder leaning against a smooth wall makes an an...\n"
     ]
    },
    {
     "name": "stderr",
     "output_type": "stream",
     "text": [
      "Generating Synthetic Data:   6%|██                               | 60/951 [3:12:09<39:59:38, 161.59s/it]"
     ]
    },
    {
     "name": "stdout",
     "output_type": "stream",
     "text": [
      "🔹 Generating easy question 1/3 for: Three blocks of masses m_1, m_2, and m_3 are inter...\n",
      "🔹 Generating easy question 2/3 for: Three blocks of masses m_1, m_2, and m_3 are inter...\n",
      "🔹 Generating easy question 3/3 for: Three blocks of masses m_1, m_2, and m_3 are inter...\n",
      "🔹 Generating medium question 1/3 for: Three blocks of masses m_1, m_2, and m_3 are inter...\n",
      "🔹 Generating medium question 2/3 for: Three blocks of masses m_1, m_2, and m_3 are inter...\n",
      "🔹 Generating medium question 3/3 for: Three blocks of masses m_1, m_2, and m_3 are inter...\n",
      "⚠️ Validation failed (Unclear). Regenerating answer once...\n",
      "🔹 Generating hard question 1/3 for: Three blocks of masses m_1, m_2, and m_3 are inter...\n",
      "🔹 Generating hard question 2/3 for: Three blocks of masses m_1, m_2, and m_3 are inter...\n",
      "⚠️ Validation failed (Unclear). Regenerating answer once...\n",
      "🔹 Generating hard question 3/3 for: Three blocks of masses m_1, m_2, and m_3 are inter...\n"
     ]
    },
    {
     "name": "stderr",
     "output_type": "stream",
     "text": [
      "Generating Synthetic Data:   6%|██                               | 61/951 [3:14:06<36:36:14, 148.06s/it]"
     ]
    },
    {
     "name": "stdout",
     "output_type": "stream",
     "text": [
      "🔹 Generating easy question 1/3 for: A block of mass M on a rough horizontal table is d...\n",
      "🔹 Generating easy question 2/3 for: A block of mass M on a rough horizontal table is d...\n",
      "🔹 Generating easy question 3/3 for: A block of mass M on a rough horizontal table is d...\n",
      "🔹 Generating medium question 1/3 for: A block of mass M on a rough horizontal table is d...\n",
      "🔹 Generating medium question 2/3 for: A block of mass M on a rough horizontal table is d...\n",
      "⚠️ Validation failed (Unclear). Regenerating answer once...\n",
      "🔹 Generating medium question 3/3 for: A block of mass M on a rough horizontal table is d...\n",
      "🔹 Generating hard question 1/3 for: A block of mass M on a rough horizontal table is d...\n",
      "🔹 Generating hard question 2/3 for: A block of mass M on a rough horizontal table is d...\n",
      "⚠️ Validation failed (Unclear). Regenerating answer once...\n",
      "🔹 Generating hard question 3/3 for: A block of mass M on a rough horizontal table is d...\n",
      "⚠️ Validation failed (Unclear). Regenerating answer once...\n"
     ]
    },
    {
     "name": "stderr",
     "output_type": "stream",
     "text": [
      "Generating Synthetic Data:   7%|██▏                              | 62/951 [3:16:14<35:04:32, 142.04s/it]"
     ]
    },
    {
     "name": "stdout",
     "output_type": "stream",
     "text": [
      "🔹 Generating easy question 1/3 for: A block of mass m_1 sits on a block of mass m_2, w...\n",
      "🔹 Generating easy question 2/3 for: A block of mass m_1 sits on a block of mass m_2, w...\n",
      "🔹 Generating easy question 3/3 for: A block of mass m_1 sits on a block of mass m_2, w...\n",
      "🔹 Generating medium question 1/3 for: A block of mass m_1 sits on a block of mass m_2, w...\n",
      "🔹 Generating medium question 2/3 for: A block of mass m_1 sits on a block of mass m_2, w...\n",
      "🔹 Generating medium question 3/3 for: A block of mass m_1 sits on a block of mass m_2, w...\n",
      "🔹 Generating hard question 1/3 for: A block of mass m_1 sits on a block of mass m_2, w...\n",
      "🔹 Generating hard question 2/3 for: A block of mass m_1 sits on a block of mass m_2, w...\n",
      "🔹 Generating hard question 3/3 for: A block of mass m_1 sits on a block of mass m_2, w...\n",
      "⚠️ Validation failed (Unclear). Regenerating answer once...\n"
     ]
    },
    {
     "name": "stderr",
     "output_type": "stream",
     "text": [
      "Generating Synthetic Data:   7%|██▏                              | 63/951 [3:18:30<34:39:14, 140.49s/it]"
     ]
    },
    {
     "name": "stdout",
     "output_type": "stream",
     "text": [
      "🔹 Generating easy question 1/3 for: Two blocks, m_1 and m_2, are in contact on a frict...\n",
      "🔹 Generating easy question 2/3 for: Two blocks, m_1 and m_2, are in contact on a frict...\n",
      "🔹 Generating easy question 3/3 for: Two blocks, m_1 and m_2, are in contact on a frict...\n",
      "🔹 Generating medium question 1/3 for: Two blocks, m_1 and m_2, are in contact on a frict...\n",
      "🔹 Generating medium question 2/3 for: Two blocks, m_1 and m_2, are in contact on a frict...\n",
      "⚠️ Validation failed (Unclear). Regenerating answer once...\n",
      "🔹 Generating medium question 3/3 for: Two blocks, m_1 and m_2, are in contact on a frict...\n",
      "🔹 Generating hard question 1/3 for: Two blocks, m_1 and m_2, are in contact on a frict...\n",
      "⚠️ Validation failed (Unclear). Regenerating answer once...\n",
      "🔹 Generating hard question 2/3 for: Two blocks, m_1 and m_2, are in contact on a frict...\n",
      "⚠️ Validation failed (Incorrect). Regenerating answer once...\n",
      "⚠️ Error: 400 - {\"error\":{\"message\":\"TC_PROVIDER_ERROR: Request timed out. - timeout value=10.0, time taken=31.4 seconds\",\"type\":\"invalid_request_error\",\"code\":null,\"param\":null}}. Retrying in 60 seconds...\n",
      "🔹 Generating hard question 3/3 for: Two blocks, m_1 and m_2, are in contact on a frict...\n"
     ]
    },
    {
     "name": "stderr",
     "output_type": "stream",
     "text": [
      "Generating Synthetic Data:   7%|██▏                              | 64/951 [3:22:24<41:28:01, 168.30s/it]"
     ]
    },
    {
     "name": "stdout",
     "output_type": "stream",
     "text": [
      "🔹 Generating easy question 1/3 for: < g r a p h i c s > Fig. 2.4 < g r a p h i c s > F...\n",
      "🔹 Generating easy question 2/3 for: < g r a p h i c s > Fig. 2.4 < g r a p h i c s > F...\n",
      "🔹 Generating easy question 3/3 for: < g r a p h i c s > Fig. 2.4 < g r a p h i c s > F...\n",
      "⚠️ Validation failed (Unclear). Regenerating answer once...\n",
      "🔹 Generating medium question 1/3 for: < g r a p h i c s > Fig. 2.4 < g r a p h i c s > F...\n",
      "🔹 Generating medium question 2/3 for: < g r a p h i c s > Fig. 2.4 < g r a p h i c s > F...\n",
      "🔹 Generating medium question 3/3 for: < g r a p h i c s > Fig. 2.4 < g r a p h i c s > F...\n",
      "🔹 Generating hard question 1/3 for: < g r a p h i c s > Fig. 2.4 < g r a p h i c s > F...\n",
      "⚠️ Validation failed (Incorrect). Regenerating answer once...\n",
      "🔹 Generating hard question 2/3 for: < g r a p h i c s > Fig. 2.4 < g r a p h i c s > F...\n",
      "⚠️ Error: 400 - {\"error\":{\"message\":\"TC_PROVIDER_ERROR: Request timed out. - timeout value=10.0, time taken=31.59 seconds\",\"type\":\"invalid_request_error\",\"code\":null,\"param\":null}}. Retrying in 60 seconds...\n",
      "🔹 Generating hard question 3/3 for: < g r a p h i c s > Fig. 2.4 < g r a p h i c s > F...\n"
     ]
    },
    {
     "name": "stderr",
     "output_type": "stream",
     "text": [
      "Generating Synthetic Data:   7%|██▎                              | 65/951 [3:26:36<47:37:03, 193.48s/it]"
     ]
    },
    {
     "name": "stdout",
     "output_type": "stream",
     "text": [
      "🔹 Generating easy question 1/3 for: A uniform chain of length L lies on a table. If th...\n",
      "🔹 Generating easy question 2/3 for: A uniform chain of length L lies on a table. If th...\n",
      "🔹 Generating easy question 3/3 for: A uniform chain of length L lies on a table. If th...\n",
      "🔹 Generating medium question 1/3 for: A uniform chain of length L lies on a table. If th...\n",
      "🔹 Generating medium question 2/3 for: A uniform chain of length L lies on a table. If th...\n",
      "🔹 Generating medium question 3/3 for: A uniform chain of length L lies on a table. If th...\n",
      "🔹 Generating hard question 1/3 for: A uniform chain of length L lies on a table. If th...\n",
      "⚠️ Error: 400 - {\"error\":{\"message\":\"TC_PROVIDER_ERROR: Request timed out. - timeout value=10.0, time taken=31.47 seconds\",\"type\":\"invalid_request_error\",\"code\":null,\"param\":null}}. Retrying in 60 seconds...\n",
      "⚠️ Error: 400 - {\"error\":{\"message\":\"TC_PROVIDER_ERROR: Request timed out. - timeout value=10.0, time taken=31.3 seconds\",\"type\":\"invalid_request_error\",\"code\":null,\"param\":null}}. Retrying in 180 seconds...\n",
      "⚠️ Validation failed (Unclear). Regenerating answer once...\n",
      "🔹 Generating hard question 2/3 for: A uniform chain of length L lies on a table. If th...\n",
      "🔹 Generating hard question 3/3 for: A uniform chain of length L lies on a table. If th...\n"
     ]
    },
    {
     "name": "stderr",
     "output_type": "stream",
     "text": [
      "Generating Synthetic Data:   7%|██▎                              | 66/951 [3:33:18<62:57:07, 256.08s/it]"
     ]
    },
    {
     "name": "stdout",
     "output_type": "stream",
     "text": [
      "🔹 Generating easy question 1/3 for: A uniform chain of length L and mass M is lying on...\n",
      "🔹 Generating easy question 2/3 for: A uniform chain of length L and mass M is lying on...\n",
      "🔹 Generating easy question 3/3 for: A uniform chain of length L and mass M is lying on...\n",
      "🔹 Generating medium question 1/3 for: A uniform chain of length L and mass M is lying on...\n",
      "⚠️ Validation failed (Incorrect). Regenerating answer once...\n",
      "🔹 Generating medium question 2/3 for: A uniform chain of length L and mass M is lying on...\n",
      "🔹 Generating medium question 3/3 for: A uniform chain of length L and mass M is lying on...\n",
      "🔹 Generating hard question 1/3 for: A uniform chain of length L and mass M is lying on...\n",
      "⚠️ Validation failed (Unclear). Regenerating answer once...\n",
      "🔹 Generating hard question 2/3 for: A uniform chain of length L and mass M is lying on...\n",
      "🔹 Generating hard question 3/3 for: A uniform chain of length L and mass M is lying on...\n"
     ]
    },
    {
     "name": "stderr",
     "output_type": "stream",
     "text": [
      "Generating Synthetic Data:   7%|██▎                              | 67/951 [3:35:31<53:48:15, 219.11s/it]"
     ]
    },
    {
     "name": "stdout",
     "output_type": "stream",
     "text": [
      "🔹 Generating easy question 1/3 for: A block of metal of mass 2 kg on a horizontal tabl...\n",
      "🔹 Generating easy question 2/3 for: A block of metal of mass 2 kg on a horizontal tabl...\n",
      "⚠️ Validation failed (Unclear). Regenerating answer once...\n",
      "🔹 Generating easy question 3/3 for: A block of metal of mass 2 kg on a horizontal tabl...\n",
      "🔹 Generating medium question 1/3 for: A block of metal of mass 2 kg on a horizontal tabl...\n",
      "🔹 Generating medium question 2/3 for: A block of metal of mass 2 kg on a horizontal tabl...\n",
      "⚠️ Validation failed (Incorrect). Regenerating answer once...\n",
      "🔹 Generating medium question 3/3 for: A block of metal of mass 2 kg on a horizontal tabl...\n",
      "⚠️ Error: 400 - {\"error\":{\"message\":\"TC_PROVIDER_ERROR: Request timed out. - timeout value=10.0, time taken=31.34 seconds\",\"type\":\"invalid_request_error\",\"code\":null,\"param\":null}}. Retrying in 60 seconds...\n",
      "⚠️ Validation failed (Incorrect). Regenerating answer once...\n",
      "🔹 Generating hard question 1/3 for: A block of metal of mass 2 kg on a horizontal tabl...\n",
      "🔹 Generating hard question 2/3 for: A block of metal of mass 2 kg on a horizontal tabl...\n",
      "⚠️ Validation failed (Unclear). Regenerating answer once...\n",
      "🔹 Generating hard question 3/3 for: A block of metal of mass 2 kg on a horizontal tabl...\n"
     ]
    },
    {
     "name": "stderr",
     "output_type": "stream",
     "text": [
      "Generating Synthetic Data:   7%|██▎                              | 68/951 [3:39:45<56:20:51, 229.73s/it]"
     ]
    },
    {
     "name": "stdout",
     "output_type": "stream",
     "text": [
      "🔹 Generating easy question 1/3 for: A block of mass m = 2 kg slides on an inclined pla...\n",
      "🔹 Generating easy question 2/3 for: A block of mass m = 2 kg slides on an inclined pla...\n",
      "⚠️ Validation failed (Incorrect). Regenerating answer once...\n",
      "🔹 Generating easy question 3/3 for: A block of mass m = 2 kg slides on an inclined pla...\n",
      "🔹 Generating medium question 1/3 for: A block of mass m = 2 kg slides on an inclined pla...\n",
      "🔹 Generating medium question 2/3 for: A block of mass m = 2 kg slides on an inclined pla...\n",
      "⚠️ Validation failed (Incorrect). Regenerating answer once...\n",
      "🔹 Generating medium question 3/3 for: A block of mass m = 2 kg slides on an inclined pla...\n",
      "🔹 Generating hard question 1/3 for: A block of mass m = 2 kg slides on an inclined pla...\n",
      "🔹 Generating hard question 2/3 for: A block of mass m = 2 kg slides on an inclined pla...\n",
      "⚠️ Validation failed (Unclear). Regenerating answer once...\n",
      "🔹 Generating hard question 3/3 for: A block of mass m = 2 kg slides on an inclined pla...\n",
      "⚠️ Validation failed (Incorrect). Regenerating answer once...\n"
     ]
    },
    {
     "name": "stderr",
     "output_type": "stream",
     "text": [
      "Generating Synthetic Data:   7%|██▍                              | 69/951 [3:42:04<49:35:26, 202.41s/it]"
     ]
    },
    {
     "name": "stdout",
     "output_type": "stream",
     "text": [
      "🔹 Generating easy question 1/3 for: A block is placed on a ramp of parabolic shape giv...\n",
      "🔹 Generating easy question 2/3 for: A block is placed on a ramp of parabolic shape giv...\n",
      "🔹 Generating easy question 3/3 for: A block is placed on a ramp of parabolic shape giv...\n",
      "🔹 Generating medium question 1/3 for: A block is placed on a ramp of parabolic shape giv...\n",
      "⚠️ Validation failed (Unclear). Regenerating answer once...\n",
      "🔹 Generating medium question 2/3 for: A block is placed on a ramp of parabolic shape giv...\n",
      "🔹 Generating medium question 3/3 for: A block is placed on a ramp of parabolic shape giv...\n",
      "🔹 Generating hard question 1/3 for: A block is placed on a ramp of parabolic shape giv...\n",
      "🔹 Generating hard question 2/3 for: A block is placed on a ramp of parabolic shape giv...\n",
      "🔹 Generating hard question 3/3 for: A block is placed on a ramp of parabolic shape giv...\n"
     ]
    },
    {
     "name": "stderr",
     "output_type": "stream",
     "text": [
      "Generating Synthetic Data:   7%|██▍                              | 70/951 [3:43:49<42:24:37, 173.30s/it]"
     ]
    },
    {
     "name": "stdout",
     "output_type": "stream",
     "text": [
      "🔹 Generating easy question 1/3 for: A block slides with constant velocity down an incl...\n",
      "🔹 Generating easy question 2/3 for: A block slides with constant velocity down an incl...\n",
      "⚠️ Validation failed (Unclear). Regenerating answer once...\n",
      "🔹 Generating easy question 3/3 for: A block slides with constant velocity down an incl...\n",
      "🔹 Generating medium question 1/3 for: A block slides with constant velocity down an incl...\n",
      "🔹 Generating medium question 2/3 for: A block slides with constant velocity down an incl...\n",
      "⚠️ Validation failed (Unclear). Regenerating answer once...\n",
      "🔹 Generating medium question 3/3 for: A block slides with constant velocity down an incl...\n",
      "⚠️ Validation failed (Unclear). Regenerating answer once...\n",
      "🔹 Generating hard question 1/3 for: A block slides with constant velocity down an incl...\n",
      "🔹 Generating hard question 2/3 for: A block slides with constant velocity down an incl...\n",
      "⚠️ Validation failed (Unclear). Regenerating answer once...\n",
      "🔹 Generating hard question 3/3 for: A block slides with constant velocity down an incl...\n"
     ]
    },
    {
     "name": "stderr",
     "output_type": "stream",
     "text": [
      "Generating Synthetic Data:   7%|██▍                              | 71/951 [3:46:12<40:05:06, 163.98s/it]"
     ]
    },
    {
     "name": "stdout",
     "output_type": "stream",
     "text": [
      "🔹 Generating easy question 1/3 for: Consider a fixed inclined plane at angle Î¸. Two b...\n",
      "⚠️ Validation failed (Unclear). Regenerating answer once...\n",
      "🔹 Generating easy question 2/3 for: Consider a fixed inclined plane at angle Î¸. Two b...\n",
      "⚠️ Validation failed (Unclear). Regenerating answer once...\n",
      "🔹 Generating easy question 3/3 for: Consider a fixed inclined plane at angle Î¸. Two b...\n",
      "🔹 Generating medium question 1/3 for: Consider a fixed inclined plane at angle Î¸. Two b...\n",
      "⚠️ Validation failed (Unclear). Regenerating answer once...\n",
      "🔹 Generating medium question 2/3 for: Consider a fixed inclined plane at angle Î¸. Two b...\n",
      "🔹 Generating medium question 3/3 for: Consider a fixed inclined plane at angle Î¸. Two b...\n",
      "🔹 Generating hard question 1/3 for: Consider a fixed inclined plane at angle Î¸. Two b...\n",
      "⚠️ Validation failed (Incorrect). Regenerating answer once...\n",
      "🔹 Generating hard question 2/3 for: Consider a fixed inclined plane at angle Î¸. Two b...\n",
      "⚠️ Validation failed (Unclear). Regenerating answer once...\n",
      "🔹 Generating hard question 3/3 for: Consider a fixed inclined plane at angle Î¸. Two b...\n"
     ]
    },
    {
     "name": "stderr",
     "output_type": "stream",
     "text": [
      "Generating Synthetic Data:   8%|██▍                              | 72/951 [3:49:14<41:24:21, 169.58s/it]"
     ]
    },
    {
     "name": "stdout",
     "output_type": "stream",
     "text": [
      "🔹 Generating easy question 1/3 for: A box of mass 1 kg rests on a frictionless incline...\n",
      "🔹 Generating easy question 2/3 for: A box of mass 1 kg rests on a frictionless incline...\n",
      "🔹 Generating easy question 3/3 for: A box of mass 1 kg rests on a frictionless incline...\n",
      "🔹 Generating medium question 1/3 for: A box of mass 1 kg rests on a frictionless incline...\n",
      "🔹 Generating medium question 2/3 for: A box of mass 1 kg rests on a frictionless incline...\n",
      "🔹 Generating medium question 3/3 for: A box of mass 1 kg rests on a frictionless incline...\n",
      "🔹 Generating hard question 1/3 for: A box of mass 1 kg rests on a frictionless incline...\n",
      "🔹 Generating hard question 2/3 for: A box of mass 1 kg rests on a frictionless incline...\n",
      "⚠️ Validation failed (Incorrect). Regenerating answer once...\n",
      "🔹 Generating hard question 3/3 for: A box of mass 1 kg rests on a frictionless incline...\n"
     ]
    },
    {
     "name": "stderr",
     "output_type": "stream",
     "text": [
      "Generating Synthetic Data:   8%|██▌                              | 73/951 [3:50:59<36:38:52, 150.27s/it]"
     ]
    },
    {
     "name": "stdout",
     "output_type": "stream",
     "text": [
      "🔹 Generating easy question 1/3 for: An aw e d g e of mass M is placed on a horizontal ...\n",
      "🔹 Generating easy question 2/3 for: An aw e d g e of mass M is placed on a horizontal ...\n",
      "🔹 Generating easy question 3/3 for: An aw e d g e of mass M is placed on a horizontal ...\n",
      "🔹 Generating medium question 1/3 for: An aw e d g e of mass M is placed on a horizontal ...\n",
      "🔹 Generating medium question 2/3 for: An aw e d g e of mass M is placed on a horizontal ...\n",
      "🔹 Generating medium question 3/3 for: An aw e d g e of mass M is placed on a horizontal ...\n",
      "🔹 Generating hard question 1/3 for: An aw e d g e of mass M is placed on a horizontal ...\n",
      "⚠️ Validation failed (Unclear). Regenerating answer once...\n",
      "🔹 Generating hard question 2/3 for: An aw e d g e of mass M is placed on a horizontal ...\n",
      "⚠️ Validation failed (Unclear). Regenerating answer once...\n",
      "🔹 Generating hard question 3/3 for: An aw e d g e of mass M is placed on a horizontal ...\n",
      "⚠️ Validation failed (Unclear). Regenerating answer once...\n"
     ]
    },
    {
     "name": "stderr",
     "output_type": "stream",
     "text": [
      "Generating Synthetic Data:   8%|██▌                              | 74/951 [3:53:52<38:15:14, 157.03s/it]"
     ]
    },
    {
     "name": "stdout",
     "output_type": "stream",
     "text": [
      "🔹 Generating easy question 1/3 for: Two blocks of masses m_1 and m_2 are connected by ...\n",
      "🔹 Generating easy question 2/3 for: Two blocks of masses m_1 and m_2 are connected by ...\n",
      "⚠️ Validation failed (Unclear). Regenerating answer once...\n",
      "🔹 Generating easy question 3/3 for: Two blocks of masses m_1 and m_2 are connected by ...\n",
      "🔹 Generating medium question 1/3 for: Two blocks of masses m_1 and m_2 are connected by ...\n",
      "⚠️ Warning: Unexpected validation response: Unclear\n",
      "\n",
      "The answer provides a detailed approach to solving the problem, including free body diagrams, equations of motion, and a method to find the acceleration and tension. However, the provided answer is incomplete, as it stops before fully solving for the acceleration. Retrying...\n",
      "🔹 Generating medium question 2/3 for: Two blocks of masses m_1 and m_2 are connected by ...\n",
      "🔹 Generating medium question 3/3 for: Two blocks of masses m_1 and m_2 are connected by ...\n",
      "⚠️ Validation failed (Unclear). Regenerating answer once...\n",
      "🔹 Generating hard question 1/3 for: Two blocks of masses m_1 and m_2 are connected by ...\n",
      "⚠️ Validation failed (Incorrect). Regenerating answer once...\n",
      "🔹 Generating hard question 2/3 for: Two blocks of masses m_1 and m_2 are connected by ...\n",
      "⚠️ Validation failed (Unclear). Regenerating answer once...\n",
      "🔹 Generating hard question 3/3 for: Two blocks of masses m_1 and m_2 are connected by ...\n",
      "⚠️ Validation failed (Incorrect). Regenerating answer once...\n"
     ]
    },
    {
     "name": "stderr",
     "output_type": "stream",
     "text": [
      "Generating Synthetic Data:   8%|██▌                              | 75/951 [3:57:04<40:44:54, 167.46s/it]"
     ]
    },
    {
     "name": "stdout",
     "output_type": "stream",
     "text": [
      "🔹 Generating easy question 1/3 for: Two masses in an Atwood machine are m_1 = 1.9 kg a...\n",
      "🔹 Generating easy question 2/3 for: Two masses in an Atwood machine are m_1 = 1.9 kg a...\n",
      "🔹 Generating easy question 3/3 for: Two masses in an Atwood machine are m_1 = 1.9 kg a...\n",
      "🔹 Generating medium question 1/3 for: Two masses in an Atwood machine are m_1 = 1.9 kg a...\n",
      "🔹 Generating medium question 2/3 for: Two masses in an Atwood machine are m_1 = 1.9 kg a...\n",
      "🔹 Generating medium question 3/3 for: Two masses in an Atwood machine are m_1 = 1.9 kg a...\n",
      "⚠️ Validation failed (Unclear). Regenerating answer once...\n",
      "🔹 Generating hard question 1/3 for: Two masses in an Atwood machine are m_1 = 1.9 kg a...\n",
      "⚠️ Validation failed (Incorrect). Regenerating answer once...\n",
      "🔹 Generating hard question 2/3 for: Two masses in an Atwood machine are m_1 = 1.9 kg a...\n",
      "🔹 Generating hard question 3/3 for: Two masses in an Atwood machine are m_1 = 1.9 kg a...\n"
     ]
    },
    {
     "name": "stderr",
     "output_type": "stream",
     "text": [
      "Generating Synthetic Data:   8%|██▋                              | 76/951 [3:58:39<35:22:41, 145.56s/it]"
     ]
    },
    {
     "name": "stdout",
     "output_type": "stream",
     "text": [
      "🔹 Generating easy question 1/3 for: A body takes 4/3 times as much time to slide down ...\n",
      "⚠️ Validation failed (Unclear). Regenerating answer once...\n",
      "🔹 Generating easy question 2/3 for: A body takes 4/3 times as much time to slide down ...\n",
      "⚠️ Validation failed (Unclear). Regenerating answer once...\n",
      "🔹 Generating easy question 3/3 for: A body takes 4/3 times as much time to slide down ...\n",
      "⚠️ Validation failed (Unclear). Regenerating answer once...\n",
      "🔹 Generating medium question 1/3 for: A body takes 4/3 times as much time to slide down ...\n",
      "⚠️ Validation failed (Incorrect). Regenerating answer once...\n",
      "🔹 Generating medium question 2/3 for: A body takes 4/3 times as much time to slide down ...\n",
      "⚠️ Validation failed (Unclear). Regenerating answer once...\n",
      "🔹 Generating medium question 3/3 for: A body takes 4/3 times as much time to slide down ...\n",
      "⚠️ Validation failed (Incorrect). Regenerating answer once...\n",
      "🔹 Generating hard question 1/3 for: A body takes 4/3 times as much time to slide down ...\n",
      "⚠️ Validation failed (Unclear). Regenerating answer once...\n",
      "🔹 Generating hard question 2/3 for: A body takes 4/3 times as much time to slide down ...\n",
      "⚠️ Validation failed (Unclear). Regenerating answer once...\n",
      "🔹 Generating hard question 3/3 for: A body takes 4/3 times as much time to slide down ...\n",
      "⚠️ Validation failed (Unclear). Regenerating answer once...\n"
     ]
    },
    {
     "name": "stderr",
     "output_type": "stream",
     "text": [
      "Generating Synthetic Data:   8%|██▋                              | 77/951 [4:01:40<37:58:22, 156.41s/it]"
     ]
    },
    {
     "name": "stdout",
     "output_type": "stream",
     "text": [
      "🔹 Generating easy question 1/3 for: A body slides down an incline which has a coeffici...\n",
      "🔹 Generating easy question 2/3 for: A body slides down an incline which has a coeffici...\n",
      "🔹 Generating easy question 3/3 for: A body slides down an incline which has a coeffici...\n",
      "🔹 Generating medium question 1/3 for: A body slides down an incline which has a coeffici...\n",
      "🔹 Generating medium question 2/3 for: A body slides down an incline which has a coeffici...\n",
      "🔹 Generating medium question 3/3 for: A body slides down an incline which has a coeffici...\n",
      "🔹 Generating hard question 1/3 for: A body slides down an incline which has a coeffici...\n",
      "🔹 Generating hard question 2/3 for: A body slides down an incline which has a coeffici...\n",
      "🔹 Generating hard question 3/3 for: A body slides down an incline which has a coeffici...\n",
      "⚠️ Validation failed (Incorrect). Regenerating answer once...\n"
     ]
    },
    {
     "name": "stderr",
     "output_type": "stream",
     "text": [
      "Generating Synthetic Data:   8%|██▋                              | 78/951 [4:03:09<32:59:41, 136.06s/it]"
     ]
    },
    {
     "name": "stdout",
     "output_type": "stream",
     "text": [
      "🔹 Generating easy question 1/3 for: Two masses m_1 and m_2 are connected by a light in...\n",
      "🔹 Generating easy question 2/3 for: Two masses m_1 and m_2 are connected by a light in...\n",
      "🔹 Generating easy question 3/3 for: Two masses m_1 and m_2 are connected by a light in...\n",
      "🔹 Generating medium question 1/3 for: Two masses m_1 and m_2 are connected by a light in...\n",
      "⚠️ Validation failed (Unclear). Regenerating answer once...\n",
      "🔹 Generating medium question 2/3 for: Two masses m_1 and m_2 are connected by a light in...\n",
      "🔹 Generating medium question 3/3 for: Two masses m_1 and m_2 are connected by a light in...\n",
      "🔹 Generating hard question 1/3 for: Two masses m_1 and m_2 are connected by a light in...\n",
      "⚠️ Validation failed (Unclear). Regenerating answer once...\n",
      "🔹 Generating hard question 2/3 for: Two masses m_1 and m_2 are connected by a light in...\n",
      "🔹 Generating hard question 3/3 for: Two masses m_1 and m_2 are connected by a light in...\n",
      "⚠️ Validation failed (Incorrect). Regenerating answer once...\n"
     ]
    },
    {
     "name": "stderr",
     "output_type": "stream",
     "text": [
      "Generating Synthetic Data:   8%|██▋                              | 79/951 [4:05:10<31:50:50, 131.48s/it]"
     ]
    },
    {
     "name": "stdout",
     "output_type": "stream",
     "text": [
      "🔹 Generating easy question 1/3 for: Two blocks with masses m_1 and m_2 are attached by...\n",
      "🔹 Generating easy question 2/3 for: Two blocks with masses m_1 and m_2 are attached by...\n",
      "⚠️ Validation failed (Incorrect). Regenerating answer once...\n",
      "🔹 Generating easy question 3/3 for: Two blocks with masses m_1 and m_2 are attached by...\n",
      "🔹 Generating medium question 1/3 for: Two blocks with masses m_1 and m_2 are attached by...\n",
      "🔹 Generating medium question 2/3 for: Two blocks with masses m_1 and m_2 are attached by...\n",
      "🔹 Generating medium question 3/3 for: Two blocks with masses m_1 and m_2 are attached by...\n",
      "🔹 Generating hard question 1/3 for: Two blocks with masses m_1 and m_2 are attached by...\n",
      "🔹 Generating hard question 2/3 for: Two blocks with masses m_1 and m_2 are attached by...\n",
      "⚠️ Validation failed (Incorrect). Regenerating answer once...\n",
      "🔹 Generating hard question 3/3 for: Two blocks with masses m_1 and m_2 are attached by...\n",
      "⚠️ Validation failed (Unclear). Regenerating answer once...\n"
     ]
    },
    {
     "name": "stderr",
     "output_type": "stream",
     "text": [
      "Generating Synthetic Data:   8%|██▊                              | 80/951 [4:07:05<30:36:58, 126.54s/it]"
     ]
    },
    {
     "name": "stdout",
     "output_type": "stream",
     "text": [
      "🔹 Generating easy question 1/3 for: The constant forces ð",
      "_1 = + 2 + 3kÌ N and ð",
      "...\n",
      "🔹 Generating easy question 2/3 for: The constant forces ð",
      "_1 = + 2 + 3kÌ N and ð",
      "...\n",
      "🔹 Generating easy question 3/3 for: The constant forces ð",
      "_1 = + 2 + 3kÌ N and ð",
      "...\n",
      "🔹 Generating medium question 1/3 for: The constant forces ð",
      "_1 = + 2 + 3kÌ N and ð",
      "...\n",
      "🔹 Generating medium question 2/3 for: The constant forces ð",
      "_1 = + 2 + 3kÌ N and ð",
      "...\n",
      "🔹 Generating medium question 3/3 for: The constant forces ð",
      "_1 = + 2 + 3kÌ N and ð",
      "...\n",
      "⚠️ Validation failed (Unclear). Regenerating answer once...\n",
      "🔹 Generating hard question 1/3 for: The constant forces ð",
      "_1 = + 2 + 3kÌ N and ð",
      "...\n",
      "⚠️ Validation failed (Incorrect). Regenerating answer once...\n",
      "🔹 Generating hard question 2/3 for: The constant forces ð",
      "_1 = + 2 + 3kÌ N and ð",
      "...\n",
      "🔹 Generating hard question 3/3 for: The constant forces ð",
      "_1 = + 2 + 3kÌ N and ð",
      "...\n"
     ]
    },
    {
     "name": "stderr",
     "output_type": "stream",
     "text": [
      "Generating Synthetic Data:   9%|██▊                              | 81/951 [4:08:45<28:39:42, 118.60s/it]"
     ]
    },
    {
     "name": "stdout",
     "output_type": "stream",
     "text": [
      "🔹 Generating easy question 1/3 for: The potential energy of an object is given by U(x)...\n",
      "🔹 Generating easy question 2/3 for: The potential energy of an object is given by U(x)...\n",
      "🔹 Generating easy question 3/3 for: The potential energy of an object is given by U(x)...\n",
      "🔹 Generating medium question 1/3 for: The potential energy of an object is given by U(x)...\n",
      "🔹 Generating medium question 2/3 for: The potential energy of an object is given by U(x)...\n",
      "🔹 Generating medium question 3/3 for: The potential energy of an object is given by U(x)...\n",
      "⚠️ Validation failed (Unclear). Regenerating answer once...\n",
      "🔹 Generating hard question 1/3 for: The potential energy of an object is given by U(x)...\n",
      "🔹 Generating hard question 2/3 for: The potential energy of an object is given by U(x)...\n",
      "🔹 Generating hard question 3/3 for: The potential energy of an object is given by U(x)...\n"
     ]
    },
    {
     "name": "stderr",
     "output_type": "stream",
     "text": [
      "Generating Synthetic Data:   9%|██▊                              | 82/951 [4:10:20<26:55:16, 111.53s/it]"
     ]
    },
    {
     "name": "stdout",
     "output_type": "stream",
     "text": [
      "🔹 Generating easy question 1/3 for: A body slides down a rough plane inclined to the h...\n",
      "⚠️ Validation failed (Incorrect). Regenerating answer once...\n",
      "🔹 Generating easy question 2/3 for: A body slides down a rough plane inclined to the h...\n",
      "🔹 Generating easy question 3/3 for: A body slides down a rough plane inclined to the h...\n",
      "🔹 Generating medium question 1/3 for: A body slides down a rough plane inclined to the h...\n",
      "🔹 Generating medium question 2/3 for: A body slides down a rough plane inclined to the h...\n",
      "🔹 Generating medium question 3/3 for: A body slides down a rough plane inclined to the h...\n",
      "🔹 Generating hard question 1/3 for: A body slides down a rough plane inclined to the h...\n",
      "🔹 Generating hard question 2/3 for: A body slides down a rough plane inclined to the h...\n",
      "🔹 Generating hard question 3/3 for: A body slides down a rough plane inclined to the h...\n"
     ]
    },
    {
     "name": "stderr",
     "output_type": "stream",
     "text": [
      "Generating Synthetic Data:   9%|██▉                              | 83/951 [4:11:55<25:42:02, 106.59s/it]"
     ]
    },
    {
     "name": "stdout",
     "output_type": "stream",
     "text": [
      "🔹 Generating easy question 1/3 for: An object slides down a frictionless ramp and desc...\n",
      "🔹 Generating easy question 2/3 for: An object slides down a frictionless ramp and desc...\n",
      "🔹 Generating easy question 3/3 for: An object slides down a frictionless ramp and desc...\n",
      "🔹 Generating medium question 1/3 for: An object slides down a frictionless ramp and desc...\n",
      "🔹 Generating medium question 2/3 for: An object slides down a frictionless ramp and desc...\n",
      "🔹 Generating medium question 3/3 for: An object slides down a frictionless ramp and desc...\n",
      "🔹 Generating hard question 1/3 for: An object slides down a frictionless ramp and desc...\n",
      "🔹 Generating hard question 2/3 for: An object slides down a frictionless ramp and desc...\n",
      "🔹 Generating hard question 3/3 for: An object slides down a frictionless ramp and desc...\n"
     ]
    },
    {
     "name": "stderr",
     "output_type": "stream",
     "text": [
      "Generating Synthetic Data:   9%|██▉                              | 84/951 [4:13:31<24:55:55, 103.52s/it]"
     ]
    },
    {
     "name": "stdout",
     "output_type": "stream",
     "text": [
      "🔹 Generating easy question 1/3 for: Physics Problem: Spring and Crate Dynamics Univers...\n",
      "🔹 Generating easy question 2/3 for: Physics Problem: Spring and Crate Dynamics Univers...\n",
      "🔹 Generating easy question 3/3 for: Physics Problem: Spring and Crate Dynamics Univers...\n",
      "⚠️ Validation failed (Unclear). Regenerating answer once...\n",
      "🔹 Generating medium question 1/3 for: Physics Problem: Spring and Crate Dynamics Univers...\n",
      "⚠️ Validation failed (Unclear). Regenerating answer once...\n",
      "🔹 Generating medium question 2/3 for: Physics Problem: Spring and Crate Dynamics Univers...\n",
      "🔹 Generating medium question 3/3 for: Physics Problem: Spring and Crate Dynamics Univers...\n",
      "🔹 Generating hard question 1/3 for: Physics Problem: Spring and Crate Dynamics Univers...\n",
      "⚠️ Validation failed (Unclear). Regenerating answer once...\n",
      "🔹 Generating hard question 2/3 for: Physics Problem: Spring and Crate Dynamics Univers...\n",
      "🔹 Generating hard question 3/3 for: Physics Problem: Spring and Crate Dynamics Univers...\n",
      "⚠️ Validation failed (Unclear). Regenerating answer once...\n"
     ]
    },
    {
     "name": "stderr",
     "output_type": "stream",
     "text": [
      "Generating Synthetic Data:   9%|██▉                              | 85/951 [4:16:11<29:00:02, 120.56s/it]"
     ]
    },
    {
     "name": "stdout",
     "output_type": "stream",
     "text": [
      "🔹 Generating easy question 1/3 for: Observed in the laboratory frame, a body of mass m...\n",
      "⚠️ Validation failed (Unclear). Regenerating answer once...\n",
      "🔹 Generating easy question 2/3 for: Observed in the laboratory frame, a body of mass m...\n",
      "⚠️ Validation failed (Unclear). Regenerating answer once...\n",
      "🔹 Generating easy question 3/3 for: Observed in the laboratory frame, a body of mass m...\n",
      "⚠️ Validation failed (Unclear). Regenerating answer once...\n",
      "🔹 Generating medium question 1/3 for: Observed in the laboratory frame, a body of mass m...\n",
      "⚠️ Validation failed (Unclear). Regenerating answer once...\n",
      "🔹 Generating medium question 2/3 for: Observed in the laboratory frame, a body of mass m...\n",
      "⚠️ Validation failed (Unclear). Regenerating answer once...\n",
      "🔹 Generating medium question 3/3 for: Observed in the laboratory frame, a body of mass m...\n",
      "🔹 Generating hard question 1/3 for: Observed in the laboratory frame, a body of mass m...\n",
      "⚠️ Validation failed (Unclear). Regenerating answer once...\n",
      "🔹 Generating hard question 2/3 for: Observed in the laboratory frame, a body of mass m...\n",
      "🔹 Generating hard question 3/3 for: Observed in the laboratory frame, a body of mass m...\n"
     ]
    },
    {
     "name": "stderr",
     "output_type": "stream",
     "text": [
      "Generating Synthetic Data:   9%|██▉                              | 86/951 [4:19:05<32:48:59, 136.58s/it]"
     ]
    },
    {
     "name": "stdout",
     "output_type": "stream",
     "text": [
      "🔹 Generating easy question 1/3 for: Off-Centre Elastic Scattering of Two Objects of Eq...\n",
      "⚠️ Validation failed (Unclear). Regenerating answer once...\n",
      "🔹 Generating easy question 2/3 for: Off-Centre Elastic Scattering of Two Objects of Eq...\n",
      "⚠️ Validation failed (Unclear). Regenerating answer once...\n",
      "🔹 Generating easy question 3/3 for: Off-Centre Elastic Scattering of Two Objects of Eq...\n",
      "⚠️ Validation failed (Unclear). Regenerating answer once...\n",
      "🔹 Generating medium question 1/3 for: Off-Centre Elastic Scattering of Two Objects of Eq...\n",
      "⚠️ Validation failed (Unclear). Regenerating answer once...\n",
      "🔹 Generating medium question 2/3 for: Off-Centre Elastic Scattering of Two Objects of Eq...\n",
      "⚠️ Validation failed (Unclear). Regenerating answer once...\n",
      "🔹 Generating medium question 3/3 for: Off-Centre Elastic Scattering of Two Objects of Eq...\n",
      "⚠️ Validation failed (Unclear). Regenerating answer once...\n",
      "🔹 Generating hard question 1/3 for: Off-Centre Elastic Scattering of Two Objects of Eq...\n",
      "⚠️ Validation failed (Unclear). Regenerating answer once...\n",
      "🔹 Generating hard question 2/3 for: Off-Centre Elastic Scattering of Two Objects of Eq...\n",
      "🔹 Generating hard question 3/3 for: Off-Centre Elastic Scattering of Two Objects of Eq...\n",
      "⚠️ Validation failed (Unclear). Regenerating answer once...\n"
     ]
    },
    {
     "name": "stderr",
     "output_type": "stream",
     "text": [
      "Generating Synthetic Data:   9%|███                              | 87/951 [4:22:05<35:51:24, 149.40s/it]"
     ]
    },
    {
     "name": "stdout",
     "output_type": "stream",
     "text": [
      "🔹 Generating easy question 1/3 for: As a small ball of mass m is projected horizontall...\n",
      "⚠️ Validation failed (Incorrect). Regenerating answer once...\n",
      "🔹 Generating easy question 2/3 for: As a small ball of mass m is projected horizontall...\n",
      "⚠️ Validation failed (Unclear). Regenerating answer once...\n",
      "🔹 Generating easy question 3/3 for: As a small ball of mass m is projected horizontall...\n",
      "🔹 Generating medium question 1/3 for: As a small ball of mass m is projected horizontall...\n",
      "🔹 Generating medium question 2/3 for: As a small ball of mass m is projected horizontall...\n",
      "🔹 Generating medium question 3/3 for: As a small ball of mass m is projected horizontall...\n",
      "🔹 Generating hard question 1/3 for: As a small ball of mass m is projected horizontall...\n",
      "🔹 Generating hard question 2/3 for: As a small ball of mass m is projected horizontall...\n",
      "🔹 Generating hard question 3/3 for: As a small ball of mass m is projected horizontall...\n"
     ]
    },
    {
     "name": "stderr",
     "output_type": "stream",
     "text": [
      "Generating Synthetic Data:   9%|███                              | 88/951 [4:23:48<32:29:53, 135.57s/it]"
     ]
    },
    {
     "name": "stdout",
     "output_type": "stream",
     "text": [
      "🔹 Generating easy question 1/3 for: Two particles of mass m_1 and m_2 and velocities u...\n",
      "🔹 Generating easy question 2/3 for: Two particles of mass m_1 and m_2 and velocities u...\n",
      "🔹 Generating easy question 3/3 for: Two particles of mass m_1 and m_2 and velocities u...\n",
      "🔹 Generating medium question 1/3 for: Two particles of mass m_1 and m_2 and velocities u...\n",
      "⚠️ Validation failed (Incorrect). Regenerating answer once...\n",
      "🔹 Generating medium question 2/3 for: Two particles of mass m_1 and m_2 and velocities u...\n",
      "⚠️ Validation failed (Unclear). Regenerating answer once...\n",
      "🔹 Generating medium question 3/3 for: Two particles of mass m_1 and m_2 and velocities u...\n",
      "⚠️ Validation failed (Incorrect). Regenerating answer once...\n",
      "🔹 Generating hard question 1/3 for: Two particles of mass m_1 and m_2 and velocities u...\n",
      "🔹 Generating hard question 2/3 for: Two particles of mass m_1 and m_2 and velocities u...\n",
      "🔹 Generating hard question 3/3 for: Two particles of mass m_1 and m_2 and velocities u...\n",
      "⚠️ Validation failed (Unclear). Regenerating answer once...\n"
     ]
    },
    {
     "name": "stderr",
     "output_type": "stream",
     "text": [
      "Generating Synthetic Data:   9%|███                              | 89/951 [4:27:03<36:41:46, 153.26s/it]"
     ]
    },
    {
     "name": "stdout",
     "output_type": "stream",
     "text": [
      "🔹 Generating easy question 1/3 for: A particle has an initial speed v_0. It makes a gl...\n",
      "⚠️ Validation failed (Incorrect). Regenerating answer once...\n",
      "🔹 Generating easy question 2/3 for: A particle has an initial speed v_0. It makes a gl...\n",
      "🔹 Generating easy question 3/3 for: A particle has an initial speed v_0. It makes a gl...\n",
      "🔹 Generating medium question 1/3 for: A particle has an initial speed v_0. It makes a gl...\n",
      "⚠️ Validation failed (Unclear). Regenerating answer once...\n",
      "🔹 Generating medium question 2/3 for: A particle has an initial speed v_0. It makes a gl...\n",
      "🔹 Generating medium question 3/3 for: A particle has an initial speed v_0. It makes a gl...\n",
      "🔹 Generating hard question 1/3 for: A particle has an initial speed v_0. It makes a gl...\n",
      "⚠️ Validation failed (Unclear). Regenerating answer once...\n",
      "🔹 Generating hard question 2/3 for: A particle has an initial speed v_0. It makes a gl...\n",
      "⚠️ Validation failed (Unclear). Regenerating answer once...\n",
      "🔹 Generating hard question 3/3 for: A particle has an initial speed v_0. It makes a gl...\n"
     ]
    },
    {
     "name": "stderr",
     "output_type": "stream",
     "text": [
      "Generating Synthetic Data:   9%|███                              | 90/951 [4:29:43<37:09:56, 155.40s/it]"
     ]
    },
    {
     "name": "stdout",
     "output_type": "stream",
     "text": [
      "🔹 Generating easy question 1/3 for: A carbon-14 nucleus, which is radioactive, decays ...\n",
      "⚠️ Validation failed (Incorrect). Regenerating answer once...\n",
      "🔹 Generating easy question 2/3 for: A carbon-14 nucleus, which is radioactive, decays ...\n",
      "🔹 Generating easy question 3/3 for: A carbon-14 nucleus, which is radioactive, decays ...\n",
      "🔹 Generating medium question 1/3 for: A carbon-14 nucleus, which is radioactive, decays ...\n",
      "🔹 Generating medium question 2/3 for: A carbon-14 nucleus, which is radioactive, decays ...\n",
      "🔹 Generating medium question 3/3 for: A carbon-14 nucleus, which is radioactive, decays ...\n",
      "🔹 Generating hard question 1/3 for: A carbon-14 nucleus, which is radioactive, decays ...\n",
      "⚠️ Validation failed (Unclear). Regenerating answer once...\n",
      "🔹 Generating hard question 2/3 for: A carbon-14 nucleus, which is radioactive, decays ...\n",
      "⚠️ Validation failed (Unclear). Regenerating answer once...\n",
      "🔹 Generating hard question 3/3 for: A carbon-14 nucleus, which is radioactive, decays ...\n",
      "⚠️ Validation failed (Unclear). Regenerating answer once...\n"
     ]
    },
    {
     "name": "stderr",
     "output_type": "stream",
     "text": [
      "Generating Synthetic Data:  10%|███▏                             | 91/951 [4:31:58<35:38:07, 149.17s/it]"
     ]
    },
    {
     "name": "stdout",
     "output_type": "stream",
     "text": [
      "🔹 Generating easy question 1/3 for: If a particle of mass m collides elastically with ...\n",
      "⚠️ Validation failed (Incorrect). Regenerating answer once...\n",
      "🔹 Generating easy question 2/3 for: If a particle of mass m collides elastically with ...\n",
      "⚠️ Validation failed (Unclear). Regenerating answer once...\n",
      "🔹 Generating easy question 3/3 for: If a particle of mass m collides elastically with ...\n",
      "⚠️ Validation failed (Incorrect). Regenerating answer once...\n",
      "🔹 Generating medium question 1/3 for: If a particle of mass m collides elastically with ...\n",
      "⚠️ Validation failed (Incorrect). Regenerating answer once...\n",
      "🔹 Generating medium question 2/3 for: If a particle of mass m collides elastically with ...\n",
      "⚠️ Validation failed (Unclear). Regenerating answer once...\n",
      "🔹 Generating medium question 3/3 for: If a particle of mass m collides elastically with ...\n",
      "⚠️ Validation failed (Unclear). Regenerating answer once...\n",
      "🔹 Generating hard question 1/3 for: If a particle of mass m collides elastically with ...\n",
      "🔹 Generating hard question 2/3 for: If a particle of mass m collides elastically with ...\n",
      "⚠️ Validation failed (Incorrect). Regenerating answer once...\n",
      "🔹 Generating hard question 3/3 for: If a particle of mass m collides elastically with ...\n",
      "⚠️ Validation failed (Unclear). Regenerating answer once...\n"
     ]
    },
    {
     "name": "stderr",
     "output_type": "stream",
     "text": [
      "Generating Synthetic Data:  10%|███▏                             | 92/951 [4:35:18<39:15:45, 164.55s/it]"
     ]
    },
    {
     "name": "stdout",
     "output_type": "stream",
     "text": [
      "🔹 Generating easy question 1/3 for: A body of mass M rests on a smooth table, and anot...\n",
      "⚠️ Validation failed (Unclear). Regenerating answer once...\n",
      "🔹 Generating easy question 2/3 for: A body of mass M rests on a smooth table, and anot...\n",
      "⚠️ Validation failed (Unclear). Regenerating answer once...\n",
      "🔹 Generating easy question 3/3 for: A body of mass M rests on a smooth table, and anot...\n",
      "🔹 Generating medium question 1/3 for: A body of mass M rests on a smooth table, and anot...\n",
      "⚠️ Validation failed (Unclear). Regenerating answer once...\n",
      "🔹 Generating medium question 2/3 for: A body of mass M rests on a smooth table, and anot...\n",
      "🔹 Generating medium question 3/3 for: A body of mass M rests on a smooth table, and anot...\n",
      "⚠️ Validation failed (Unclear). Regenerating answer once...\n",
      "🔹 Generating hard question 1/3 for: A body of mass M rests on a smooth table, and anot...\n",
      "⚠️ Validation failed (Incorrect). Regenerating answer once...\n",
      "🔹 Generating hard question 2/3 for: A body of mass M rests on a smooth table, and anot...\n",
      "⚠️ Validation failed (Incorrect). Regenerating answer once...\n",
      "🔹 Generating hard question 3/3 for: A body of mass M rests on a smooth table, and anot...\n",
      "⚠️ Validation failed (Unclear). Regenerating answer once...\n"
     ]
    },
    {
     "name": "stderr",
     "output_type": "stream",
     "text": [
      "Generating Synthetic Data:  10%|███▏                             | 93/951 [4:38:15<40:08:17, 168.41s/it]"
     ]
    },
    {
     "name": "stdout",
     "output_type": "stream",
     "text": [
      "🔹 Generating easy question 1/3 for: a4paper, margin=1in A nucleus A of mass 2m moving ...\n",
      "⚠️ Validation failed (Unclear). Regenerating answer once...\n",
      "🔹 Generating easy question 2/3 for: a4paper, margin=1in A nucleus A of mass 2m moving ...\n",
      "⚠️ Validation failed (Unclear). Regenerating answer once...\n",
      "🔹 Generating easy question 3/3 for: a4paper, margin=1in A nucleus A of mass 2m moving ...\n",
      "⚠️ Validation failed (Unclear). Regenerating answer once...\n",
      "🔹 Generating medium question 1/3 for: a4paper, margin=1in A nucleus A of mass 2m moving ...\n",
      "🔹 Generating medium question 2/3 for: a4paper, margin=1in A nucleus A of mass 2m moving ...\n",
      "🔹 Generating medium question 3/3 for: a4paper, margin=1in A nucleus A of mass 2m moving ...\n",
      "⚠️ Validation failed (Unclear). Regenerating answer once...\n",
      "🔹 Generating hard question 1/3 for: a4paper, margin=1in A nucleus A of mass 2m moving ...\n",
      "⚠️ Validation failed (Unclear). Regenerating answer once...\n",
      "🔹 Generating hard question 2/3 for: a4paper, margin=1in A nucleus A of mass 2m moving ...\n",
      "⚠️ Validation failed (Unclear). Regenerating answer once...\n",
      "🔹 Generating hard question 3/3 for: a4paper, margin=1in A nucleus A of mass 2m moving ...\n"
     ]
    },
    {
     "name": "stderr",
     "output_type": "stream",
     "text": [
      "Generating Synthetic Data:  10%|███▎                             | 94/951 [4:41:40<42:39:41, 179.21s/it]"
     ]
    },
    {
     "name": "stdout",
     "output_type": "stream",
     "text": [
      "🔹 Generating easy question 1/3 for: A neutron moving with velocity v_0 collides head-o...\n",
      "⚠️ Validation failed (Unclear). Regenerating answer once...\n",
      "🔹 Generating easy question 2/3 for: A neutron moving with velocity v_0 collides head-o...\n",
      "🔹 Generating easy question 3/3 for: A neutron moving with velocity v_0 collides head-o...\n",
      "⚠️ Validation failed (Unclear). Regenerating answer once...\n",
      "🔹 Generating medium question 1/3 for: A neutron moving with velocity v_0 collides head-o...\n",
      "⚠️ Validation failed (Unclear). Regenerating answer once...\n",
      "🔹 Generating medium question 2/3 for: A neutron moving with velocity v_0 collides head-o...\n",
      "⚠️ Validation failed (Unclear). Regenerating answer once...\n",
      "🔹 Generating medium question 3/3 for: A neutron moving with velocity v_0 collides head-o...\n",
      "🔹 Generating hard question 1/3 for: A neutron moving with velocity v_0 collides head-o...\n",
      "⚠️ Validation failed (Unclear). Regenerating answer once...\n",
      "🔹 Generating hard question 2/3 for: A neutron moving with velocity v_0 collides head-o...\n",
      "⚠️ Validation failed (Unclear). Regenerating answer once...\n",
      "🔹 Generating hard question 3/3 for: A neutron moving with velocity v_0 collides head-o...\n",
      "⚠️ Validation failed (Unclear). Regenerating answer once...\n"
     ]
    },
    {
     "name": "stderr",
     "output_type": "stream",
     "text": [
      "Generating Synthetic Data:  10%|███▎                             | 95/951 [4:44:07<40:18:14, 169.50s/it]"
     ]
    },
    {
     "name": "stdout",
     "output_type": "stream",
     "text": [
      "🔹 Generating easy question 1/3 for: A A Consider an elastic collision between a very l...\n",
      "⚠️ Validation failed (Unclear). Regenerating answer once...\n",
      "🔹 Generating easy question 2/3 for: A A Consider an elastic collision between a very l...\n",
      "🔹 Generating easy question 3/3 for: A A Consider an elastic collision between a very l...\n",
      "🔹 Generating medium question 1/3 for: A A Consider an elastic collision between a very l...\n",
      "⚠️ Validation failed (Unclear). Regenerating answer once...\n",
      "🔹 Generating medium question 2/3 for: A A Consider an elastic collision between a very l...\n",
      "⚠️ Validation failed (Unclear). Regenerating answer once...\n",
      "🔹 Generating medium question 3/3 for: A A Consider an elastic collision between a very l...\n",
      "⚠️ Validation failed (Unclear). Regenerating answer once...\n",
      "🔹 Generating hard question 1/3 for: A A Consider an elastic collision between a very l...\n",
      "⚠️ Validation failed (Unclear). Regenerating answer once...\n",
      "🔹 Generating hard question 2/3 for: A A Consider an elastic collision between a very l...\n",
      "⚠️ Validation failed (Incorrect). Regenerating answer once...\n",
      "🔹 Generating hard question 3/3 for: A A Consider an elastic collision between a very l...\n",
      "⚠️ Validation failed (Unclear). Regenerating answer once...\n"
     ]
    },
    {
     "name": "stderr",
     "output_type": "stream",
     "text": [
      "Generating Synthetic Data:  10%|███▎                             | 96/951 [4:46:10<36:58:40, 155.70s/it]"
     ]
    },
    {
     "name": "stdout",
     "output_type": "stream",
     "text": [
      "🔹 Generating easy question 1/3 for: Consider a moving body with mass m and initial vel...\n",
      "🔹 Generating easy question 2/3 for: Consider a moving body with mass m and initial vel...\n",
      "🔹 Generating easy question 3/3 for: Consider a moving body with mass m and initial vel...\n",
      "🔹 Generating medium question 1/3 for: Consider a moving body with mass m and initial vel...\n",
      "⚠️ Validation failed (Unclear). Regenerating answer once...\n",
      "🔹 Generating medium question 2/3 for: Consider a moving body with mass m and initial vel...\n",
      "🔹 Generating medium question 3/3 for: Consider a moving body with mass m and initial vel...\n",
      "🔹 Generating hard question 1/3 for: Consider a moving body with mass m and initial vel...\n",
      "🔹 Generating hard question 2/3 for: Consider a moving body with mass m and initial vel...\n",
      "⚠️ Validation failed (Incorrect). Regenerating answer once...\n",
      "🔹 Generating hard question 3/3 for: Consider a moving body with mass m and initial vel...\n",
      "⚠️ Validation failed (Unclear). Regenerating answer once...\n"
     ]
    },
    {
     "name": "stderr",
     "output_type": "stream",
     "text": [
      "Generating Synthetic Data:  10%|███▎                             | 97/951 [4:48:20<35:04:39, 147.87s/it]"
     ]
    },
    {
     "name": "stdout",
     "output_type": "stream",
     "text": [
      "🔹 Generating easy question 1/3 for: A bullet weighing 5 g is fired horizontally into a...\n",
      "⚠️ Validation failed (Unclear). Regenerating answer once...\n",
      "🔹 Generating easy question 2/3 for: A bullet weighing 5 g is fired horizontally into a...\n",
      "🔹 Generating easy question 3/3 for: A bullet weighing 5 g is fired horizontally into a...\n",
      "🔹 Generating medium question 1/3 for: A bullet weighing 5 g is fired horizontally into a...\n",
      "🔹 Generating medium question 2/3 for: A bullet weighing 5 g is fired horizontally into a...\n",
      "⚠️ Validation failed (Incorrect). Regenerating answer once...\n",
      "🔹 Generating medium question 3/3 for: A bullet weighing 5 g is fired horizontally into a...\n",
      "🔹 Generating hard question 1/3 for: A bullet weighing 5 g is fired horizontally into a...\n",
      "⚠️ Error: 400 - {\"error\":{\"message\":\"TC_PROVIDER_ERROR: Request timed out. - timeout value=10.0, time taken=31.26 seconds\",\"type\":\"invalid_request_error\",\"code\":null,\"param\":null}}. Retrying in 60 seconds...\n",
      "⚠️ Validation failed (Incorrect). Regenerating answer once...\n",
      "🔹 Generating hard question 2/3 for: A bullet weighing 5 g is fired horizontally into a...\n",
      "⚠️ Validation failed (Unclear). Regenerating answer once...\n",
      "🔹 Generating hard question 3/3 for: A bullet weighing 5 g is fired horizontally into a...\n",
      "⚠️ Validation failed (Unclear). Regenerating answer once...\n"
     ]
    },
    {
     "name": "stderr",
     "output_type": "stream",
     "text": [
      "Generating Synthetic Data:  10%|███▍                             | 98/951 [4:52:07<40:40:15, 171.65s/it]"
     ]
    },
    {
     "name": "stdout",
     "output_type": "stream",
     "text": [
      "🔹 Generating easy question 1/3 for: A particle of mass m with initial velocity u makes...\n",
      "🔹 Generating easy question 2/3 for: A particle of mass m with initial velocity u makes...\n",
      "⚠️ Validation failed (Unclear). Regenerating answer once...\n",
      "🔹 Generating easy question 3/3 for: A particle of mass m with initial velocity u makes...\n",
      "⚠️ Validation failed (Unclear). Regenerating answer once...\n",
      "🔹 Generating medium question 1/3 for: A particle of mass m with initial velocity u makes...\n",
      "⚠️ Validation failed (Unclear). Regenerating answer once...\n",
      "🔹 Generating medium question 2/3 for: A particle of mass m with initial velocity u makes...\n",
      "🔹 Generating medium question 3/3 for: A particle of mass m with initial velocity u makes...\n",
      "🔹 Generating hard question 1/3 for: A particle of mass m with initial velocity u makes...\n",
      "⚠️ Validation failed (Unclear). Regenerating answer once...\n",
      "🔹 Generating hard question 2/3 for: A particle of mass m with initial velocity u makes...\n",
      "⚠️ Validation failed (Incorrect). Regenerating answer once...\n",
      "🔹 Generating hard question 3/3 for: A particle of mass m with initial velocity u makes...\n",
      "⚠️ Validation failed (Incorrect). Regenerating answer once...\n"
     ]
    },
    {
     "name": "stderr",
     "output_type": "stream",
     "text": [
      "Generating Synthetic Data:  10%|███▍                             | 99/951 [4:55:08<41:18:28, 174.54s/it]"
     ]
    },
    {
     "name": "stdout",
     "output_type": "stream",
     "text": [
      "🔹 Generating easy question 1/3 for: Consider an elastic collision between an incident ...\n",
      "⚠️ Validation failed (Unclear). Regenerating answer once...\n",
      "🔹 Generating easy question 2/3 for: Consider an elastic collision between an incident ...\n",
      "⚠️ Validation failed (Unclear). Regenerating answer once...\n",
      "🔹 Generating easy question 3/3 for: Consider an elastic collision between an incident ...\n",
      "🔹 Generating medium question 1/3 for: Consider an elastic collision between an incident ...\n",
      "⚠️ Validation failed (Unclear). Regenerating answer once...\n",
      "🔹 Generating medium question 2/3 for: Consider an elastic collision between an incident ...\n",
      "⚠️ Validation failed (Unclear). Regenerating answer once...\n",
      "🔹 Generating medium question 3/3 for: Consider an elastic collision between an incident ...\n",
      "⚠️ Validation failed (Unclear). Regenerating answer once...\n",
      "🔹 Generating hard question 1/3 for: Consider an elastic collision between an incident ...\n",
      "⚠️ Validation failed (Unclear). Regenerating answer once...\n",
      "🔹 Generating hard question 2/3 for: Consider an elastic collision between an incident ...\n",
      "⚠️ Validation failed (Incorrect). Regenerating answer once...\n",
      "🔹 Generating hard question 3/3 for: Consider an elastic collision between an incident ...\n",
      "⚠️ Validation failed (Incorrect). Regenerating answer once...\n"
     ]
    },
    {
     "name": "stderr",
     "output_type": "stream",
     "text": [
      "Generating Synthetic Data:  11%|███▎                            | 100/951 [4:58:01<41:09:55, 174.14s/it]"
     ]
    },
    {
     "name": "stdout",
     "output_type": "stream",
     "text": [
      "🔹 Generating easy question 1/3 for: The ballistic pendulum is a device for measuring t...\n",
      "🔹 Generating easy question 2/3 for: The ballistic pendulum is a device for measuring t...\n",
      "🔹 Generating easy question 3/3 for: The ballistic pendulum is a device for measuring t...\n",
      "🔹 Generating medium question 1/3 for: The ballistic pendulum is a device for measuring t...\n",
      "🔹 Generating medium question 2/3 for: The ballistic pendulum is a device for measuring t...\n",
      "⚠️ Validation failed (Unclear). Regenerating answer once...\n",
      "🔹 Generating medium question 3/3 for: The ballistic pendulum is a device for measuring t...\n",
      "⚠️ Validation failed (Incorrect). Regenerating answer once...\n",
      "🔹 Generating hard question 1/3 for: The ballistic pendulum is a device for measuring t...\n",
      "⚠️ Validation failed (Unclear). Regenerating answer once...\n",
      "🔹 Generating hard question 2/3 for: The ballistic pendulum is a device for measuring t...\n",
      "⚠️ Validation failed (Incorrect). Regenerating answer once...\n",
      "🔹 Generating hard question 3/3 for: The ballistic pendulum is a device for measuring t...\n"
     ]
    },
    {
     "name": "stderr",
     "output_type": "stream",
     "text": [
      "Generating Synthetic Data:  11%|███▍                            | 101/951 [4:59:52<36:38:08, 155.16s/it]"
     ]
    },
    {
     "name": "stdout",
     "output_type": "stream",
     "text": [
      "🔹 Generating easy question 1/3 for: A fire engine directs a water jet onto a wall at a...\n",
      "🔹 Generating easy question 2/3 for: A fire engine directs a water jet onto a wall at a...\n",
      "🔹 Generating easy question 3/3 for: A fire engine directs a water jet onto a wall at a...\n",
      "⚠️ Validation failed (Unclear). Regenerating answer once...\n",
      "🔹 Generating medium question 1/3 for: A fire engine directs a water jet onto a wall at a...\n",
      "🔹 Generating medium question 2/3 for: A fire engine directs a water jet onto a wall at a...\n",
      "⚠️ Validation failed (Unclear). Regenerating answer once...\n",
      "🔹 Generating medium question 3/3 for: A fire engine directs a water jet onto a wall at a...\n",
      "⚠️ Validation failed (Unclear). Regenerating answer once...\n",
      "🔹 Generating hard question 1/3 for: A fire engine directs a water jet onto a wall at a...\n",
      "🔹 Generating hard question 2/3 for: A fire engine directs a water jet onto a wall at a...\n",
      "🔹 Generating hard question 3/3 for: A fire engine directs a water jet onto a wall at a...\n"
     ]
    },
    {
     "name": "stderr",
     "output_type": "stream",
     "text": [
      "Generating Synthetic Data:  11%|███▍                            | 102/951 [5:01:21<31:54:12, 135.28s/it]"
     ]
    },
    {
     "name": "stdout",
     "output_type": "stream",
     "text": [
      "🔹 Generating easy question 1/3 for: Repeat the calculation of equation (2.45) assuming...\n",
      "🔹 Generating easy question 2/3 for: Repeat the calculation of equation (2.45) assuming...\n",
      "🔹 Generating easy question 3/3 for: Repeat the calculation of equation (2.45) assuming...\n",
      "🔹 Generating medium question 1/3 for: Repeat the calculation of equation (2.45) assuming...\n",
      "🔹 Generating medium question 2/3 for: Repeat the calculation of equation (2.45) assuming...\n",
      "⚠️ Validation failed (Unclear). Regenerating answer once...\n",
      "🔹 Generating medium question 3/3 for: Repeat the calculation of equation (2.45) assuming...\n",
      "🔹 Generating hard question 1/3 for: Repeat the calculation of equation (2.45) assuming...\n",
      "⚠️ Validation failed (Incorrect). Regenerating answer once...\n",
      "🔹 Generating hard question 2/3 for: Repeat the calculation of equation (2.45) assuming...\n",
      "🔹 Generating hard question 3/3 for: Repeat the calculation of equation (2.45) assuming...\n",
      "⚠️ Validation failed (Unclear). Regenerating answer once...\n"
     ]
    },
    {
     "name": "stderr",
     "output_type": "stream",
     "text": [
      "Generating Synthetic Data:  11%|███▍                            | 103/951 [5:03:10<30:01:33, 127.47s/it]"
     ]
    },
    {
     "name": "stdout",
     "output_type": "stream",
     "text": [
      "🔹 Generating easy question 1/3 for: A ball moving with a speed of 9 m/s strikes an ide...\n",
      "⚠️ Validation failed (Incorrect). Regenerating answer once...\n",
      "🔹 Generating easy question 2/3 for: A ball moving with a speed of 9 m/s strikes an ide...\n",
      "⚠️ Validation failed (Unclear). Regenerating answer once...\n",
      "🔹 Generating easy question 3/3 for: A ball moving with a speed of 9 m/s strikes an ide...\n",
      "⚠️ Validation failed (Unclear). Regenerating answer once...\n",
      "🔹 Generating medium question 1/3 for: A ball moving with a speed of 9 m/s strikes an ide...\n",
      "⚠️ Validation failed (Unclear). Regenerating answer once...\n",
      "🔹 Generating medium question 2/3 for: A ball moving with a speed of 9 m/s strikes an ide...\n",
      "⚠️ Validation failed (Unclear). Regenerating answer once...\n",
      "🔹 Generating medium question 3/3 for: A ball moving with a speed of 9 m/s strikes an ide...\n",
      "⚠️ Validation failed (Unclear). Regenerating answer once...\n",
      "🔹 Generating hard question 1/3 for: A ball moving with a speed of 9 m/s strikes an ide...\n",
      "⚠️ Validation failed (Unclear). Regenerating answer once...\n",
      "🔹 Generating hard question 2/3 for: A ball moving with a speed of 9 m/s strikes an ide...\n",
      "⚠️ Validation failed (Incorrect). Regenerating answer once...\n",
      "🔹 Generating hard question 3/3 for: A ball moving with a speed of 9 m/s strikes an ide...\n",
      "⚠️ Validation failed (Unclear). Regenerating answer once...\n"
     ]
    },
    {
     "name": "stderr",
     "output_type": "stream",
     "text": [
      "Generating Synthetic Data:  11%|███▍                            | 104/951 [5:05:48<32:07:22, 136.53s/it]"
     ]
    },
    {
     "name": "stdout",
     "output_type": "stream",
     "text": [
      "🔹 Generating easy question 1/3 for: A ball is dropped from a height h onto a fixed hor...\n",
      "🔹 Generating easy question 2/3 for: A ball is dropped from a height h onto a fixed hor...\n",
      "🔹 Generating easy question 3/3 for: A ball is dropped from a height h onto a fixed hor...\n",
      "🔹 Generating medium question 1/3 for: A ball is dropped from a height h onto a fixed hor...\n",
      "🔹 Generating medium question 2/3 for: A ball is dropped from a height h onto a fixed hor...\n",
      "🔹 Generating medium question 3/3 for: A ball is dropped from a height h onto a fixed hor...\n",
      "🔹 Generating hard question 1/3 for: A ball is dropped from a height h onto a fixed hor...\n",
      "⚠️ Validation failed (Unclear). Regenerating answer once...\n",
      "🔹 Generating hard question 2/3 for: A ball is dropped from a height h onto a fixed hor...\n",
      "⚠️ Validation failed (Unclear). Regenerating answer once...\n",
      "🔹 Generating hard question 3/3 for: A ball is dropped from a height h onto a fixed hor...\n",
      "⚠️ Validation failed (Incorrect). Regenerating answer once...\n"
     ]
    },
    {
     "name": "stderr",
     "output_type": "stream",
     "text": [
      "Generating Synthetic Data:  11%|███▌                            | 105/951 [5:07:47<30:50:38, 131.25s/it]"
     ]
    },
    {
     "name": "stdout",
     "output_type": "stream",
     "text": [
      "🔹 Generating easy question 1/3 for: In problem (2.48), calculate the total distance tr...\n",
      "🔹 Generating easy question 2/3 for: In problem (2.48), calculate the total distance tr...\n",
      "🔹 Generating easy question 3/3 for: In problem (2.48), calculate the total distance tr...\n",
      "⚠️ Validation failed (Unclear). Regenerating answer once...\n",
      "🔹 Generating medium question 1/3 for: In problem (2.48), calculate the total distance tr...\n",
      "⚠️ Validation failed (Incorrect). Regenerating answer once...\n",
      "🔹 Generating medium question 2/3 for: In problem (2.48), calculate the total distance tr...\n",
      "🔹 Generating medium question 3/3 for: In problem (2.48), calculate the total distance tr...\n",
      "⚠️ Validation failed (Incorrect). Regenerating answer once...\n",
      "🔹 Generating hard question 1/3 for: In problem (2.48), calculate the total distance tr...\n",
      "⚠️ Validation failed (Unclear). Regenerating answer once...\n",
      "🔹 Generating hard question 2/3 for: In problem (2.48), calculate the total distance tr...\n",
      "⚠️ Validation failed (Unclear). Regenerating answer once...\n",
      "🔹 Generating hard question 3/3 for: In problem (2.48), calculate the total distance tr...\n",
      "⚠️ Validation failed (Unclear). Regenerating answer once...\n"
     ]
    },
    {
     "name": "stderr",
     "output_type": "stream",
     "text": [
      "Generating Synthetic Data:  11%|███▌                            | 106/951 [5:09:44<29:48:32, 127.00s/it]"
     ]
    },
    {
     "name": "stdout",
     "output_type": "stream",
     "text": [
      "🔹 Generating easy question 1/3 for: In problem (2.48), calculate the height to which t...\n",
      "🔹 Generating easy question 2/3 for: In problem (2.48), calculate the height to which t...\n",
      "🔹 Generating easy question 3/3 for: In problem (2.48), calculate the height to which t...\n",
      "🔹 Generating medium question 1/3 for: In problem (2.48), calculate the height to which t...\n",
      "⚠️ Validation failed (Incorrect). Regenerating answer once...\n",
      "🔹 Generating medium question 2/3 for: In problem (2.48), calculate the height to which t...\n",
      "🔹 Generating medium question 3/3 for: In problem (2.48), calculate the height to which t...\n",
      "⚠️ Validation failed (Unclear). Regenerating answer once...\n",
      "🔹 Generating hard question 1/3 for: In problem (2.48), calculate the height to which t...\n",
      "⚠️ Validation failed (Unclear). Regenerating answer once...\n",
      "🔹 Generating hard question 2/3 for: In problem (2.48), calculate the height to which t...\n"
     ]
    },
    {
     "name": "stderr",
     "output_type": "stream",
     "text": [
      "Generating Synthetic Data:  11%|███▌                            | 106/951 [5:11:59<41:27:05, 176.60s/it]\n"
     ]
    },
    {
     "ename": "ConnectionError",
     "evalue": "HTTPSConnectionPool(host='fauengtrussed.fau.edu', port=443): Max retries exceeded with url: /provider/generic/chat/completions (Caused by NameResolutionError(\"<urllib3.connection.HTTPSConnection object at 0x78e8935ebd30>: Failed to resolve 'fauengtrussed.fau.edu' ([Errno -3] Temporary failure in name resolution)\"))",
     "output_type": "error",
     "traceback": [
      "\u001b[0;31m---------------------------------------------------------------------------\u001b[0m",
      "\u001b[0;31mgaierror\u001b[0m                                  Traceback (most recent call last)",
      "File \u001b[0;32m~/anaconda3/envs/Thesis/lib/python3.10/site-packages/urllib3/connection.py:198\u001b[0m, in \u001b[0;36mHTTPConnection._new_conn\u001b[0;34m(self)\u001b[0m\n\u001b[1;32m    197\u001b[0m \u001b[38;5;28;01mtry\u001b[39;00m:\n\u001b[0;32m--> 198\u001b[0m     sock \u001b[38;5;241m=\u001b[39m \u001b[43mconnection\u001b[49m\u001b[38;5;241;43m.\u001b[39;49m\u001b[43mcreate_connection\u001b[49m\u001b[43m(\u001b[49m\n\u001b[1;32m    199\u001b[0m \u001b[43m        \u001b[49m\u001b[43m(\u001b[49m\u001b[38;5;28;43mself\u001b[39;49m\u001b[38;5;241;43m.\u001b[39;49m\u001b[43m_dns_host\u001b[49m\u001b[43m,\u001b[49m\u001b[43m \u001b[49m\u001b[38;5;28;43mself\u001b[39;49m\u001b[38;5;241;43m.\u001b[39;49m\u001b[43mport\u001b[49m\u001b[43m)\u001b[49m\u001b[43m,\u001b[49m\n\u001b[1;32m    200\u001b[0m \u001b[43m        \u001b[49m\u001b[38;5;28;43mself\u001b[39;49m\u001b[38;5;241;43m.\u001b[39;49m\u001b[43mtimeout\u001b[49m\u001b[43m,\u001b[49m\n\u001b[1;32m    201\u001b[0m \u001b[43m        \u001b[49m\u001b[43msource_address\u001b[49m\u001b[38;5;241;43m=\u001b[39;49m\u001b[38;5;28;43mself\u001b[39;49m\u001b[38;5;241;43m.\u001b[39;49m\u001b[43msource_address\u001b[49m\u001b[43m,\u001b[49m\n\u001b[1;32m    202\u001b[0m \u001b[43m        \u001b[49m\u001b[43msocket_options\u001b[49m\u001b[38;5;241;43m=\u001b[39;49m\u001b[38;5;28;43mself\u001b[39;49m\u001b[38;5;241;43m.\u001b[39;49m\u001b[43msocket_options\u001b[49m\u001b[43m,\u001b[49m\n\u001b[1;32m    203\u001b[0m \u001b[43m    \u001b[49m\u001b[43m)\u001b[49m\n\u001b[1;32m    204\u001b[0m \u001b[38;5;28;01mexcept\u001b[39;00m socket\u001b[38;5;241m.\u001b[39mgaierror \u001b[38;5;28;01mas\u001b[39;00m e:\n",
      "File \u001b[0;32m~/anaconda3/envs/Thesis/lib/python3.10/site-packages/urllib3/util/connection.py:60\u001b[0m, in \u001b[0;36mcreate_connection\u001b[0;34m(address, timeout, source_address, socket_options)\u001b[0m\n\u001b[1;32m     58\u001b[0m     \u001b[38;5;28;01mraise\u001b[39;00m LocationParseError(\u001b[38;5;124mf\u001b[39m\u001b[38;5;124m\"\u001b[39m\u001b[38;5;124m'\u001b[39m\u001b[38;5;132;01m{\u001b[39;00mhost\u001b[38;5;132;01m}\u001b[39;00m\u001b[38;5;124m'\u001b[39m\u001b[38;5;124m, label empty or too long\u001b[39m\u001b[38;5;124m\"\u001b[39m) \u001b[38;5;28;01mfrom\u001b[39;00m \u001b[38;5;28;01mNone\u001b[39;00m\n\u001b[0;32m---> 60\u001b[0m \u001b[38;5;28;01mfor\u001b[39;00m res \u001b[38;5;129;01min\u001b[39;00m \u001b[43msocket\u001b[49m\u001b[38;5;241;43m.\u001b[39;49m\u001b[43mgetaddrinfo\u001b[49m\u001b[43m(\u001b[49m\u001b[43mhost\u001b[49m\u001b[43m,\u001b[49m\u001b[43m \u001b[49m\u001b[43mport\u001b[49m\u001b[43m,\u001b[49m\u001b[43m \u001b[49m\u001b[43mfamily\u001b[49m\u001b[43m,\u001b[49m\u001b[43m \u001b[49m\u001b[43msocket\u001b[49m\u001b[38;5;241;43m.\u001b[39;49m\u001b[43mSOCK_STREAM\u001b[49m\u001b[43m)\u001b[49m:\n\u001b[1;32m     61\u001b[0m     af, socktype, proto, canonname, sa \u001b[38;5;241m=\u001b[39m res\n",
      "File \u001b[0;32m~/anaconda3/envs/Thesis/lib/python3.10/socket.py:967\u001b[0m, in \u001b[0;36mgetaddrinfo\u001b[0;34m(host, port, family, type, proto, flags)\u001b[0m\n\u001b[1;32m    966\u001b[0m addrlist \u001b[38;5;241m=\u001b[39m []\n\u001b[0;32m--> 967\u001b[0m \u001b[38;5;28;01mfor\u001b[39;00m res \u001b[38;5;129;01min\u001b[39;00m \u001b[43m_socket\u001b[49m\u001b[38;5;241;43m.\u001b[39;49m\u001b[43mgetaddrinfo\u001b[49m\u001b[43m(\u001b[49m\u001b[43mhost\u001b[49m\u001b[43m,\u001b[49m\u001b[43m \u001b[49m\u001b[43mport\u001b[49m\u001b[43m,\u001b[49m\u001b[43m \u001b[49m\u001b[43mfamily\u001b[49m\u001b[43m,\u001b[49m\u001b[43m \u001b[49m\u001b[38;5;28;43mtype\u001b[39;49m\u001b[43m,\u001b[49m\u001b[43m \u001b[49m\u001b[43mproto\u001b[49m\u001b[43m,\u001b[49m\u001b[43m \u001b[49m\u001b[43mflags\u001b[49m\u001b[43m)\u001b[49m:\n\u001b[1;32m    968\u001b[0m     af, socktype, proto, canonname, sa \u001b[38;5;241m=\u001b[39m res\n",
      "\u001b[0;31mgaierror\u001b[0m: [Errno -3] Temporary failure in name resolution",
      "\nThe above exception was the direct cause of the following exception:\n",
      "\u001b[0;31mNameResolutionError\u001b[0m                       Traceback (most recent call last)",
      "File \u001b[0;32m~/anaconda3/envs/Thesis/lib/python3.10/site-packages/urllib3/connectionpool.py:787\u001b[0m, in \u001b[0;36mHTTPConnectionPool.urlopen\u001b[0;34m(self, method, url, body, headers, retries, redirect, assert_same_host, timeout, pool_timeout, release_conn, chunked, body_pos, preload_content, decode_content, **response_kw)\u001b[0m\n\u001b[1;32m    786\u001b[0m \u001b[38;5;66;03m# Make the request on the HTTPConnection object\u001b[39;00m\n\u001b[0;32m--> 787\u001b[0m response \u001b[38;5;241m=\u001b[39m \u001b[38;5;28;43mself\u001b[39;49m\u001b[38;5;241;43m.\u001b[39;49m\u001b[43m_make_request\u001b[49m\u001b[43m(\u001b[49m\n\u001b[1;32m    788\u001b[0m \u001b[43m    \u001b[49m\u001b[43mconn\u001b[49m\u001b[43m,\u001b[49m\n\u001b[1;32m    789\u001b[0m \u001b[43m    \u001b[49m\u001b[43mmethod\u001b[49m\u001b[43m,\u001b[49m\n\u001b[1;32m    790\u001b[0m \u001b[43m    \u001b[49m\u001b[43murl\u001b[49m\u001b[43m,\u001b[49m\n\u001b[1;32m    791\u001b[0m \u001b[43m    \u001b[49m\u001b[43mtimeout\u001b[49m\u001b[38;5;241;43m=\u001b[39;49m\u001b[43mtimeout_obj\u001b[49m\u001b[43m,\u001b[49m\n\u001b[1;32m    792\u001b[0m \u001b[43m    \u001b[49m\u001b[43mbody\u001b[49m\u001b[38;5;241;43m=\u001b[39;49m\u001b[43mbody\u001b[49m\u001b[43m,\u001b[49m\n\u001b[1;32m    793\u001b[0m \u001b[43m    \u001b[49m\u001b[43mheaders\u001b[49m\u001b[38;5;241;43m=\u001b[39;49m\u001b[43mheaders\u001b[49m\u001b[43m,\u001b[49m\n\u001b[1;32m    794\u001b[0m \u001b[43m    \u001b[49m\u001b[43mchunked\u001b[49m\u001b[38;5;241;43m=\u001b[39;49m\u001b[43mchunked\u001b[49m\u001b[43m,\u001b[49m\n\u001b[1;32m    795\u001b[0m \u001b[43m    \u001b[49m\u001b[43mretries\u001b[49m\u001b[38;5;241;43m=\u001b[39;49m\u001b[43mretries\u001b[49m\u001b[43m,\u001b[49m\n\u001b[1;32m    796\u001b[0m \u001b[43m    \u001b[49m\u001b[43mresponse_conn\u001b[49m\u001b[38;5;241;43m=\u001b[39;49m\u001b[43mresponse_conn\u001b[49m\u001b[43m,\u001b[49m\n\u001b[1;32m    797\u001b[0m \u001b[43m    \u001b[49m\u001b[43mpreload_content\u001b[49m\u001b[38;5;241;43m=\u001b[39;49m\u001b[43mpreload_content\u001b[49m\u001b[43m,\u001b[49m\n\u001b[1;32m    798\u001b[0m \u001b[43m    \u001b[49m\u001b[43mdecode_content\u001b[49m\u001b[38;5;241;43m=\u001b[39;49m\u001b[43mdecode_content\u001b[49m\u001b[43m,\u001b[49m\n\u001b[1;32m    799\u001b[0m \u001b[43m    \u001b[49m\u001b[38;5;241;43m*\u001b[39;49m\u001b[38;5;241;43m*\u001b[39;49m\u001b[43mresponse_kw\u001b[49m\u001b[43m,\u001b[49m\n\u001b[1;32m    800\u001b[0m \u001b[43m\u001b[49m\u001b[43m)\u001b[49m\n\u001b[1;32m    802\u001b[0m \u001b[38;5;66;03m# Everything went great!\u001b[39;00m\n",
      "File \u001b[0;32m~/anaconda3/envs/Thesis/lib/python3.10/site-packages/urllib3/connectionpool.py:488\u001b[0m, in \u001b[0;36mHTTPConnectionPool._make_request\u001b[0;34m(self, conn, method, url, body, headers, retries, timeout, chunked, response_conn, preload_content, decode_content, enforce_content_length)\u001b[0m\n\u001b[1;32m    487\u001b[0m         new_e \u001b[38;5;241m=\u001b[39m _wrap_proxy_error(new_e, conn\u001b[38;5;241m.\u001b[39mproxy\u001b[38;5;241m.\u001b[39mscheme)\n\u001b[0;32m--> 488\u001b[0m     \u001b[38;5;28;01mraise\u001b[39;00m new_e\n\u001b[1;32m    490\u001b[0m \u001b[38;5;66;03m# conn.request() calls http.client.*.request, not the method in\u001b[39;00m\n\u001b[1;32m    491\u001b[0m \u001b[38;5;66;03m# urllib3.request. It also calls makefile (recv) on the socket.\u001b[39;00m\n",
      "File \u001b[0;32m~/anaconda3/envs/Thesis/lib/python3.10/site-packages/urllib3/connectionpool.py:464\u001b[0m, in \u001b[0;36mHTTPConnectionPool._make_request\u001b[0;34m(self, conn, method, url, body, headers, retries, timeout, chunked, response_conn, preload_content, decode_content, enforce_content_length)\u001b[0m\n\u001b[1;32m    463\u001b[0m \u001b[38;5;28;01mtry\u001b[39;00m:\n\u001b[0;32m--> 464\u001b[0m     \u001b[38;5;28;43mself\u001b[39;49m\u001b[38;5;241;43m.\u001b[39;49m\u001b[43m_validate_conn\u001b[49m\u001b[43m(\u001b[49m\u001b[43mconn\u001b[49m\u001b[43m)\u001b[49m\n\u001b[1;32m    465\u001b[0m \u001b[38;5;28;01mexcept\u001b[39;00m (SocketTimeout, BaseSSLError) \u001b[38;5;28;01mas\u001b[39;00m e:\n",
      "File \u001b[0;32m~/anaconda3/envs/Thesis/lib/python3.10/site-packages/urllib3/connectionpool.py:1093\u001b[0m, in \u001b[0;36mHTTPSConnectionPool._validate_conn\u001b[0;34m(self, conn)\u001b[0m\n\u001b[1;32m   1092\u001b[0m \u001b[38;5;28;01mif\u001b[39;00m conn\u001b[38;5;241m.\u001b[39mis_closed:\n\u001b[0;32m-> 1093\u001b[0m     \u001b[43mconn\u001b[49m\u001b[38;5;241;43m.\u001b[39;49m\u001b[43mconnect\u001b[49m\u001b[43m(\u001b[49m\u001b[43m)\u001b[49m\n\u001b[1;32m   1095\u001b[0m \u001b[38;5;66;03m# TODO revise this, see https://github.com/urllib3/urllib3/issues/2791\u001b[39;00m\n",
      "File \u001b[0;32m~/anaconda3/envs/Thesis/lib/python3.10/site-packages/urllib3/connection.py:704\u001b[0m, in \u001b[0;36mHTTPSConnection.connect\u001b[0;34m(self)\u001b[0m\n\u001b[1;32m    703\u001b[0m sock: socket\u001b[38;5;241m.\u001b[39msocket \u001b[38;5;241m|\u001b[39m ssl\u001b[38;5;241m.\u001b[39mSSLSocket\n\u001b[0;32m--> 704\u001b[0m \u001b[38;5;28mself\u001b[39m\u001b[38;5;241m.\u001b[39msock \u001b[38;5;241m=\u001b[39m sock \u001b[38;5;241m=\u001b[39m \u001b[38;5;28;43mself\u001b[39;49m\u001b[38;5;241;43m.\u001b[39;49m\u001b[43m_new_conn\u001b[49m\u001b[43m(\u001b[49m\u001b[43m)\u001b[49m\n\u001b[1;32m    705\u001b[0m server_hostname: \u001b[38;5;28mstr\u001b[39m \u001b[38;5;241m=\u001b[39m \u001b[38;5;28mself\u001b[39m\u001b[38;5;241m.\u001b[39mhost\n",
      "File \u001b[0;32m~/anaconda3/envs/Thesis/lib/python3.10/site-packages/urllib3/connection.py:205\u001b[0m, in \u001b[0;36mHTTPConnection._new_conn\u001b[0;34m(self)\u001b[0m\n\u001b[1;32m    204\u001b[0m \u001b[38;5;28;01mexcept\u001b[39;00m socket\u001b[38;5;241m.\u001b[39mgaierror \u001b[38;5;28;01mas\u001b[39;00m e:\n\u001b[0;32m--> 205\u001b[0m     \u001b[38;5;28;01mraise\u001b[39;00m NameResolutionError(\u001b[38;5;28mself\u001b[39m\u001b[38;5;241m.\u001b[39mhost, \u001b[38;5;28mself\u001b[39m, e) \u001b[38;5;28;01mfrom\u001b[39;00m \u001b[38;5;21;01me\u001b[39;00m\n\u001b[1;32m    206\u001b[0m \u001b[38;5;28;01mexcept\u001b[39;00m SocketTimeout \u001b[38;5;28;01mas\u001b[39;00m e:\n",
      "\u001b[0;31mNameResolutionError\u001b[0m: <urllib3.connection.HTTPSConnection object at 0x78e8935ebd30>: Failed to resolve 'fauengtrussed.fau.edu' ([Errno -3] Temporary failure in name resolution)",
      "\nThe above exception was the direct cause of the following exception:\n",
      "\u001b[0;31mMaxRetryError\u001b[0m                             Traceback (most recent call last)",
      "File \u001b[0;32m~/.local/lib/python3.10/site-packages/requests/adapters.py:667\u001b[0m, in \u001b[0;36mHTTPAdapter.send\u001b[0;34m(self, request, stream, timeout, verify, cert, proxies)\u001b[0m\n\u001b[1;32m    666\u001b[0m \u001b[38;5;28;01mtry\u001b[39;00m:\n\u001b[0;32m--> 667\u001b[0m     resp \u001b[38;5;241m=\u001b[39m \u001b[43mconn\u001b[49m\u001b[38;5;241;43m.\u001b[39;49m\u001b[43murlopen\u001b[49m\u001b[43m(\u001b[49m\n\u001b[1;32m    668\u001b[0m \u001b[43m        \u001b[49m\u001b[43mmethod\u001b[49m\u001b[38;5;241;43m=\u001b[39;49m\u001b[43mrequest\u001b[49m\u001b[38;5;241;43m.\u001b[39;49m\u001b[43mmethod\u001b[49m\u001b[43m,\u001b[49m\n\u001b[1;32m    669\u001b[0m \u001b[43m        \u001b[49m\u001b[43murl\u001b[49m\u001b[38;5;241;43m=\u001b[39;49m\u001b[43murl\u001b[49m\u001b[43m,\u001b[49m\n\u001b[1;32m    670\u001b[0m \u001b[43m        \u001b[49m\u001b[43mbody\u001b[49m\u001b[38;5;241;43m=\u001b[39;49m\u001b[43mrequest\u001b[49m\u001b[38;5;241;43m.\u001b[39;49m\u001b[43mbody\u001b[49m\u001b[43m,\u001b[49m\n\u001b[1;32m    671\u001b[0m \u001b[43m        \u001b[49m\u001b[43mheaders\u001b[49m\u001b[38;5;241;43m=\u001b[39;49m\u001b[43mrequest\u001b[49m\u001b[38;5;241;43m.\u001b[39;49m\u001b[43mheaders\u001b[49m\u001b[43m,\u001b[49m\n\u001b[1;32m    672\u001b[0m \u001b[43m        \u001b[49m\u001b[43mredirect\u001b[49m\u001b[38;5;241;43m=\u001b[39;49m\u001b[38;5;28;43;01mFalse\u001b[39;49;00m\u001b[43m,\u001b[49m\n\u001b[1;32m    673\u001b[0m \u001b[43m        \u001b[49m\u001b[43massert_same_host\u001b[49m\u001b[38;5;241;43m=\u001b[39;49m\u001b[38;5;28;43;01mFalse\u001b[39;49;00m\u001b[43m,\u001b[49m\n\u001b[1;32m    674\u001b[0m \u001b[43m        \u001b[49m\u001b[43mpreload_content\u001b[49m\u001b[38;5;241;43m=\u001b[39;49m\u001b[38;5;28;43;01mFalse\u001b[39;49;00m\u001b[43m,\u001b[49m\n\u001b[1;32m    675\u001b[0m \u001b[43m        \u001b[49m\u001b[43mdecode_content\u001b[49m\u001b[38;5;241;43m=\u001b[39;49m\u001b[38;5;28;43;01mFalse\u001b[39;49;00m\u001b[43m,\u001b[49m\n\u001b[1;32m    676\u001b[0m \u001b[43m        \u001b[49m\u001b[43mretries\u001b[49m\u001b[38;5;241;43m=\u001b[39;49m\u001b[38;5;28;43mself\u001b[39;49m\u001b[38;5;241;43m.\u001b[39;49m\u001b[43mmax_retries\u001b[49m\u001b[43m,\u001b[49m\n\u001b[1;32m    677\u001b[0m \u001b[43m        \u001b[49m\u001b[43mtimeout\u001b[49m\u001b[38;5;241;43m=\u001b[39;49m\u001b[43mtimeout\u001b[49m\u001b[43m,\u001b[49m\n\u001b[1;32m    678\u001b[0m \u001b[43m        \u001b[49m\u001b[43mchunked\u001b[49m\u001b[38;5;241;43m=\u001b[39;49m\u001b[43mchunked\u001b[49m\u001b[43m,\u001b[49m\n\u001b[1;32m    679\u001b[0m \u001b[43m    \u001b[49m\u001b[43m)\u001b[49m\n\u001b[1;32m    681\u001b[0m \u001b[38;5;28;01mexcept\u001b[39;00m (ProtocolError, \u001b[38;5;167;01mOSError\u001b[39;00m) \u001b[38;5;28;01mas\u001b[39;00m err:\n",
      "File \u001b[0;32m~/anaconda3/envs/Thesis/lib/python3.10/site-packages/urllib3/connectionpool.py:841\u001b[0m, in \u001b[0;36mHTTPConnectionPool.urlopen\u001b[0;34m(self, method, url, body, headers, retries, redirect, assert_same_host, timeout, pool_timeout, release_conn, chunked, body_pos, preload_content, decode_content, **response_kw)\u001b[0m\n\u001b[1;32m    839\u001b[0m     new_e \u001b[38;5;241m=\u001b[39m ProtocolError(\u001b[38;5;124m\"\u001b[39m\u001b[38;5;124mConnection aborted.\u001b[39m\u001b[38;5;124m\"\u001b[39m, new_e)\n\u001b[0;32m--> 841\u001b[0m retries \u001b[38;5;241m=\u001b[39m \u001b[43mretries\u001b[49m\u001b[38;5;241;43m.\u001b[39;49m\u001b[43mincrement\u001b[49m\u001b[43m(\u001b[49m\n\u001b[1;32m    842\u001b[0m \u001b[43m    \u001b[49m\u001b[43mmethod\u001b[49m\u001b[43m,\u001b[49m\u001b[43m \u001b[49m\u001b[43murl\u001b[49m\u001b[43m,\u001b[49m\u001b[43m \u001b[49m\u001b[43merror\u001b[49m\u001b[38;5;241;43m=\u001b[39;49m\u001b[43mnew_e\u001b[49m\u001b[43m,\u001b[49m\u001b[43m \u001b[49m\u001b[43m_pool\u001b[49m\u001b[38;5;241;43m=\u001b[39;49m\u001b[38;5;28;43mself\u001b[39;49m\u001b[43m,\u001b[49m\u001b[43m \u001b[49m\u001b[43m_stacktrace\u001b[49m\u001b[38;5;241;43m=\u001b[39;49m\u001b[43msys\u001b[49m\u001b[38;5;241;43m.\u001b[39;49m\u001b[43mexc_info\u001b[49m\u001b[43m(\u001b[49m\u001b[43m)\u001b[49m\u001b[43m[\u001b[49m\u001b[38;5;241;43m2\u001b[39;49m\u001b[43m]\u001b[49m\n\u001b[1;32m    843\u001b[0m \u001b[43m\u001b[49m\u001b[43m)\u001b[49m\n\u001b[1;32m    844\u001b[0m retries\u001b[38;5;241m.\u001b[39msleep()\n",
      "File \u001b[0;32m~/anaconda3/envs/Thesis/lib/python3.10/site-packages/urllib3/util/retry.py:519\u001b[0m, in \u001b[0;36mRetry.increment\u001b[0;34m(self, method, url, response, error, _pool, _stacktrace)\u001b[0m\n\u001b[1;32m    518\u001b[0m     reason \u001b[38;5;241m=\u001b[39m error \u001b[38;5;129;01mor\u001b[39;00m ResponseError(cause)\n\u001b[0;32m--> 519\u001b[0m     \u001b[38;5;28;01mraise\u001b[39;00m MaxRetryError(_pool, url, reason) \u001b[38;5;28;01mfrom\u001b[39;00m \u001b[38;5;21;01mreason\u001b[39;00m  \u001b[38;5;66;03m# type: ignore[arg-type]\u001b[39;00m\n\u001b[1;32m    521\u001b[0m log\u001b[38;5;241m.\u001b[39mdebug(\u001b[38;5;124m\"\u001b[39m\u001b[38;5;124mIncremented Retry for (url=\u001b[39m\u001b[38;5;124m'\u001b[39m\u001b[38;5;132;01m%s\u001b[39;00m\u001b[38;5;124m'\u001b[39m\u001b[38;5;124m): \u001b[39m\u001b[38;5;132;01m%r\u001b[39;00m\u001b[38;5;124m\"\u001b[39m, url, new_retry)\n",
      "\u001b[0;31mMaxRetryError\u001b[0m: HTTPSConnectionPool(host='fauengtrussed.fau.edu', port=443): Max retries exceeded with url: /provider/generic/chat/completions (Caused by NameResolutionError(\"<urllib3.connection.HTTPSConnection object at 0x78e8935ebd30>: Failed to resolve 'fauengtrussed.fau.edu' ([Errno -3] Temporary failure in name resolution)\"))",
      "\nDuring handling of the above exception, another exception occurred:\n",
      "\u001b[0;31mConnectionError\u001b[0m                           Traceback (most recent call last)",
      "Cell \u001b[0;32mIn[3], line 180\u001b[0m\n\u001b[1;32m    177\u001b[0m synthetic_answer \u001b[38;5;241m=\u001b[39m generate_synthetic_answer(synthetic_question, category, sub_category, mode)\n\u001b[1;32m    179\u001b[0m \u001b[38;5;66;03m# Validate the synthetic answer\u001b[39;00m\n\u001b[0;32m--> 180\u001b[0m validation_status \u001b[38;5;241m=\u001b[39m \u001b[43mvalidate_synthetic_answer\u001b[49m\u001b[43m(\u001b[49m\u001b[43msynthetic_question\u001b[49m\u001b[43m,\u001b[49m\u001b[43m \u001b[49m\u001b[43msynthetic_answer\u001b[49m\u001b[43m,\u001b[49m\u001b[43m \u001b[49m\u001b[43mcategory\u001b[49m\u001b[43m,\u001b[49m\u001b[43m \u001b[49m\u001b[43msub_category\u001b[49m\u001b[43m,\u001b[49m\u001b[43m \u001b[49m\u001b[43mmode\u001b[49m\u001b[43m)\u001b[49m\n\u001b[1;32m    182\u001b[0m \u001b[38;5;66;03m# If validation is \"Unclear\" or \"Incorrect\", retry answer generation once\u001b[39;00m\n\u001b[1;32m    183\u001b[0m \u001b[38;5;28;01mif\u001b[39;00m validation_status \u001b[38;5;129;01min\u001b[39;00m [\u001b[38;5;124m\"\u001b[39m\u001b[38;5;124mUnclear\u001b[39m\u001b[38;5;124m\"\u001b[39m, \u001b[38;5;124m\"\u001b[39m\u001b[38;5;124mIncorrect\u001b[39m\u001b[38;5;124m\"\u001b[39m]:\n",
      "Cell \u001b[0;32mIn[3], line 151\u001b[0m, in \u001b[0;36mvalidate_synthetic_answer\u001b[0;34m(question, answer, category, sub_category, mode)\u001b[0m\n\u001b[1;32m    148\u001b[0m validation_result \u001b[38;5;241m=\u001b[39m \u001b[38;5;124m\"\u001b[39m\u001b[38;5;124m\"\u001b[39m\n\u001b[1;32m    150\u001b[0m \u001b[38;5;28;01mwhile\u001b[39;00m \u001b[38;5;129;01mnot\u001b[39;00m validation_result \u001b[38;5;129;01mor\u001b[39;00m validation_result \u001b[38;5;129;01mnot\u001b[39;00m \u001b[38;5;129;01min\u001b[39;00m [\u001b[38;5;124m\"\u001b[39m\u001b[38;5;124mCorrect\u001b[39m\u001b[38;5;124m\"\u001b[39m, \u001b[38;5;124m\"\u001b[39m\u001b[38;5;124mIncorrect\u001b[39m\u001b[38;5;124m\"\u001b[39m, \u001b[38;5;124m\"\u001b[39m\u001b[38;5;124mUnclear\u001b[39m\u001b[38;5;124m\"\u001b[39m]:\n\u001b[0;32m--> 151\u001b[0m     validation_result \u001b[38;5;241m=\u001b[39m \u001b[43mmake_request_with_retry\u001b[49m\u001b[43m(\u001b[49m\u001b[43mdata\u001b[49m\u001b[43m)\u001b[49m\u001b[38;5;241m.\u001b[39mstrip()\n\u001b[1;32m    153\u001b[0m     \u001b[38;5;28;01mif\u001b[39;00m validation_result \u001b[38;5;129;01mnot\u001b[39;00m \u001b[38;5;129;01min\u001b[39;00m [\u001b[38;5;124m\"\u001b[39m\u001b[38;5;124mCorrect\u001b[39m\u001b[38;5;124m\"\u001b[39m, \u001b[38;5;124m\"\u001b[39m\u001b[38;5;124mIncorrect\u001b[39m\u001b[38;5;124m\"\u001b[39m, \u001b[38;5;124m\"\u001b[39m\u001b[38;5;124mUnclear\u001b[39m\u001b[38;5;124m\"\u001b[39m]:\n\u001b[1;32m    154\u001b[0m         \u001b[38;5;28mprint\u001b[39m(\u001b[38;5;124mf\u001b[39m\u001b[38;5;124m\"\u001b[39m\u001b[38;5;124m⚠️ Warning: Unexpected validation response: \u001b[39m\u001b[38;5;132;01m{\u001b[39;00mvalidation_result\u001b[38;5;132;01m}\u001b[39;00m\u001b[38;5;124m. Retrying...\u001b[39m\u001b[38;5;124m\"\u001b[39m)\n",
      "Cell \u001b[0;32mIn[3], line 30\u001b[0m, in \u001b[0;36mmake_request_with_retry\u001b[0;34m(data, wait_time)\u001b[0m\n\u001b[1;32m     26\u001b[0m \u001b[38;5;250m\u001b[39m\u001b[38;5;124;03m\"\"\"\u001b[39;00m\n\u001b[1;32m     27\u001b[0m \u001b[38;5;124;03mKeeps retrying API requests until a successful response is received.\u001b[39;00m\n\u001b[1;32m     28\u001b[0m \u001b[38;5;124;03m\"\"\"\u001b[39;00m\n\u001b[1;32m     29\u001b[0m \u001b[38;5;28;01mwhile\u001b[39;00m \u001b[38;5;28;01mTrue\u001b[39;00m:\n\u001b[0;32m---> 30\u001b[0m     response \u001b[38;5;241m=\u001b[39m \u001b[43mrequests\u001b[49m\u001b[38;5;241;43m.\u001b[39;49m\u001b[43mpost\u001b[49m\u001b[43m(\u001b[49m\u001b[43mapi_url\u001b[49m\u001b[43m,\u001b[49m\u001b[43m \u001b[49m\u001b[43mheaders\u001b[49m\u001b[38;5;241;43m=\u001b[39;49m\u001b[43mheaders\u001b[49m\u001b[43m,\u001b[49m\u001b[43m \u001b[49m\u001b[43mjson\u001b[49m\u001b[38;5;241;43m=\u001b[39;49m\u001b[43mdata\u001b[49m\u001b[43m)\u001b[49m\n\u001b[1;32m     32\u001b[0m     \u001b[38;5;28;01mif\u001b[39;00m response\u001b[38;5;241m.\u001b[39mstatus_code \u001b[38;5;241m==\u001b[39m \u001b[38;5;241m200\u001b[39m:\n\u001b[1;32m     33\u001b[0m         \u001b[38;5;28;01mreturn\u001b[39;00m response\u001b[38;5;241m.\u001b[39mjson()\u001b[38;5;241m.\u001b[39mget(\u001b[38;5;124m\"\u001b[39m\u001b[38;5;124mchoices\u001b[39m\u001b[38;5;124m\"\u001b[39m, [{}])[\u001b[38;5;241m0\u001b[39m]\u001b[38;5;241m.\u001b[39mget(\u001b[38;5;124m\"\u001b[39m\u001b[38;5;124mmessage\u001b[39m\u001b[38;5;124m\"\u001b[39m, {})\u001b[38;5;241m.\u001b[39mget(\u001b[38;5;124m\"\u001b[39m\u001b[38;5;124mcontent\u001b[39m\u001b[38;5;124m\"\u001b[39m, \u001b[38;5;124m\"\u001b[39m\u001b[38;5;124mError: No response\u001b[39m\u001b[38;5;124m\"\u001b[39m)\n",
      "File \u001b[0;32m~/.local/lib/python3.10/site-packages/requests/api.py:115\u001b[0m, in \u001b[0;36mpost\u001b[0;34m(url, data, json, **kwargs)\u001b[0m\n\u001b[1;32m    103\u001b[0m \u001b[38;5;28;01mdef\u001b[39;00m \u001b[38;5;21mpost\u001b[39m(url, data\u001b[38;5;241m=\u001b[39m\u001b[38;5;28;01mNone\u001b[39;00m, json\u001b[38;5;241m=\u001b[39m\u001b[38;5;28;01mNone\u001b[39;00m, \u001b[38;5;241m*\u001b[39m\u001b[38;5;241m*\u001b[39mkwargs):\n\u001b[1;32m    104\u001b[0m \u001b[38;5;250m    \u001b[39m\u001b[38;5;124mr\u001b[39m\u001b[38;5;124;03m\"\"\"Sends a POST request.\u001b[39;00m\n\u001b[1;32m    105\u001b[0m \n\u001b[1;32m    106\u001b[0m \u001b[38;5;124;03m    :param url: URL for the new :class:`Request` object.\u001b[39;00m\n\u001b[0;32m   (...)\u001b[0m\n\u001b[1;32m    112\u001b[0m \u001b[38;5;124;03m    :rtype: requests.Response\u001b[39;00m\n\u001b[1;32m    113\u001b[0m \u001b[38;5;124;03m    \"\"\"\u001b[39;00m\n\u001b[0;32m--> 115\u001b[0m     \u001b[38;5;28;01mreturn\u001b[39;00m \u001b[43mrequest\u001b[49m\u001b[43m(\u001b[49m\u001b[38;5;124;43m\"\u001b[39;49m\u001b[38;5;124;43mpost\u001b[39;49m\u001b[38;5;124;43m\"\u001b[39;49m\u001b[43m,\u001b[49m\u001b[43m \u001b[49m\u001b[43murl\u001b[49m\u001b[43m,\u001b[49m\u001b[43m \u001b[49m\u001b[43mdata\u001b[49m\u001b[38;5;241;43m=\u001b[39;49m\u001b[43mdata\u001b[49m\u001b[43m,\u001b[49m\u001b[43m \u001b[49m\u001b[43mjson\u001b[49m\u001b[38;5;241;43m=\u001b[39;49m\u001b[43mjson\u001b[49m\u001b[43m,\u001b[49m\u001b[43m \u001b[49m\u001b[38;5;241;43m*\u001b[39;49m\u001b[38;5;241;43m*\u001b[39;49m\u001b[43mkwargs\u001b[49m\u001b[43m)\u001b[49m\n",
      "File \u001b[0;32m~/.local/lib/python3.10/site-packages/requests/api.py:59\u001b[0m, in \u001b[0;36mrequest\u001b[0;34m(method, url, **kwargs)\u001b[0m\n\u001b[1;32m     55\u001b[0m \u001b[38;5;66;03m# By using the 'with' statement we are sure the session is closed, thus we\u001b[39;00m\n\u001b[1;32m     56\u001b[0m \u001b[38;5;66;03m# avoid leaving sockets open which can trigger a ResourceWarning in some\u001b[39;00m\n\u001b[1;32m     57\u001b[0m \u001b[38;5;66;03m# cases, and look like a memory leak in others.\u001b[39;00m\n\u001b[1;32m     58\u001b[0m \u001b[38;5;28;01mwith\u001b[39;00m sessions\u001b[38;5;241m.\u001b[39mSession() \u001b[38;5;28;01mas\u001b[39;00m session:\n\u001b[0;32m---> 59\u001b[0m     \u001b[38;5;28;01mreturn\u001b[39;00m \u001b[43msession\u001b[49m\u001b[38;5;241;43m.\u001b[39;49m\u001b[43mrequest\u001b[49m\u001b[43m(\u001b[49m\u001b[43mmethod\u001b[49m\u001b[38;5;241;43m=\u001b[39;49m\u001b[43mmethod\u001b[49m\u001b[43m,\u001b[49m\u001b[43m \u001b[49m\u001b[43murl\u001b[49m\u001b[38;5;241;43m=\u001b[39;49m\u001b[43murl\u001b[49m\u001b[43m,\u001b[49m\u001b[43m \u001b[49m\u001b[38;5;241;43m*\u001b[39;49m\u001b[38;5;241;43m*\u001b[39;49m\u001b[43mkwargs\u001b[49m\u001b[43m)\u001b[49m\n",
      "File \u001b[0;32m~/.local/lib/python3.10/site-packages/requests/sessions.py:589\u001b[0m, in \u001b[0;36mSession.request\u001b[0;34m(self, method, url, params, data, headers, cookies, files, auth, timeout, allow_redirects, proxies, hooks, stream, verify, cert, json)\u001b[0m\n\u001b[1;32m    584\u001b[0m send_kwargs \u001b[38;5;241m=\u001b[39m {\n\u001b[1;32m    585\u001b[0m     \u001b[38;5;124m\"\u001b[39m\u001b[38;5;124mtimeout\u001b[39m\u001b[38;5;124m\"\u001b[39m: timeout,\n\u001b[1;32m    586\u001b[0m     \u001b[38;5;124m\"\u001b[39m\u001b[38;5;124mallow_redirects\u001b[39m\u001b[38;5;124m\"\u001b[39m: allow_redirects,\n\u001b[1;32m    587\u001b[0m }\n\u001b[1;32m    588\u001b[0m send_kwargs\u001b[38;5;241m.\u001b[39mupdate(settings)\n\u001b[0;32m--> 589\u001b[0m resp \u001b[38;5;241m=\u001b[39m \u001b[38;5;28;43mself\u001b[39;49m\u001b[38;5;241;43m.\u001b[39;49m\u001b[43msend\u001b[49m\u001b[43m(\u001b[49m\u001b[43mprep\u001b[49m\u001b[43m,\u001b[49m\u001b[43m \u001b[49m\u001b[38;5;241;43m*\u001b[39;49m\u001b[38;5;241;43m*\u001b[39;49m\u001b[43msend_kwargs\u001b[49m\u001b[43m)\u001b[49m\n\u001b[1;32m    591\u001b[0m \u001b[38;5;28;01mreturn\u001b[39;00m resp\n",
      "File \u001b[0;32m~/.local/lib/python3.10/site-packages/requests/sessions.py:703\u001b[0m, in \u001b[0;36mSession.send\u001b[0;34m(self, request, **kwargs)\u001b[0m\n\u001b[1;32m    700\u001b[0m start \u001b[38;5;241m=\u001b[39m preferred_clock()\n\u001b[1;32m    702\u001b[0m \u001b[38;5;66;03m# Send the request\u001b[39;00m\n\u001b[0;32m--> 703\u001b[0m r \u001b[38;5;241m=\u001b[39m \u001b[43madapter\u001b[49m\u001b[38;5;241;43m.\u001b[39;49m\u001b[43msend\u001b[49m\u001b[43m(\u001b[49m\u001b[43mrequest\u001b[49m\u001b[43m,\u001b[49m\u001b[43m \u001b[49m\u001b[38;5;241;43m*\u001b[39;49m\u001b[38;5;241;43m*\u001b[39;49m\u001b[43mkwargs\u001b[49m\u001b[43m)\u001b[49m\n\u001b[1;32m    705\u001b[0m \u001b[38;5;66;03m# Total elapsed time of the request (approximately)\u001b[39;00m\n\u001b[1;32m    706\u001b[0m elapsed \u001b[38;5;241m=\u001b[39m preferred_clock() \u001b[38;5;241m-\u001b[39m start\n",
      "File \u001b[0;32m~/.local/lib/python3.10/site-packages/requests/adapters.py:700\u001b[0m, in \u001b[0;36mHTTPAdapter.send\u001b[0;34m(self, request, stream, timeout, verify, cert, proxies)\u001b[0m\n\u001b[1;32m    696\u001b[0m     \u001b[38;5;28;01mif\u001b[39;00m \u001b[38;5;28misinstance\u001b[39m(e\u001b[38;5;241m.\u001b[39mreason, _SSLError):\n\u001b[1;32m    697\u001b[0m         \u001b[38;5;66;03m# This branch is for urllib3 v1.22 and later.\u001b[39;00m\n\u001b[1;32m    698\u001b[0m         \u001b[38;5;28;01mraise\u001b[39;00m SSLError(e, request\u001b[38;5;241m=\u001b[39mrequest)\n\u001b[0;32m--> 700\u001b[0m     \u001b[38;5;28;01mraise\u001b[39;00m \u001b[38;5;167;01mConnectionError\u001b[39;00m(e, request\u001b[38;5;241m=\u001b[39mrequest)\n\u001b[1;32m    702\u001b[0m \u001b[38;5;28;01mexcept\u001b[39;00m ClosedPoolError \u001b[38;5;28;01mas\u001b[39;00m e:\n\u001b[1;32m    703\u001b[0m     \u001b[38;5;28;01mraise\u001b[39;00m \u001b[38;5;167;01mConnectionError\u001b[39;00m(e, request\u001b[38;5;241m=\u001b[39mrequest)\n",
      "\u001b[0;31mConnectionError\u001b[0m: HTTPSConnectionPool(host='fauengtrussed.fau.edu', port=443): Max retries exceeded with url: /provider/generic/chat/completions (Caused by NameResolutionError(\"<urllib3.connection.HTTPSConnection object at 0x78e8935ebd30>: Failed to resolve 'fauengtrussed.fau.edu' ([Errno -3] Temporary failure in name resolution)\"))"
     ]
    }
   ],
   "source": [
    "import os\n",
    "import requests\n",
    "import pandas as pd\n",
    "import time\n",
    "import re\n",
    "from tqdm import tqdm\n",
    "\n",
    "# Replace with your actual Trussed AI API key and endpoint\n",
    "api_key = 'He4E9kjuR31z3NBjiE8Hjzir66Fp7KyBjCWa9qPDBXVntjUw'\n",
    "api_url = 'https://fauengtrussed.fau.edu/provider/generic/chat/completions'\n",
    "\n",
    "# Set up headers for API request\n",
    "headers = {\n",
    "    \"Authorization\": f\"Bearer {api_key}\",\n",
    "    \"Content-Type\": \"application/json\",\n",
    "}\n",
    "\n",
    "# Load dataset\n",
    "file_path = \"SF_train_cleaned.csv\"\n",
    "df = pd.read_csv(file_path, encoding=\"ISO-8859-1\")  # Change nrows to process more data\n",
    "\n",
    "print(f\"Total Questions in Dataset: {len(df)}\")\n",
    "\n",
    "# Function to retry API requests\n",
    "def make_request_with_retry(data, wait_time=60):\n",
    "    \"\"\"\n",
    "    Keeps retrying API requests until a successful response is received.\n",
    "    \"\"\"\n",
    "    while True:\n",
    "        response = requests.post(api_url, headers=headers, json=data)\n",
    "        \n",
    "        if response.status_code == 200:\n",
    "            return response.json().get(\"choices\", [{}])[0].get(\"message\", {}).get(\"content\", \"Error: No response\")\n",
    "        \n",
    "        print(f\"⚠️ Error: {response.status_code} - {response.text}. Retrying in {wait_time} seconds...\")\n",
    "        time.sleep(wait_time) \n",
    "        wait_time += wait_time+60 # Wait before retrying\n",
    "\n",
    "# Function to extract a single synthetic question from the API response\n",
    "def extract_question(response_text):\n",
    "    \"\"\"\n",
    "    Extracts a single valid question from the generated response.\n",
    "    \"\"\"\n",
    "    questions = re.split(r\"\\n?\\d+\\.\\s\", response_text.strip())  # Splits numbered questions (1., 2., etc.)\n",
    "    \n",
    "    # Remove empty entries and unwanted text\n",
    "    questions = [q.strip() for q in questions if q.strip() and \"Error\" not in q]\n",
    "    \n",
    "    return questions[0] if questions else \"Error\"  # Return first valid question\n",
    "\n",
    "# Function to request a synthetic question from Trussed AI\n",
    "def generate_synthetic_question(original_question, category, sub_category, mode):\n",
    "    \"\"\"\n",
    "    Generates a synthetic question with specified difficulty mode.\n",
    "    \"\"\"\n",
    "    difficulty_prompt = {\n",
    "        \"easy\": \"Generate a simple high school physics question that is easy to solve.\",\n",
    "        \"medium\": \"Generate a standard high school physics question with moderate difficulty.\",\n",
    "        \"hard\": \"Generate a challenging high school physics question that requires deep understanding.\"\n",
    "    }\n",
    "    \n",
    "    conversation_history = [\n",
    "        {\"role\": \"system\", \"content\": \"You are a physics expert generating high school physics questions.\"},\n",
    "        {\"role\": \"user\", \"content\": f\"\"\"\n",
    "        {difficulty_prompt[mode]}\n",
    "        The question should belong to the category: {category} and sub-category: {sub_category}.\n",
    "        Here is an example question: {original_question}\n",
    "        Generate a new question based on this example.\n",
    "        \"\"\"}\n",
    "    ]\n",
    "    \n",
    "    data = {\n",
    "        \"model\": \"gpt-4o\",\n",
    "        \"messages\": conversation_history,\n",
    "        \"max_tokens\": 300,\n",
    "        \"temperature\": 0.8\n",
    "    }\n",
    "\n",
    "    synthetic_question = \"\"\n",
    "    \n",
    "    while not synthetic_question or synthetic_question == \"Error\":\n",
    "        generated_text = make_request_with_retry(data)\n",
    "        synthetic_question = extract_question(generated_text)\n",
    "\n",
    "        if synthetic_question == \"Error\":\n",
    "            print(f\"⚠️ Warning: Could not generate a valid question. Retrying...\")\n",
    "            time.sleep(60)  # Wait before retrying\n",
    "\n",
    "    return synthetic_question\n",
    "\n",
    "# Function to request a synthetic answer using Chain of Thought (CoT) prompting\n",
    "def generate_synthetic_answer(question, category, sub_category, mode):\n",
    "    \"\"\"\n",
    "    Generates a synthetic answer with Chain of Thought reasoning.\n",
    "    \"\"\"\n",
    "    conversation_history = [\n",
    "        {\"role\": \"system\", \"content\": \"You are a physics tutor providing detailed step-by-step solutions for high school physics questions.\"},\n",
    "        {\"role\": \"user\", \"content\": f\"\"\"\n",
    "        Provide a detailed and correct answer to the following question:\n",
    "        {question}\n",
    "\n",
    "        - The question belongs to the Category: {category} and Sub-category: {sub_category}.\n",
    "        - The difficulty mode is: {mode}.\n",
    "        - Think step by step before arriving at the final answer.\n",
    "        - Clearly state any physics concepts or formulas used.\n",
    "        - Show the calculations if applicable.\n",
    "        - Ensure the answer is structured and easy to understand.\n",
    "        \"\"\"}\n",
    "    ]\n",
    "    \n",
    "    data = {\n",
    "        \"model\": \"gpt-4o\",\n",
    "        \"messages\": conversation_history,\n",
    "        \"max_tokens\": 800,\n",
    "        \"temperature\": 0.7\n",
    "    }\n",
    "\n",
    "    return make_request_with_retry(data)\n",
    "\n",
    "# Function to validate the synthetic answer\n",
    "def validate_synthetic_answer(question, answer, category, sub_category, mode):\n",
    "    \"\"\"\n",
    "    Uses Trussed AI to verify if the synthetic answer correctly answers the synthetic question.\n",
    "    Returns a validation message: \"Correct\", \"Incorrect\", or \"Unclear\".\n",
    "    \"\"\"\n",
    "    conversation_history = [\n",
    "        {\"role\": \"system\", \"content\": \"You are an AI tutor that validates physics answers.\"},\n",
    "        {\"role\": \"user\", \"content\": f\"\"\"\n",
    "        The question belongs to Category: {category} and Sub-category: {sub_category}.\n",
    "        The difficulty mode is: {mode}.\n",
    "\n",
    "        Does the following answer correctly and completely address the question?\n",
    "        Answer only with 'Correct', 'Incorrect', or 'Unclear'.\n",
    "\n",
    "        Question: {question}\n",
    "\n",
    "        Answer: {answer}\n",
    "        \"\"\"}\n",
    "    ]\n",
    "    \n",
    "    data = {\n",
    "        \"model\": \"gpt-4o\",\n",
    "        \"messages\": conversation_history,\n",
    "        \"max_tokens\": 50,\n",
    "        \"temperature\": 0.5\n",
    "    }\n",
    "\n",
    "    validation_result = \"\"\n",
    "    \n",
    "    while not validation_result or validation_result not in [\"Correct\", \"Incorrect\", \"Unclear\"]:\n",
    "        validation_result = make_request_with_retry(data).strip()\n",
    "        \n",
    "        if validation_result not in [\"Correct\", \"Incorrect\", \"Unclear\"]:\n",
    "            print(f\"⚠️ Warning: Unexpected validation response: {validation_result}. Retrying...\")\n",
    "            time.sleep(30)  # Wait before retrying\n",
    "\n",
    "    return validation_result\n",
    "\n",
    "# Generate synthetic data for each question\n",
    "synthetic_data = []\n",
    "modes = [\"easy\", \"medium\", \"hard\"]\n",
    "\n",
    "for index, row in tqdm(df.iterrows(), total=len(df), desc=\"Generating Synthetic Data\"):\n",
    "    original_question = row[\"Readable_Questions\"]\n",
    "    category = row[\"Category\"]\n",
    "    sub_category = row[\"Sub-category\"]\n",
    "\n",
    "    # Generate 3 synthetic questions per mode (easy, medium, hard)\n",
    "    for mode in modes:\n",
    "        for i in range(3):  # 3 questions per difficulty level\n",
    "            print(f\"🔹 Generating {mode} question {i+1}/3 for: {original_question[:50]}...\")\n",
    "\n",
    "            # Generate synthetic question\n",
    "            synthetic_question = generate_synthetic_question(original_question, category, sub_category, mode)\n",
    "\n",
    "            # Generate synthetic answer\n",
    "            synthetic_answer = generate_synthetic_answer(synthetic_question, category, sub_category, mode)\n",
    "\n",
    "            # Validate the synthetic answer\n",
    "            validation_status = validate_synthetic_answer(synthetic_question, synthetic_answer, category, sub_category, mode)\n",
    "\n",
    "            # If validation is \"Unclear\" or \"Incorrect\", retry answer generation once\n",
    "            if validation_status in [\"Unclear\", \"Incorrect\"]:\n",
    "                print(f\"⚠️ Validation failed ({validation_status}). Regenerating answer once...\")\n",
    "                synthetic_answer = generate_synthetic_answer(synthetic_question, category, sub_category, mode)\n",
    "                validation_status = validate_synthetic_answer(synthetic_question, synthetic_answer, category, sub_category, mode)\n",
    "\n",
    "            synthetic_data.append({\n",
    "                \"Original_Question\": original_question,\n",
    "                \"Category\": category,\n",
    "                \"Sub_category\": sub_category,\n",
    "                \"Mode\": mode,\n",
    "                \"Synthetic_Question\": synthetic_question,\n",
    "                \"Synthetic_Answer\": synthetic_answer,\n",
    "                \"Validation_Status\": validation_status  # New Column\n",
    "            })\n",
    "\n",
    "# Convert synthetic data to DataFrame and remove empty rows\n",
    "df_synthetic = pd.DataFrame(synthetic_data)\n",
    "df_synthetic = df_synthetic[df_synthetic[\"Synthetic_Question\"] != \"\"]  # Remove empty questions\n",
    "\n",
    "# Save Synthetic Data\n",
    "synthetic_file_path = \"synthetic_physics_questions_fixed.csv\"\n",
    "df_synthetic.to_csv(synthetic_file_path, index=False)\n",
    "\n",
    "display(df_synthetic)\n",
    "print(f\"Synthetic dataset generated and saved as {synthetic_file_path}\")\n"
   ]
  },
  {
   "cell_type": "code",
   "execution_count": null,
   "id": "c8c7bdb0-e3e7-446d-95e7-0a6a8492d476",
   "metadata": {},
   "outputs": [],
   "source": []
  }
 ],
 "metadata": {
  "kernelspec": {
   "display_name": "Thesis",
   "language": "python",
   "name": "thesis"
  },
  "language_info": {
   "codemirror_mode": {
    "name": "ipython",
    "version": 3
   },
   "file_extension": ".py",
   "mimetype": "text/x-python",
   "name": "python",
   "nbconvert_exporter": "python",
   "pygments_lexer": "ipython3",
   "version": "3.10.16"
  }
 },
 "nbformat": 4,
 "nbformat_minor": 5
}
